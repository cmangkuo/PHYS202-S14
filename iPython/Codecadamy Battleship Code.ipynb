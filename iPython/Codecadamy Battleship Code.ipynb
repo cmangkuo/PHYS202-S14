{
 "metadata": {
  "name": "",
  "signature": "sha256:ce0cde7b48efe135c4da7c7b0cc12211cbc59c0d259bb699164d56e6fa625787"
 },
 "nbformat": 3,
 "nbformat_minor": 0,
 "worksheets": [
  {
   "cells": [
    {
     "cell_type": "code",
     "collapsed": false,
     "input": [
      "from random import randint\n",
      "\n",
      "board = []\n",
      "\n",
      "for x in range(5):\n",
      "    board.append([\"O\"] * 5)\n",
      "\n",
      "def print_board(board):\n",
      "    for row in board:\n",
      "        print \" \".join(row)\n",
      "\n",
      "print \"Let's play Battleship!\"\n",
      "print_board(board)\n",
      "\n",
      "def random_row(board):\n",
      "    return randint(0, len(board) - 1)\n",
      "\n",
      "def random_col(board):\n",
      "    return randint(0, len(board[0]) - 1)\n",
      "\n",
      "ship_row = random_row(board)\n",
      "ship_col = random_col(board)\n",
      "print ship_row\n",
      "print ship_col\n",
      "\n",
      "# Everything from here on should go in your for loop!\n",
      "# Be sure to indent four spaces!\n",
      "for turn in range(4):\n",
      "    guess_row = int(raw_input(\"Guess Row:\"))\n",
      "    guess_col = int(raw_input(\"Guess Col:\"))\n",
      "\n",
      "    if guess_row == ship_row and guess_col == ship_col:\n",
      "        print \"Congratulations! You sunk my battleship!\"\n",
      "        break\n",
      "    else:\n",
      "        if (guess_row < 0 or guess_row > 4) or (guess_col < 0 or guess_col > 4):\n",
      "            print \"Oops, that's not even in the ocean.\"\n",
      "            if turn == 3:\n",
      "                print \"Game Over\"\n",
      "                break\n",
      "        elif(board[guess_row][guess_col] == \"X\"):\n",
      "            print \"You guessed that one already.\"\n",
      "            if turn == 3:\n",
      "                print \"Game Over\"\n",
      "                break\n",
      "        else:\n",
      "            print \"You missed my battleship!\"\n",
      "            board[guess_row][guess_col] = \"X\"\n",
      "            if turn == 3:\n",
      "                print \"Game Over\"\n",
      "                break\n",
      "    print \"Turn \" ,turn+1\n",
      "    print_board(board)"
     ],
     "language": "python",
     "metadata": {},
     "outputs": [
      {
       "output_type": "stream",
       "stream": "stdout",
       "text": [
        "Let's play Battleship!\n",
        "O O O O O\n",
        "O O O O O\n",
        "O O O O O\n",
        "O O O O O\n",
        "O O O O O\n",
        "0\n",
        "3\n"
       ]
      },
      {
       "name": "stdout",
       "output_type": "stream",
       "stream": "stdout",
       "text": [
        "Guess Row:0\n"
       ]
      },
      {
       "name": "stdout",
       "output_type": "stream",
       "stream": "stdout",
       "text": [
        "Guess Col:3\n"
       ]
      },
      {
       "output_type": "stream",
       "stream": "stdout",
       "text": [
        "Congratulations! You sunk my battleship!\n"
       ]
      }
     ],
     "prompt_number": 1
    },
    {
     "cell_type": "code",
     "collapsed": false,
     "input": [],
     "language": "python",
     "metadata": {},
     "outputs": []
    }
   ],
   "metadata": {}
  }
 ]
}