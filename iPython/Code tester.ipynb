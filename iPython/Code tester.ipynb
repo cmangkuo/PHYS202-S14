{
 "metadata": {
  "name": "",
  "signature": "sha256:7dc2d2e762e245adff89aacc363d094c13c8e5895212e6042d46b0bb7e5edf4d"
 },
 "nbformat": 3,
 "nbformat_minor": 0,
 "worksheets": [
  {
   "cells": [
    {
     "cell_type": "markdown",
     "metadata": {},
     "source": [
      "Notebook just for testing bits and pieces of the battleship code"
     ]
    },
    {
     "cell_type": "code",
     "collapsed": false,
     "input": [
      "from random import randint\n",
      "from ipythonblocks import BlockGrid\n",
      "from ipythonblocks import colors\n",
      "yourboard = BlockGrid(8,8, fill = colors['Aqua'])\n",
      "yourboard\n"
     ],
     "language": "python",
     "metadata": {},
     "outputs": [
      {
       "html": [
        "<style type=\"text/css\">table.blockgrid {border: none;} .blockgrid tr {border: none;} .blockgrid td {padding: 0px;} #blocks782c58c8-4b79-408c-943c-d7f7c5c9caa7 td {border: 1px solid white;}</style><table id=\"blocks782c58c8-4b79-408c-943c-d7f7c5c9caa7\" class=\"blockgrid\"><tbody><tr><td title=\"Index: [0, 0]&#10;Color: (0, 255, 255)\" style=\"width: 20px; height: 20px;background-color: rgb(0, 255, 255);\"></td><td title=\"Index: [0, 1]&#10;Color: (0, 255, 255)\" style=\"width: 20px; height: 20px;background-color: rgb(0, 255, 255);\"></td><td title=\"Index: [0, 2]&#10;Color: (0, 255, 255)\" style=\"width: 20px; height: 20px;background-color: rgb(0, 255, 255);\"></td><td title=\"Index: [0, 3]&#10;Color: (0, 255, 255)\" style=\"width: 20px; height: 20px;background-color: rgb(0, 255, 255);\"></td><td title=\"Index: [0, 4]&#10;Color: (0, 255, 255)\" style=\"width: 20px; height: 20px;background-color: rgb(0, 255, 255);\"></td><td title=\"Index: [0, 5]&#10;Color: (0, 255, 255)\" style=\"width: 20px; height: 20px;background-color: rgb(0, 255, 255);\"></td><td title=\"Index: [0, 6]&#10;Color: (0, 255, 255)\" style=\"width: 20px; height: 20px;background-color: rgb(0, 255, 255);\"></td><td title=\"Index: [0, 7]&#10;Color: (0, 255, 255)\" style=\"width: 20px; height: 20px;background-color: rgb(0, 255, 255);\"></td></tr><tr><td title=\"Index: [1, 0]&#10;Color: (0, 255, 255)\" style=\"width: 20px; height: 20px;background-color: rgb(0, 255, 255);\"></td><td title=\"Index: [1, 1]&#10;Color: (0, 255, 255)\" style=\"width: 20px; height: 20px;background-color: rgb(0, 255, 255);\"></td><td title=\"Index: [1, 2]&#10;Color: (0, 255, 255)\" style=\"width: 20px; height: 20px;background-color: rgb(0, 255, 255);\"></td><td title=\"Index: [1, 3]&#10;Color: (0, 255, 255)\" style=\"width: 20px; height: 20px;background-color: rgb(0, 255, 255);\"></td><td title=\"Index: [1, 4]&#10;Color: (0, 255, 255)\" style=\"width: 20px; height: 20px;background-color: rgb(0, 255, 255);\"></td><td title=\"Index: [1, 5]&#10;Color: (0, 255, 255)\" style=\"width: 20px; height: 20px;background-color: rgb(0, 255, 255);\"></td><td title=\"Index: [1, 6]&#10;Color: (0, 255, 255)\" style=\"width: 20px; height: 20px;background-color: rgb(0, 255, 255);\"></td><td title=\"Index: [1, 7]&#10;Color: (0, 255, 255)\" style=\"width: 20px; height: 20px;background-color: rgb(0, 255, 255);\"></td></tr><tr><td title=\"Index: [2, 0]&#10;Color: (0, 255, 255)\" style=\"width: 20px; height: 20px;background-color: rgb(0, 255, 255);\"></td><td title=\"Index: [2, 1]&#10;Color: (0, 255, 255)\" style=\"width: 20px; height: 20px;background-color: rgb(0, 255, 255);\"></td><td title=\"Index: [2, 2]&#10;Color: (0, 255, 255)\" style=\"width: 20px; height: 20px;background-color: rgb(0, 255, 255);\"></td><td title=\"Index: [2, 3]&#10;Color: (0, 255, 255)\" style=\"width: 20px; height: 20px;background-color: rgb(0, 255, 255);\"></td><td title=\"Index: [2, 4]&#10;Color: (0, 255, 255)\" style=\"width: 20px; height: 20px;background-color: rgb(0, 255, 255);\"></td><td title=\"Index: [2, 5]&#10;Color: (0, 255, 255)\" style=\"width: 20px; height: 20px;background-color: rgb(0, 255, 255);\"></td><td title=\"Index: [2, 6]&#10;Color: (0, 255, 255)\" style=\"width: 20px; height: 20px;background-color: rgb(0, 255, 255);\"></td><td title=\"Index: [2, 7]&#10;Color: (0, 255, 255)\" style=\"width: 20px; height: 20px;background-color: rgb(0, 255, 255);\"></td></tr><tr><td title=\"Index: [3, 0]&#10;Color: (0, 255, 255)\" style=\"width: 20px; height: 20px;background-color: rgb(0, 255, 255);\"></td><td title=\"Index: [3, 1]&#10;Color: (0, 255, 255)\" style=\"width: 20px; height: 20px;background-color: rgb(0, 255, 255);\"></td><td title=\"Index: [3, 2]&#10;Color: (0, 255, 255)\" style=\"width: 20px; height: 20px;background-color: rgb(0, 255, 255);\"></td><td title=\"Index: [3, 3]&#10;Color: (0, 255, 255)\" style=\"width: 20px; height: 20px;background-color: rgb(0, 255, 255);\"></td><td title=\"Index: [3, 4]&#10;Color: (0, 255, 255)\" style=\"width: 20px; height: 20px;background-color: rgb(0, 255, 255);\"></td><td title=\"Index: [3, 5]&#10;Color: (0, 255, 255)\" style=\"width: 20px; height: 20px;background-color: rgb(0, 255, 255);\"></td><td title=\"Index: [3, 6]&#10;Color: (0, 255, 255)\" style=\"width: 20px; height: 20px;background-color: rgb(0, 255, 255);\"></td><td title=\"Index: [3, 7]&#10;Color: (0, 255, 255)\" style=\"width: 20px; height: 20px;background-color: rgb(0, 255, 255);\"></td></tr><tr><td title=\"Index: [4, 0]&#10;Color: (0, 255, 255)\" style=\"width: 20px; height: 20px;background-color: rgb(0, 255, 255);\"></td><td title=\"Index: [4, 1]&#10;Color: (0, 255, 255)\" style=\"width: 20px; height: 20px;background-color: rgb(0, 255, 255);\"></td><td title=\"Index: [4, 2]&#10;Color: (0, 255, 255)\" style=\"width: 20px; height: 20px;background-color: rgb(0, 255, 255);\"></td><td title=\"Index: [4, 3]&#10;Color: (0, 255, 255)\" style=\"width: 20px; height: 20px;background-color: rgb(0, 255, 255);\"></td><td title=\"Index: [4, 4]&#10;Color: (0, 255, 255)\" style=\"width: 20px; height: 20px;background-color: rgb(0, 255, 255);\"></td><td title=\"Index: [4, 5]&#10;Color: (0, 255, 255)\" style=\"width: 20px; height: 20px;background-color: rgb(0, 255, 255);\"></td><td title=\"Index: [4, 6]&#10;Color: (0, 255, 255)\" style=\"width: 20px; height: 20px;background-color: rgb(0, 255, 255);\"></td><td title=\"Index: [4, 7]&#10;Color: (0, 255, 255)\" style=\"width: 20px; height: 20px;background-color: rgb(0, 255, 255);\"></td></tr><tr><td title=\"Index: [5, 0]&#10;Color: (0, 255, 255)\" style=\"width: 20px; height: 20px;background-color: rgb(0, 255, 255);\"></td><td title=\"Index: [5, 1]&#10;Color: (0, 255, 255)\" style=\"width: 20px; height: 20px;background-color: rgb(0, 255, 255);\"></td><td title=\"Index: [5, 2]&#10;Color: (0, 255, 255)\" style=\"width: 20px; height: 20px;background-color: rgb(0, 255, 255);\"></td><td title=\"Index: [5, 3]&#10;Color: (0, 255, 255)\" style=\"width: 20px; height: 20px;background-color: rgb(0, 255, 255);\"></td><td title=\"Index: [5, 4]&#10;Color: (0, 255, 255)\" style=\"width: 20px; height: 20px;background-color: rgb(0, 255, 255);\"></td><td title=\"Index: [5, 5]&#10;Color: (0, 255, 255)\" style=\"width: 20px; height: 20px;background-color: rgb(0, 255, 255);\"></td><td title=\"Index: [5, 6]&#10;Color: (0, 255, 255)\" style=\"width: 20px; height: 20px;background-color: rgb(0, 255, 255);\"></td><td title=\"Index: [5, 7]&#10;Color: (0, 255, 255)\" style=\"width: 20px; height: 20px;background-color: rgb(0, 255, 255);\"></td></tr><tr><td title=\"Index: [6, 0]&#10;Color: (0, 255, 255)\" style=\"width: 20px; height: 20px;background-color: rgb(0, 255, 255);\"></td><td title=\"Index: [6, 1]&#10;Color: (0, 255, 255)\" style=\"width: 20px; height: 20px;background-color: rgb(0, 255, 255);\"></td><td title=\"Index: [6, 2]&#10;Color: (0, 255, 255)\" style=\"width: 20px; height: 20px;background-color: rgb(0, 255, 255);\"></td><td title=\"Index: [6, 3]&#10;Color: (0, 255, 255)\" style=\"width: 20px; height: 20px;background-color: rgb(0, 255, 255);\"></td><td title=\"Index: [6, 4]&#10;Color: (0, 255, 255)\" style=\"width: 20px; height: 20px;background-color: rgb(0, 255, 255);\"></td><td title=\"Index: [6, 5]&#10;Color: (0, 255, 255)\" style=\"width: 20px; height: 20px;background-color: rgb(0, 255, 255);\"></td><td title=\"Index: [6, 6]&#10;Color: (0, 255, 255)\" style=\"width: 20px; height: 20px;background-color: rgb(0, 255, 255);\"></td><td title=\"Index: [6, 7]&#10;Color: (0, 255, 255)\" style=\"width: 20px; height: 20px;background-color: rgb(0, 255, 255);\"></td></tr><tr><td title=\"Index: [7, 0]&#10;Color: (0, 255, 255)\" style=\"width: 20px; height: 20px;background-color: rgb(0, 255, 255);\"></td><td title=\"Index: [7, 1]&#10;Color: (0, 255, 255)\" style=\"width: 20px; height: 20px;background-color: rgb(0, 255, 255);\"></td><td title=\"Index: [7, 2]&#10;Color: (0, 255, 255)\" style=\"width: 20px; height: 20px;background-color: rgb(0, 255, 255);\"></td><td title=\"Index: [7, 3]&#10;Color: (0, 255, 255)\" style=\"width: 20px; height: 20px;background-color: rgb(0, 255, 255);\"></td><td title=\"Index: [7, 4]&#10;Color: (0, 255, 255)\" style=\"width: 20px; height: 20px;background-color: rgb(0, 255, 255);\"></td><td title=\"Index: [7, 5]&#10;Color: (0, 255, 255)\" style=\"width: 20px; height: 20px;background-color: rgb(0, 255, 255);\"></td><td title=\"Index: [7, 6]&#10;Color: (0, 255, 255)\" style=\"width: 20px; height: 20px;background-color: rgb(0, 255, 255);\"></td><td title=\"Index: [7, 7]&#10;Color: (0, 255, 255)\" style=\"width: 20px; height: 20px;background-color: rgb(0, 255, 255);\"></td></tr></tbody></table>"
       ],
       "metadata": {},
       "output_type": "pyout",
       "prompt_number": 1,
       "text": [
        "<ipythonblocks.ipythonblocks.BlockGrid at 0x40a20b8>"
       ]
      }
     ],
     "prompt_number": 1
    },
    {
     "cell_type": "code",
     "collapsed": false,
     "input": [
      "compboard = BlockGrid (8,8, fill = colors['Aqua'])\n",
      "compboard\n",
      "compboard[ship_row,ship_col] = colors['Red']\n",
      "compboard[ship_row+1,ship_col] = colors['Red']\n",
      "compboard"
     ],
     "language": "python",
     "metadata": {},
     "outputs": [
      {
       "html": [
        "<style type=\"text/css\">table.blockgrid {border: none;} .blockgrid tr {border: none;} .blockgrid td {padding: 0px;} #blocksdddfac1a-87e2-471d-a06a-253a9f6be929 td {border: 1px solid white;}</style><table id=\"blocksdddfac1a-87e2-471d-a06a-253a9f6be929\" class=\"blockgrid\"><tbody><tr><td title=\"Index: [0, 0]&#10;Color: (0, 255, 255)\" style=\"width: 20px; height: 20px;background-color: rgb(0, 255, 255);\"></td><td title=\"Index: [0, 1]&#10;Color: (0, 255, 255)\" style=\"width: 20px; height: 20px;background-color: rgb(0, 255, 255);\"></td><td title=\"Index: [0, 2]&#10;Color: (0, 255, 255)\" style=\"width: 20px; height: 20px;background-color: rgb(0, 255, 255);\"></td><td title=\"Index: [0, 3]&#10;Color: (0, 255, 255)\" style=\"width: 20px; height: 20px;background-color: rgb(0, 255, 255);\"></td><td title=\"Index: [0, 4]&#10;Color: (0, 255, 255)\" style=\"width: 20px; height: 20px;background-color: rgb(0, 255, 255);\"></td><td title=\"Index: [0, 5]&#10;Color: (0, 255, 255)\" style=\"width: 20px; height: 20px;background-color: rgb(0, 255, 255);\"></td><td title=\"Index: [0, 6]&#10;Color: (0, 255, 255)\" style=\"width: 20px; height: 20px;background-color: rgb(0, 255, 255);\"></td><td title=\"Index: [0, 7]&#10;Color: (0, 255, 255)\" style=\"width: 20px; height: 20px;background-color: rgb(0, 255, 255);\"></td></tr><tr><td title=\"Index: [1, 0]&#10;Color: (0, 255, 255)\" style=\"width: 20px; height: 20px;background-color: rgb(0, 255, 255);\"></td><td title=\"Index: [1, 1]&#10;Color: (0, 255, 255)\" style=\"width: 20px; height: 20px;background-color: rgb(0, 255, 255);\"></td><td title=\"Index: [1, 2]&#10;Color: (0, 255, 255)\" style=\"width: 20px; height: 20px;background-color: rgb(0, 255, 255);\"></td><td title=\"Index: [1, 3]&#10;Color: (0, 255, 255)\" style=\"width: 20px; height: 20px;background-color: rgb(0, 255, 255);\"></td><td title=\"Index: [1, 4]&#10;Color: (0, 255, 255)\" style=\"width: 20px; height: 20px;background-color: rgb(0, 255, 255);\"></td><td title=\"Index: [1, 5]&#10;Color: (0, 255, 255)\" style=\"width: 20px; height: 20px;background-color: rgb(0, 255, 255);\"></td><td title=\"Index: [1, 6]&#10;Color: (0, 255, 255)\" style=\"width: 20px; height: 20px;background-color: rgb(0, 255, 255);\"></td><td title=\"Index: [1, 7]&#10;Color: (0, 255, 255)\" style=\"width: 20px; height: 20px;background-color: rgb(0, 255, 255);\"></td></tr><tr><td title=\"Index: [2, 0]&#10;Color: (0, 255, 255)\" style=\"width: 20px; height: 20px;background-color: rgb(0, 255, 255);\"></td><td title=\"Index: [2, 1]&#10;Color: (0, 255, 255)\" style=\"width: 20px; height: 20px;background-color: rgb(0, 255, 255);\"></td><td title=\"Index: [2, 2]&#10;Color: (0, 255, 255)\" style=\"width: 20px; height: 20px;background-color: rgb(0, 255, 255);\"></td><td title=\"Index: [2, 3]&#10;Color: (0, 255, 255)\" style=\"width: 20px; height: 20px;background-color: rgb(0, 255, 255);\"></td><td title=\"Index: [2, 4]&#10;Color: (0, 255, 255)\" style=\"width: 20px; height: 20px;background-color: rgb(0, 255, 255);\"></td><td title=\"Index: [2, 5]&#10;Color: (0, 255, 255)\" style=\"width: 20px; height: 20px;background-color: rgb(0, 255, 255);\"></td><td title=\"Index: [2, 6]&#10;Color: (0, 255, 255)\" style=\"width: 20px; height: 20px;background-color: rgb(0, 255, 255);\"></td><td title=\"Index: [2, 7]&#10;Color: (0, 255, 255)\" style=\"width: 20px; height: 20px;background-color: rgb(0, 255, 255);\"></td></tr><tr><td title=\"Index: [3, 0]&#10;Color: (0, 255, 255)\" style=\"width: 20px; height: 20px;background-color: rgb(0, 255, 255);\"></td><td title=\"Index: [3, 1]&#10;Color: (0, 255, 255)\" style=\"width: 20px; height: 20px;background-color: rgb(0, 255, 255);\"></td><td title=\"Index: [3, 2]&#10;Color: (0, 255, 255)\" style=\"width: 20px; height: 20px;background-color: rgb(0, 255, 255);\"></td><td title=\"Index: [3, 3]&#10;Color: (0, 255, 255)\" style=\"width: 20px; height: 20px;background-color: rgb(0, 255, 255);\"></td><td title=\"Index: [3, 4]&#10;Color: (0, 255, 255)\" style=\"width: 20px; height: 20px;background-color: rgb(0, 255, 255);\"></td><td title=\"Index: [3, 5]&#10;Color: (0, 255, 255)\" style=\"width: 20px; height: 20px;background-color: rgb(0, 255, 255);\"></td><td title=\"Index: [3, 6]&#10;Color: (0, 255, 255)\" style=\"width: 20px; height: 20px;background-color: rgb(0, 255, 255);\"></td><td title=\"Index: [3, 7]&#10;Color: (0, 255, 255)\" style=\"width: 20px; height: 20px;background-color: rgb(0, 255, 255);\"></td></tr><tr><td title=\"Index: [4, 0]&#10;Color: (0, 255, 255)\" style=\"width: 20px; height: 20px;background-color: rgb(0, 255, 255);\"></td><td title=\"Index: [4, 1]&#10;Color: (0, 255, 255)\" style=\"width: 20px; height: 20px;background-color: rgb(0, 255, 255);\"></td><td title=\"Index: [4, 2]&#10;Color: (0, 255, 255)\" style=\"width: 20px; height: 20px;background-color: rgb(0, 255, 255);\"></td><td title=\"Index: [4, 3]&#10;Color: (0, 255, 255)\" style=\"width: 20px; height: 20px;background-color: rgb(0, 255, 255);\"></td><td title=\"Index: [4, 4]&#10;Color: (0, 255, 255)\" style=\"width: 20px; height: 20px;background-color: rgb(0, 255, 255);\"></td><td title=\"Index: [4, 5]&#10;Color: (0, 255, 255)\" style=\"width: 20px; height: 20px;background-color: rgb(0, 255, 255);\"></td><td title=\"Index: [4, 6]&#10;Color: (0, 255, 255)\" style=\"width: 20px; height: 20px;background-color: rgb(0, 255, 255);\"></td><td title=\"Index: [4, 7]&#10;Color: (0, 255, 255)\" style=\"width: 20px; height: 20px;background-color: rgb(0, 255, 255);\"></td></tr><tr><td title=\"Index: [5, 0]&#10;Color: (0, 255, 255)\" style=\"width: 20px; height: 20px;background-color: rgb(0, 255, 255);\"></td><td title=\"Index: [5, 1]&#10;Color: (0, 255, 255)\" style=\"width: 20px; height: 20px;background-color: rgb(0, 255, 255);\"></td><td title=\"Index: [5, 2]&#10;Color: (0, 255, 255)\" style=\"width: 20px; height: 20px;background-color: rgb(0, 255, 255);\"></td><td title=\"Index: [5, 3]&#10;Color: (0, 255, 255)\" style=\"width: 20px; height: 20px;background-color: rgb(0, 255, 255);\"></td><td title=\"Index: [5, 4]&#10;Color: (0, 255, 255)\" style=\"width: 20px; height: 20px;background-color: rgb(0, 255, 255);\"></td><td title=\"Index: [5, 5]&#10;Color: (0, 255, 255)\" style=\"width: 20px; height: 20px;background-color: rgb(0, 255, 255);\"></td><td title=\"Index: [5, 6]&#10;Color: (0, 255, 255)\" style=\"width: 20px; height: 20px;background-color: rgb(0, 255, 255);\"></td><td title=\"Index: [5, 7]&#10;Color: (0, 255, 255)\" style=\"width: 20px; height: 20px;background-color: rgb(0, 255, 255);\"></td></tr><tr><td title=\"Index: [6, 0]&#10;Color: (0, 255, 255)\" style=\"width: 20px; height: 20px;background-color: rgb(0, 255, 255);\"></td><td title=\"Index: [6, 1]&#10;Color: (0, 255, 255)\" style=\"width: 20px; height: 20px;background-color: rgb(0, 255, 255);\"></td><td title=\"Index: [6, 2]&#10;Color: (0, 255, 255)\" style=\"width: 20px; height: 20px;background-color: rgb(0, 255, 255);\"></td><td title=\"Index: [6, 3]&#10;Color: (0, 255, 255)\" style=\"width: 20px; height: 20px;background-color: rgb(0, 255, 255);\"></td><td title=\"Index: [6, 4]&#10;Color: (0, 255, 255)\" style=\"width: 20px; height: 20px;background-color: rgb(0, 255, 255);\"></td><td title=\"Index: [6, 5]&#10;Color: (255, 0, 0)\" style=\"width: 20px; height: 20px;background-color: rgb(255, 0, 0);\"></td><td title=\"Index: [6, 6]&#10;Color: (0, 255, 255)\" style=\"width: 20px; height: 20px;background-color: rgb(0, 255, 255);\"></td><td title=\"Index: [6, 7]&#10;Color: (0, 255, 255)\" style=\"width: 20px; height: 20px;background-color: rgb(0, 255, 255);\"></td></tr><tr><td title=\"Index: [7, 0]&#10;Color: (0, 255, 255)\" style=\"width: 20px; height: 20px;background-color: rgb(0, 255, 255);\"></td><td title=\"Index: [7, 1]&#10;Color: (0, 255, 255)\" style=\"width: 20px; height: 20px;background-color: rgb(0, 255, 255);\"></td><td title=\"Index: [7, 2]&#10;Color: (0, 255, 255)\" style=\"width: 20px; height: 20px;background-color: rgb(0, 255, 255);\"></td><td title=\"Index: [7, 3]&#10;Color: (0, 255, 255)\" style=\"width: 20px; height: 20px;background-color: rgb(0, 255, 255);\"></td><td title=\"Index: [7, 4]&#10;Color: (0, 255, 255)\" style=\"width: 20px; height: 20px;background-color: rgb(0, 255, 255);\"></td><td title=\"Index: [7, 5]&#10;Color: (255, 0, 0)\" style=\"width: 20px; height: 20px;background-color: rgb(255, 0, 0);\"></td><td title=\"Index: [7, 6]&#10;Color: (0, 255, 255)\" style=\"width: 20px; height: 20px;background-color: rgb(0, 255, 255);\"></td><td title=\"Index: [7, 7]&#10;Color: (0, 255, 255)\" style=\"width: 20px; height: 20px;background-color: rgb(0, 255, 255);\"></td></tr></tbody></table>"
       ],
       "metadata": {},
       "output_type": "pyout",
       "prompt_number": 20,
       "text": [
        "<ipythonblocks.ipythonblocks.BlockGrid at 0x41a2d30>"
       ]
      }
     ],
     "prompt_number": 20
    },
    {
     "cell_type": "code",
     "collapsed": false,
     "input": [
      "def random_row(yourboard):\n",
      "    return randint(0, compboard.height - 1)\n",
      "\n",
      "def random_col(yourboard):\n",
      "    return randint(0, compboard.width - 1)\n",
      "\n",
      "ship_row = random_row(yourboard)\n",
      "ship_col = random_col(yourboard)\n",
      "print ship_row\n",
      "print ship_col\n"
     ],
     "language": "python",
     "metadata": {},
     "outputs": [
      {
       "output_type": "stream",
       "stream": "stdout",
       "text": [
        "6\n",
        "5\n"
       ]
      }
     ],
     "prompt_number": 5
    },
    {
     "cell_type": "code",
     "collapsed": false,
     "input": [
      "\n",
      "ship_col "
     ],
     "language": "python",
     "metadata": {},
     "outputs": [
      {
       "metadata": {},
       "output_type": "pyout",
       "prompt_number": 18,
       "text": [
        "5"
       ]
      }
     ],
     "prompt_number": 18
    },
    {
     "cell_type": "code",
     "collapsed": false,
     "input": [
      "length = randint (2,5)\n",
      "print length\n",
      "turns = 10 + length\n",
      "print turns\n",
      "print \"You have\",turns ,\"turns to sink my ship!\"     "
     ],
     "language": "python",
     "metadata": {},
     "outputs": [
      {
       "output_type": "stream",
       "stream": "stdout",
       "text": [
        "3\n",
        "13\n",
        "You have 13 turns to sink my ship!\n"
       ]
      }
     ],
     "prompt_number": 29
    },
    {
     "cell_type": "code",
     "collapsed": false,
     "input": [
      "#whether the ship is vertically or horizontally\n",
      "orientation = []\n",
      "n = randint(1,2)\n",
      "if n == 1:\n",
      "    orientation.append('Vertical')\n",
      "else:\n",
      "    orientation.append('Horizontal')\n",
      "#what direction the additional ship space takes\n",
      "direction = []\n",
      "if orientation == ['Vertical']:\n",
      "    if ship_row - length < 0:\n",
      "        direction.append('Positive')\n",
      "    else:\n",
      "        direction.append('Negative')\n",
      "elif orientation == ['Horizontal']:\n",
      "    if ship_col - length < 0:\n",
      "        direction.append('Positive')\n",
      "    else:\n",
      "        direction.append('Negative')\n",
      "print direction\n",
      "print orientation\n",
      "\n",
      "length = length - 1\n",
      "while length > 0:\n",
      "    if orientation == ['Vertical']:\n",
      "        if direction == ['Positive']:\n",
      "            compboard[ship_row + 1,ship_col] = colors['Red']\n",
      "            length -=1\n",
      "        elif direction == ['Negative']:\n",
      "            compboard[ship_row -1, ship_col] = colors['Red']\n",
      "            length -=1\n",
      "    elif orientation == ['Horizontal']:\n",
      "         if direction == ['Positive']:\n",
      "            compboard[ship_row,ship_col+1] = colors['Red']\n",
      "            length -=1\n",
      "         elif direction == ['Negative']:\n",
      "            compboard[ship_row, ship_col-1] = colors['Red']\n",
      "            length -=1\n",
      "compboard"
     ],
     "language": "python",
     "metadata": {},
     "outputs": [
      {
       "output_type": "stream",
       "stream": "stdout",
       "text": [
        "['Negative']\n",
        "['Vertical']\n"
       ]
      },
      {
       "html": [
        "<style type=\"text/css\">table.blockgrid {border: none;} .blockgrid tr {border: none;} .blockgrid td {padding: 0px;} #blocksbeb7cdc3-36da-4c3f-8a7d-c080410fad07 td {border: 1px solid white;}</style><table id=\"blocksbeb7cdc3-36da-4c3f-8a7d-c080410fad07\" class=\"blockgrid\"><tbody><tr><td title=\"Index: [0, 0]&#10;Color: (0, 255, 255)\" style=\"width: 20px; height: 20px;background-color: rgb(0, 255, 255);\"></td><td title=\"Index: [0, 1]&#10;Color: (0, 255, 255)\" style=\"width: 20px; height: 20px;background-color: rgb(0, 255, 255);\"></td><td title=\"Index: [0, 2]&#10;Color: (0, 255, 255)\" style=\"width: 20px; height: 20px;background-color: rgb(0, 255, 255);\"></td><td title=\"Index: [0, 3]&#10;Color: (0, 255, 255)\" style=\"width: 20px; height: 20px;background-color: rgb(0, 255, 255);\"></td><td title=\"Index: [0, 4]&#10;Color: (0, 255, 255)\" style=\"width: 20px; height: 20px;background-color: rgb(0, 255, 255);\"></td><td title=\"Index: [0, 5]&#10;Color: (0, 255, 255)\" style=\"width: 20px; height: 20px;background-color: rgb(0, 255, 255);\"></td><td title=\"Index: [0, 6]&#10;Color: (0, 255, 255)\" style=\"width: 20px; height: 20px;background-color: rgb(0, 255, 255);\"></td><td title=\"Index: [0, 7]&#10;Color: (0, 255, 255)\" style=\"width: 20px; height: 20px;background-color: rgb(0, 255, 255);\"></td></tr><tr><td title=\"Index: [1, 0]&#10;Color: (0, 255, 255)\" style=\"width: 20px; height: 20px;background-color: rgb(0, 255, 255);\"></td><td title=\"Index: [1, 1]&#10;Color: (0, 255, 255)\" style=\"width: 20px; height: 20px;background-color: rgb(0, 255, 255);\"></td><td title=\"Index: [1, 2]&#10;Color: (0, 255, 255)\" style=\"width: 20px; height: 20px;background-color: rgb(0, 255, 255);\"></td><td title=\"Index: [1, 3]&#10;Color: (0, 255, 255)\" style=\"width: 20px; height: 20px;background-color: rgb(0, 255, 255);\"></td><td title=\"Index: [1, 4]&#10;Color: (0, 255, 255)\" style=\"width: 20px; height: 20px;background-color: rgb(0, 255, 255);\"></td><td title=\"Index: [1, 5]&#10;Color: (0, 255, 255)\" style=\"width: 20px; height: 20px;background-color: rgb(0, 255, 255);\"></td><td title=\"Index: [1, 6]&#10;Color: (0, 255, 255)\" style=\"width: 20px; height: 20px;background-color: rgb(0, 255, 255);\"></td><td title=\"Index: [1, 7]&#10;Color: (0, 255, 255)\" style=\"width: 20px; height: 20px;background-color: rgb(0, 255, 255);\"></td></tr><tr><td title=\"Index: [2, 0]&#10;Color: (0, 255, 255)\" style=\"width: 20px; height: 20px;background-color: rgb(0, 255, 255);\"></td><td title=\"Index: [2, 1]&#10;Color: (0, 255, 255)\" style=\"width: 20px; height: 20px;background-color: rgb(0, 255, 255);\"></td><td title=\"Index: [2, 2]&#10;Color: (0, 255, 255)\" style=\"width: 20px; height: 20px;background-color: rgb(0, 255, 255);\"></td><td title=\"Index: [2, 3]&#10;Color: (0, 255, 255)\" style=\"width: 20px; height: 20px;background-color: rgb(0, 255, 255);\"></td><td title=\"Index: [2, 4]&#10;Color: (0, 255, 255)\" style=\"width: 20px; height: 20px;background-color: rgb(0, 255, 255);\"></td><td title=\"Index: [2, 5]&#10;Color: (0, 255, 255)\" style=\"width: 20px; height: 20px;background-color: rgb(0, 255, 255);\"></td><td title=\"Index: [2, 6]&#10;Color: (0, 255, 255)\" style=\"width: 20px; height: 20px;background-color: rgb(0, 255, 255);\"></td><td title=\"Index: [2, 7]&#10;Color: (0, 255, 255)\" style=\"width: 20px; height: 20px;background-color: rgb(0, 255, 255);\"></td></tr><tr><td title=\"Index: [3, 0]&#10;Color: (0, 255, 255)\" style=\"width: 20px; height: 20px;background-color: rgb(0, 255, 255);\"></td><td title=\"Index: [3, 1]&#10;Color: (0, 255, 255)\" style=\"width: 20px; height: 20px;background-color: rgb(0, 255, 255);\"></td><td title=\"Index: [3, 2]&#10;Color: (0, 255, 255)\" style=\"width: 20px; height: 20px;background-color: rgb(0, 255, 255);\"></td><td title=\"Index: [3, 3]&#10;Color: (0, 255, 255)\" style=\"width: 20px; height: 20px;background-color: rgb(0, 255, 255);\"></td><td title=\"Index: [3, 4]&#10;Color: (0, 255, 255)\" style=\"width: 20px; height: 20px;background-color: rgb(0, 255, 255);\"></td><td title=\"Index: [3, 5]&#10;Color: (0, 255, 255)\" style=\"width: 20px; height: 20px;background-color: rgb(0, 255, 255);\"></td><td title=\"Index: [3, 6]&#10;Color: (0, 255, 255)\" style=\"width: 20px; height: 20px;background-color: rgb(0, 255, 255);\"></td><td title=\"Index: [3, 7]&#10;Color: (0, 255, 255)\" style=\"width: 20px; height: 20px;background-color: rgb(0, 255, 255);\"></td></tr><tr><td title=\"Index: [4, 0]&#10;Color: (0, 255, 255)\" style=\"width: 20px; height: 20px;background-color: rgb(0, 255, 255);\"></td><td title=\"Index: [4, 1]&#10;Color: (0, 255, 255)\" style=\"width: 20px; height: 20px;background-color: rgb(0, 255, 255);\"></td><td title=\"Index: [4, 2]&#10;Color: (0, 255, 255)\" style=\"width: 20px; height: 20px;background-color: rgb(0, 255, 255);\"></td><td title=\"Index: [4, 3]&#10;Color: (0, 255, 255)\" style=\"width: 20px; height: 20px;background-color: rgb(0, 255, 255);\"></td><td title=\"Index: [4, 4]&#10;Color: (0, 255, 255)\" style=\"width: 20px; height: 20px;background-color: rgb(0, 255, 255);\"></td><td title=\"Index: [4, 5]&#10;Color: (0, 255, 255)\" style=\"width: 20px; height: 20px;background-color: rgb(0, 255, 255);\"></td><td title=\"Index: [4, 6]&#10;Color: (0, 255, 255)\" style=\"width: 20px; height: 20px;background-color: rgb(0, 255, 255);\"></td><td title=\"Index: [4, 7]&#10;Color: (0, 255, 255)\" style=\"width: 20px; height: 20px;background-color: rgb(0, 255, 255);\"></td></tr><tr><td title=\"Index: [5, 0]&#10;Color: (0, 255, 255)\" style=\"width: 20px; height: 20px;background-color: rgb(0, 255, 255);\"></td><td title=\"Index: [5, 1]&#10;Color: (0, 255, 255)\" style=\"width: 20px; height: 20px;background-color: rgb(0, 255, 255);\"></td><td title=\"Index: [5, 2]&#10;Color: (0, 255, 255)\" style=\"width: 20px; height: 20px;background-color: rgb(0, 255, 255);\"></td><td title=\"Index: [5, 3]&#10;Color: (0, 255, 255)\" style=\"width: 20px; height: 20px;background-color: rgb(0, 255, 255);\"></td><td title=\"Index: [5, 4]&#10;Color: (0, 255, 255)\" style=\"width: 20px; height: 20px;background-color: rgb(0, 255, 255);\"></td><td title=\"Index: [5, 5]&#10;Color: (255, 0, 0)\" style=\"width: 20px; height: 20px;background-color: rgb(255, 0, 0);\"></td><td title=\"Index: [5, 6]&#10;Color: (0, 255, 255)\" style=\"width: 20px; height: 20px;background-color: rgb(0, 255, 255);\"></td><td title=\"Index: [5, 7]&#10;Color: (0, 255, 255)\" style=\"width: 20px; height: 20px;background-color: rgb(0, 255, 255);\"></td></tr><tr><td title=\"Index: [6, 0]&#10;Color: (0, 255, 255)\" style=\"width: 20px; height: 20px;background-color: rgb(0, 255, 255);\"></td><td title=\"Index: [6, 1]&#10;Color: (0, 255, 255)\" style=\"width: 20px; height: 20px;background-color: rgb(0, 255, 255);\"></td><td title=\"Index: [6, 2]&#10;Color: (0, 255, 255)\" style=\"width: 20px; height: 20px;background-color: rgb(0, 255, 255);\"></td><td title=\"Index: [6, 3]&#10;Color: (0, 255, 255)\" style=\"width: 20px; height: 20px;background-color: rgb(0, 255, 255);\"></td><td title=\"Index: [6, 4]&#10;Color: (0, 255, 255)\" style=\"width: 20px; height: 20px;background-color: rgb(0, 255, 255);\"></td><td title=\"Index: [6, 5]&#10;Color: (255, 0, 0)\" style=\"width: 20px; height: 20px;background-color: rgb(255, 0, 0);\"></td><td title=\"Index: [6, 6]&#10;Color: (0, 255, 255)\" style=\"width: 20px; height: 20px;background-color: rgb(0, 255, 255);\"></td><td title=\"Index: [6, 7]&#10;Color: (0, 255, 255)\" style=\"width: 20px; height: 20px;background-color: rgb(0, 255, 255);\"></td></tr><tr><td title=\"Index: [7, 0]&#10;Color: (0, 255, 255)\" style=\"width: 20px; height: 20px;background-color: rgb(0, 255, 255);\"></td><td title=\"Index: [7, 1]&#10;Color: (0, 255, 255)\" style=\"width: 20px; height: 20px;background-color: rgb(0, 255, 255);\"></td><td title=\"Index: [7, 2]&#10;Color: (0, 255, 255)\" style=\"width: 20px; height: 20px;background-color: rgb(0, 255, 255);\"></td><td title=\"Index: [7, 3]&#10;Color: (0, 255, 255)\" style=\"width: 20px; height: 20px;background-color: rgb(0, 255, 255);\"></td><td title=\"Index: [7, 4]&#10;Color: (0, 255, 255)\" style=\"width: 20px; height: 20px;background-color: rgb(0, 255, 255);\"></td><td title=\"Index: [7, 5]&#10;Color: (255, 0, 0)\" style=\"width: 20px; height: 20px;background-color: rgb(255, 0, 0);\"></td><td title=\"Index: [7, 6]&#10;Color: (0, 255, 255)\" style=\"width: 20px; height: 20px;background-color: rgb(0, 255, 255);\"></td><td title=\"Index: [7, 7]&#10;Color: (0, 255, 255)\" style=\"width: 20px; height: 20px;background-color: rgb(0, 255, 255);\"></td></tr></tbody></table>"
       ],
       "metadata": {},
       "output_type": "pyout",
       "prompt_number": 23,
       "text": [
        "<ipythonblocks.ipythonblocks.BlockGrid at 0x41a2d30>"
       ]
      }
     ],
     "prompt_number": 23
    },
    {
     "cell_type": "code",
     "collapsed": false,
     "input": [
      "yourboard = BlockGrid(8,8, fill = colors['Aqua'])\n",
      "yourboard"
     ],
     "language": "python",
     "metadata": {},
     "outputs": [
      {
       "html": [
        "<style type=\"text/css\">table.blockgrid {border: none;} .blockgrid tr {border: none;} .blockgrid td {padding: 0px;} #blocks0dff6495-9bf5-42ee-a5d1-c425ed7f8dc8 td {border: 1px solid white;}</style><table id=\"blocks0dff6495-9bf5-42ee-a5d1-c425ed7f8dc8\" class=\"blockgrid\"><tbody><tr><td title=\"Index: [0, 0]&#10;Color: (0, 255, 255)\" style=\"width: 20px; height: 20px;background-color: rgb(0, 255, 255);\"></td><td title=\"Index: [0, 1]&#10;Color: (0, 255, 255)\" style=\"width: 20px; height: 20px;background-color: rgb(0, 255, 255);\"></td><td title=\"Index: [0, 2]&#10;Color: (0, 255, 255)\" style=\"width: 20px; height: 20px;background-color: rgb(0, 255, 255);\"></td><td title=\"Index: [0, 3]&#10;Color: (0, 255, 255)\" style=\"width: 20px; height: 20px;background-color: rgb(0, 255, 255);\"></td><td title=\"Index: [0, 4]&#10;Color: (0, 255, 255)\" style=\"width: 20px; height: 20px;background-color: rgb(0, 255, 255);\"></td><td title=\"Index: [0, 5]&#10;Color: (0, 255, 255)\" style=\"width: 20px; height: 20px;background-color: rgb(0, 255, 255);\"></td><td title=\"Index: [0, 6]&#10;Color: (0, 255, 255)\" style=\"width: 20px; height: 20px;background-color: rgb(0, 255, 255);\"></td><td title=\"Index: [0, 7]&#10;Color: (0, 255, 255)\" style=\"width: 20px; height: 20px;background-color: rgb(0, 255, 255);\"></td></tr><tr><td title=\"Index: [1, 0]&#10;Color: (0, 255, 255)\" style=\"width: 20px; height: 20px;background-color: rgb(0, 255, 255);\"></td><td title=\"Index: [1, 1]&#10;Color: (0, 255, 255)\" style=\"width: 20px; height: 20px;background-color: rgb(0, 255, 255);\"></td><td title=\"Index: [1, 2]&#10;Color: (0, 255, 255)\" style=\"width: 20px; height: 20px;background-color: rgb(0, 255, 255);\"></td><td title=\"Index: [1, 3]&#10;Color: (0, 255, 255)\" style=\"width: 20px; height: 20px;background-color: rgb(0, 255, 255);\"></td><td title=\"Index: [1, 4]&#10;Color: (0, 255, 255)\" style=\"width: 20px; height: 20px;background-color: rgb(0, 255, 255);\"></td><td title=\"Index: [1, 5]&#10;Color: (0, 255, 255)\" style=\"width: 20px; height: 20px;background-color: rgb(0, 255, 255);\"></td><td title=\"Index: [1, 6]&#10;Color: (0, 255, 255)\" style=\"width: 20px; height: 20px;background-color: rgb(0, 255, 255);\"></td><td title=\"Index: [1, 7]&#10;Color: (0, 255, 255)\" style=\"width: 20px; height: 20px;background-color: rgb(0, 255, 255);\"></td></tr><tr><td title=\"Index: [2, 0]&#10;Color: (0, 255, 255)\" style=\"width: 20px; height: 20px;background-color: rgb(0, 255, 255);\"></td><td title=\"Index: [2, 1]&#10;Color: (0, 255, 255)\" style=\"width: 20px; height: 20px;background-color: rgb(0, 255, 255);\"></td><td title=\"Index: [2, 2]&#10;Color: (0, 255, 255)\" style=\"width: 20px; height: 20px;background-color: rgb(0, 255, 255);\"></td><td title=\"Index: [2, 3]&#10;Color: (0, 255, 255)\" style=\"width: 20px; height: 20px;background-color: rgb(0, 255, 255);\"></td><td title=\"Index: [2, 4]&#10;Color: (0, 255, 255)\" style=\"width: 20px; height: 20px;background-color: rgb(0, 255, 255);\"></td><td title=\"Index: [2, 5]&#10;Color: (0, 255, 255)\" style=\"width: 20px; height: 20px;background-color: rgb(0, 255, 255);\"></td><td title=\"Index: [2, 6]&#10;Color: (0, 255, 255)\" style=\"width: 20px; height: 20px;background-color: rgb(0, 255, 255);\"></td><td title=\"Index: [2, 7]&#10;Color: (0, 255, 255)\" style=\"width: 20px; height: 20px;background-color: rgb(0, 255, 255);\"></td></tr><tr><td title=\"Index: [3, 0]&#10;Color: (0, 255, 255)\" style=\"width: 20px; height: 20px;background-color: rgb(0, 255, 255);\"></td><td title=\"Index: [3, 1]&#10;Color: (0, 255, 255)\" style=\"width: 20px; height: 20px;background-color: rgb(0, 255, 255);\"></td><td title=\"Index: [3, 2]&#10;Color: (0, 255, 255)\" style=\"width: 20px; height: 20px;background-color: rgb(0, 255, 255);\"></td><td title=\"Index: [3, 3]&#10;Color: (0, 255, 255)\" style=\"width: 20px; height: 20px;background-color: rgb(0, 255, 255);\"></td><td title=\"Index: [3, 4]&#10;Color: (0, 255, 255)\" style=\"width: 20px; height: 20px;background-color: rgb(0, 255, 255);\"></td><td title=\"Index: [3, 5]&#10;Color: (0, 255, 255)\" style=\"width: 20px; height: 20px;background-color: rgb(0, 255, 255);\"></td><td title=\"Index: [3, 6]&#10;Color: (0, 255, 255)\" style=\"width: 20px; height: 20px;background-color: rgb(0, 255, 255);\"></td><td title=\"Index: [3, 7]&#10;Color: (0, 255, 255)\" style=\"width: 20px; height: 20px;background-color: rgb(0, 255, 255);\"></td></tr><tr><td title=\"Index: [4, 0]&#10;Color: (0, 255, 255)\" style=\"width: 20px; height: 20px;background-color: rgb(0, 255, 255);\"></td><td title=\"Index: [4, 1]&#10;Color: (0, 255, 255)\" style=\"width: 20px; height: 20px;background-color: rgb(0, 255, 255);\"></td><td title=\"Index: [4, 2]&#10;Color: (0, 255, 255)\" style=\"width: 20px; height: 20px;background-color: rgb(0, 255, 255);\"></td><td title=\"Index: [4, 3]&#10;Color: (0, 255, 255)\" style=\"width: 20px; height: 20px;background-color: rgb(0, 255, 255);\"></td><td title=\"Index: [4, 4]&#10;Color: (0, 255, 255)\" style=\"width: 20px; height: 20px;background-color: rgb(0, 255, 255);\"></td><td title=\"Index: [4, 5]&#10;Color: (0, 255, 255)\" style=\"width: 20px; height: 20px;background-color: rgb(0, 255, 255);\"></td><td title=\"Index: [4, 6]&#10;Color: (0, 255, 255)\" style=\"width: 20px; height: 20px;background-color: rgb(0, 255, 255);\"></td><td title=\"Index: [4, 7]&#10;Color: (0, 255, 255)\" style=\"width: 20px; height: 20px;background-color: rgb(0, 255, 255);\"></td></tr><tr><td title=\"Index: [5, 0]&#10;Color: (0, 255, 255)\" style=\"width: 20px; height: 20px;background-color: rgb(0, 255, 255);\"></td><td title=\"Index: [5, 1]&#10;Color: (0, 255, 255)\" style=\"width: 20px; height: 20px;background-color: rgb(0, 255, 255);\"></td><td title=\"Index: [5, 2]&#10;Color: (0, 255, 255)\" style=\"width: 20px; height: 20px;background-color: rgb(0, 255, 255);\"></td><td title=\"Index: [5, 3]&#10;Color: (0, 255, 255)\" style=\"width: 20px; height: 20px;background-color: rgb(0, 255, 255);\"></td><td title=\"Index: [5, 4]&#10;Color: (0, 255, 255)\" style=\"width: 20px; height: 20px;background-color: rgb(0, 255, 255);\"></td><td title=\"Index: [5, 5]&#10;Color: (0, 255, 255)\" style=\"width: 20px; height: 20px;background-color: rgb(0, 255, 255);\"></td><td title=\"Index: [5, 6]&#10;Color: (0, 255, 255)\" style=\"width: 20px; height: 20px;background-color: rgb(0, 255, 255);\"></td><td title=\"Index: [5, 7]&#10;Color: (0, 255, 255)\" style=\"width: 20px; height: 20px;background-color: rgb(0, 255, 255);\"></td></tr><tr><td title=\"Index: [6, 0]&#10;Color: (0, 255, 255)\" style=\"width: 20px; height: 20px;background-color: rgb(0, 255, 255);\"></td><td title=\"Index: [6, 1]&#10;Color: (0, 255, 255)\" style=\"width: 20px; height: 20px;background-color: rgb(0, 255, 255);\"></td><td title=\"Index: [6, 2]&#10;Color: (0, 255, 255)\" style=\"width: 20px; height: 20px;background-color: rgb(0, 255, 255);\"></td><td title=\"Index: [6, 3]&#10;Color: (0, 255, 255)\" style=\"width: 20px; height: 20px;background-color: rgb(0, 255, 255);\"></td><td title=\"Index: [6, 4]&#10;Color: (0, 255, 255)\" style=\"width: 20px; height: 20px;background-color: rgb(0, 255, 255);\"></td><td title=\"Index: [6, 5]&#10;Color: (0, 255, 255)\" style=\"width: 20px; height: 20px;background-color: rgb(0, 255, 255);\"></td><td title=\"Index: [6, 6]&#10;Color: (0, 255, 255)\" style=\"width: 20px; height: 20px;background-color: rgb(0, 255, 255);\"></td><td title=\"Index: [6, 7]&#10;Color: (0, 255, 255)\" style=\"width: 20px; height: 20px;background-color: rgb(0, 255, 255);\"></td></tr><tr><td title=\"Index: [7, 0]&#10;Color: (0, 255, 255)\" style=\"width: 20px; height: 20px;background-color: rgb(0, 255, 255);\"></td><td title=\"Index: [7, 1]&#10;Color: (0, 255, 255)\" style=\"width: 20px; height: 20px;background-color: rgb(0, 255, 255);\"></td><td title=\"Index: [7, 2]&#10;Color: (0, 255, 255)\" style=\"width: 20px; height: 20px;background-color: rgb(0, 255, 255);\"></td><td title=\"Index: [7, 3]&#10;Color: (0, 255, 255)\" style=\"width: 20px; height: 20px;background-color: rgb(0, 255, 255);\"></td><td title=\"Index: [7, 4]&#10;Color: (0, 255, 255)\" style=\"width: 20px; height: 20px;background-color: rgb(0, 255, 255);\"></td><td title=\"Index: [7, 5]&#10;Color: (0, 255, 255)\" style=\"width: 20px; height: 20px;background-color: rgb(0, 255, 255);\"></td><td title=\"Index: [7, 6]&#10;Color: (0, 255, 255)\" style=\"width: 20px; height: 20px;background-color: rgb(0, 255, 255);\"></td><td title=\"Index: [7, 7]&#10;Color: (0, 255, 255)\" style=\"width: 20px; height: 20px;background-color: rgb(0, 255, 255);\"></td></tr></tbody></table>"
       ],
       "metadata": {},
       "output_type": "pyout",
       "prompt_number": 30,
       "text": [
        "<ipythonblocks.ipythonblocks.BlockGrid at 0x4197160>"
       ]
      }
     ],
     "prompt_number": 30
    },
    {
     "cell_type": "code",
     "collapsed": false,
     "input": [
      "compboard.height"
     ],
     "language": "python",
     "metadata": {},
     "outputs": [
      {
       "metadata": {},
       "output_type": "pyout",
       "prompt_number": 15,
       "text": [
        "8"
       ]
      }
     ],
     "prompt_number": 15
    },
    {
     "cell_type": "code",
     "collapsed": false,
     "input": [
      "length -= 1\n",
      "while length > 0:\n",
      "    if orientation == ['Vertical']:\n",
      "        if direction == ['Positive']:\n",
      "            compboard[ship_row + 1,ship_col] = colors['Red']\n",
      "            length -=1\n",
      "        elif direction == ['Negative']:\n",
      "            compboard[ship_row -1, ship_col] = colors['Red']\n",
      "            length -=1\n",
      "    elif orientation == ['Horizontal']:\n",
      "         if direction == ['Positive']:\n",
      "            compboard[ship_row,ship_col+1] = colors['Red']\n",
      "            length -=1\n",
      "         elif direction == ['Negative']:\n",
      "            compboard[ship_row, ship_col-1] = colors['Red']\n",
      "            length -=1\n",
      "            \n"
     ],
     "language": "python",
     "metadata": {},
     "outputs": [
      {
       "ename": "NameError",
       "evalue": "name 'orientation' is not defined",
       "output_type": "pyerr",
       "traceback": [
        "\u001b[1;31m---------------------------------------------------------------------------\u001b[0m\n\u001b[1;31mNameError\u001b[0m                                 Traceback (most recent call last)",
        "\u001b[1;32m<ipython-input-8-05971636cfb6>\u001b[0m in \u001b[0;36m<module>\u001b[1;34m()\u001b[0m\n\u001b[0;32m      1\u001b[0m \u001b[0mlength\u001b[0m \u001b[1;33m-=\u001b[0m \u001b[1;36m1\u001b[0m\u001b[1;33m\u001b[0m\u001b[0m\n\u001b[0;32m      2\u001b[0m \u001b[1;32mwhile\u001b[0m \u001b[0mlength\u001b[0m \u001b[1;33m>\u001b[0m \u001b[1;36m0\u001b[0m\u001b[1;33m:\u001b[0m\u001b[1;33m\u001b[0m\u001b[0m\n\u001b[1;32m----> 3\u001b[1;33m     \u001b[1;32mif\u001b[0m \u001b[0morientation\u001b[0m \u001b[1;33m==\u001b[0m \u001b[1;33m[\u001b[0m\u001b[1;34m'Vertical'\u001b[0m\u001b[1;33m]\u001b[0m\u001b[1;33m:\u001b[0m\u001b[1;33m\u001b[0m\u001b[0m\n\u001b[0m\u001b[0;32m      4\u001b[0m         \u001b[1;32mif\u001b[0m \u001b[0mdirection\u001b[0m \u001b[1;33m==\u001b[0m \u001b[1;33m[\u001b[0m\u001b[1;34m'Positive'\u001b[0m\u001b[1;33m]\u001b[0m\u001b[1;33m:\u001b[0m\u001b[1;33m\u001b[0m\u001b[0m\n\u001b[0;32m      5\u001b[0m             \u001b[0mcompboard\u001b[0m\u001b[1;33m[\u001b[0m\u001b[0mship_row\u001b[0m \u001b[1;33m+\u001b[0m \u001b[1;36m1\u001b[0m\u001b[1;33m,\u001b[0m\u001b[0mship_col\u001b[0m\u001b[1;33m]\u001b[0m \u001b[1;33m=\u001b[0m \u001b[0mcolors\u001b[0m\u001b[1;33m[\u001b[0m\u001b[1;34m'Red'\u001b[0m\u001b[1;33m]\u001b[0m\u001b[1;33m\u001b[0m\u001b[0m\n",
        "\u001b[1;31mNameError\u001b[0m: name 'orientation' is not defined"
       ]
      }
     ],
     "prompt_number": 8
    }
   ],
   "metadata": {}
  }
 ]
}