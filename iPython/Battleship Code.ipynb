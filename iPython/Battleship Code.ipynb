{
 "metadata": {
  "name": "",
  "signature": "sha256:850ba1947eb35623435b47de2d2168e311be453bb8221ed0ea46674407ba0634"
 },
 "nbformat": 3,
 "nbformat_minor": 0,
 "worksheets": [
  {
   "cells": [
    {
     "cell_type": "code",
     "collapsed": false,
     "input": [
      "from random import randint\n",
      "from ipythonblocks import BlockGrid\n",
      "from ipythonblocks import colors\n"
     ],
     "language": "python",
     "metadata": {},
     "outputs": [],
     "prompt_number": 1
    },
    {
     "cell_type": "code",
     "collapsed": false,
     "input": [
      "#Initializes player board as well as a reference board\n",
      "yourboard = BlockGrid(8,8, fill = colors['Aqua'])\n",
      "compboard = BlockGrid (8,8, fill = colors['Aqua'])\n",
      "yourboard\n"
     ],
     "language": "python",
     "metadata": {},
     "outputs": [
      {
       "html": [
        "<style type=\"text/css\">table.blockgrid {border: none;} .blockgrid tr {border: none;} .blockgrid td {padding: 0px;} #blocks4e2163ca-d52c-40f1-8468-9ec628c7fa5a td {border: 1px solid white;}</style><table id=\"blocks4e2163ca-d52c-40f1-8468-9ec628c7fa5a\" class=\"blockgrid\"><tbody><tr><td title=\"Index: [0, 0]&#10;Color: (0, 255, 255)\" style=\"width: 20px; height: 20px;background-color: rgb(0, 255, 255);\"></td><td title=\"Index: [0, 1]&#10;Color: (0, 255, 255)\" style=\"width: 20px; height: 20px;background-color: rgb(0, 255, 255);\"></td><td title=\"Index: [0, 2]&#10;Color: (0, 255, 255)\" style=\"width: 20px; height: 20px;background-color: rgb(0, 255, 255);\"></td><td title=\"Index: [0, 3]&#10;Color: (0, 255, 255)\" style=\"width: 20px; height: 20px;background-color: rgb(0, 255, 255);\"></td><td title=\"Index: [0, 4]&#10;Color: (0, 255, 255)\" style=\"width: 20px; height: 20px;background-color: rgb(0, 255, 255);\"></td><td title=\"Index: [0, 5]&#10;Color: (0, 255, 255)\" style=\"width: 20px; height: 20px;background-color: rgb(0, 255, 255);\"></td><td title=\"Index: [0, 6]&#10;Color: (0, 255, 255)\" style=\"width: 20px; height: 20px;background-color: rgb(0, 255, 255);\"></td><td title=\"Index: [0, 7]&#10;Color: (0, 255, 255)\" style=\"width: 20px; height: 20px;background-color: rgb(0, 255, 255);\"></td></tr><tr><td title=\"Index: [1, 0]&#10;Color: (0, 255, 255)\" style=\"width: 20px; height: 20px;background-color: rgb(0, 255, 255);\"></td><td title=\"Index: [1, 1]&#10;Color: (0, 255, 255)\" style=\"width: 20px; height: 20px;background-color: rgb(0, 255, 255);\"></td><td title=\"Index: [1, 2]&#10;Color: (0, 255, 255)\" style=\"width: 20px; height: 20px;background-color: rgb(0, 255, 255);\"></td><td title=\"Index: [1, 3]&#10;Color: (0, 255, 255)\" style=\"width: 20px; height: 20px;background-color: rgb(0, 255, 255);\"></td><td title=\"Index: [1, 4]&#10;Color: (0, 255, 255)\" style=\"width: 20px; height: 20px;background-color: rgb(0, 255, 255);\"></td><td title=\"Index: [1, 5]&#10;Color: (0, 255, 255)\" style=\"width: 20px; height: 20px;background-color: rgb(0, 255, 255);\"></td><td title=\"Index: [1, 6]&#10;Color: (0, 255, 255)\" style=\"width: 20px; height: 20px;background-color: rgb(0, 255, 255);\"></td><td title=\"Index: [1, 7]&#10;Color: (0, 255, 255)\" style=\"width: 20px; height: 20px;background-color: rgb(0, 255, 255);\"></td></tr><tr><td title=\"Index: [2, 0]&#10;Color: (0, 255, 255)\" style=\"width: 20px; height: 20px;background-color: rgb(0, 255, 255);\"></td><td title=\"Index: [2, 1]&#10;Color: (0, 255, 255)\" style=\"width: 20px; height: 20px;background-color: rgb(0, 255, 255);\"></td><td title=\"Index: [2, 2]&#10;Color: (0, 255, 255)\" style=\"width: 20px; height: 20px;background-color: rgb(0, 255, 255);\"></td><td title=\"Index: [2, 3]&#10;Color: (0, 255, 255)\" style=\"width: 20px; height: 20px;background-color: rgb(0, 255, 255);\"></td><td title=\"Index: [2, 4]&#10;Color: (0, 255, 255)\" style=\"width: 20px; height: 20px;background-color: rgb(0, 255, 255);\"></td><td title=\"Index: [2, 5]&#10;Color: (0, 255, 255)\" style=\"width: 20px; height: 20px;background-color: rgb(0, 255, 255);\"></td><td title=\"Index: [2, 6]&#10;Color: (0, 255, 255)\" style=\"width: 20px; height: 20px;background-color: rgb(0, 255, 255);\"></td><td title=\"Index: [2, 7]&#10;Color: (0, 255, 255)\" style=\"width: 20px; height: 20px;background-color: rgb(0, 255, 255);\"></td></tr><tr><td title=\"Index: [3, 0]&#10;Color: (0, 255, 255)\" style=\"width: 20px; height: 20px;background-color: rgb(0, 255, 255);\"></td><td title=\"Index: [3, 1]&#10;Color: (0, 255, 255)\" style=\"width: 20px; height: 20px;background-color: rgb(0, 255, 255);\"></td><td title=\"Index: [3, 2]&#10;Color: (0, 255, 255)\" style=\"width: 20px; height: 20px;background-color: rgb(0, 255, 255);\"></td><td title=\"Index: [3, 3]&#10;Color: (0, 255, 255)\" style=\"width: 20px; height: 20px;background-color: rgb(0, 255, 255);\"></td><td title=\"Index: [3, 4]&#10;Color: (0, 255, 255)\" style=\"width: 20px; height: 20px;background-color: rgb(0, 255, 255);\"></td><td title=\"Index: [3, 5]&#10;Color: (0, 255, 255)\" style=\"width: 20px; height: 20px;background-color: rgb(0, 255, 255);\"></td><td title=\"Index: [3, 6]&#10;Color: (0, 255, 255)\" style=\"width: 20px; height: 20px;background-color: rgb(0, 255, 255);\"></td><td title=\"Index: [3, 7]&#10;Color: (0, 255, 255)\" style=\"width: 20px; height: 20px;background-color: rgb(0, 255, 255);\"></td></tr><tr><td title=\"Index: [4, 0]&#10;Color: (0, 255, 255)\" style=\"width: 20px; height: 20px;background-color: rgb(0, 255, 255);\"></td><td title=\"Index: [4, 1]&#10;Color: (0, 255, 255)\" style=\"width: 20px; height: 20px;background-color: rgb(0, 255, 255);\"></td><td title=\"Index: [4, 2]&#10;Color: (0, 255, 255)\" style=\"width: 20px; height: 20px;background-color: rgb(0, 255, 255);\"></td><td title=\"Index: [4, 3]&#10;Color: (0, 255, 255)\" style=\"width: 20px; height: 20px;background-color: rgb(0, 255, 255);\"></td><td title=\"Index: [4, 4]&#10;Color: (0, 255, 255)\" style=\"width: 20px; height: 20px;background-color: rgb(0, 255, 255);\"></td><td title=\"Index: [4, 5]&#10;Color: (0, 255, 255)\" style=\"width: 20px; height: 20px;background-color: rgb(0, 255, 255);\"></td><td title=\"Index: [4, 6]&#10;Color: (0, 255, 255)\" style=\"width: 20px; height: 20px;background-color: rgb(0, 255, 255);\"></td><td title=\"Index: [4, 7]&#10;Color: (0, 255, 255)\" style=\"width: 20px; height: 20px;background-color: rgb(0, 255, 255);\"></td></tr><tr><td title=\"Index: [5, 0]&#10;Color: (0, 255, 255)\" style=\"width: 20px; height: 20px;background-color: rgb(0, 255, 255);\"></td><td title=\"Index: [5, 1]&#10;Color: (0, 255, 255)\" style=\"width: 20px; height: 20px;background-color: rgb(0, 255, 255);\"></td><td title=\"Index: [5, 2]&#10;Color: (0, 255, 255)\" style=\"width: 20px; height: 20px;background-color: rgb(0, 255, 255);\"></td><td title=\"Index: [5, 3]&#10;Color: (0, 255, 255)\" style=\"width: 20px; height: 20px;background-color: rgb(0, 255, 255);\"></td><td title=\"Index: [5, 4]&#10;Color: (0, 255, 255)\" style=\"width: 20px; height: 20px;background-color: rgb(0, 255, 255);\"></td><td title=\"Index: [5, 5]&#10;Color: (0, 255, 255)\" style=\"width: 20px; height: 20px;background-color: rgb(0, 255, 255);\"></td><td title=\"Index: [5, 6]&#10;Color: (0, 255, 255)\" style=\"width: 20px; height: 20px;background-color: rgb(0, 255, 255);\"></td><td title=\"Index: [5, 7]&#10;Color: (0, 255, 255)\" style=\"width: 20px; height: 20px;background-color: rgb(0, 255, 255);\"></td></tr><tr><td title=\"Index: [6, 0]&#10;Color: (0, 255, 255)\" style=\"width: 20px; height: 20px;background-color: rgb(0, 255, 255);\"></td><td title=\"Index: [6, 1]&#10;Color: (0, 255, 255)\" style=\"width: 20px; height: 20px;background-color: rgb(0, 255, 255);\"></td><td title=\"Index: [6, 2]&#10;Color: (0, 255, 255)\" style=\"width: 20px; height: 20px;background-color: rgb(0, 255, 255);\"></td><td title=\"Index: [6, 3]&#10;Color: (0, 255, 255)\" style=\"width: 20px; height: 20px;background-color: rgb(0, 255, 255);\"></td><td title=\"Index: [6, 4]&#10;Color: (0, 255, 255)\" style=\"width: 20px; height: 20px;background-color: rgb(0, 255, 255);\"></td><td title=\"Index: [6, 5]&#10;Color: (0, 255, 255)\" style=\"width: 20px; height: 20px;background-color: rgb(0, 255, 255);\"></td><td title=\"Index: [6, 6]&#10;Color: (0, 255, 255)\" style=\"width: 20px; height: 20px;background-color: rgb(0, 255, 255);\"></td><td title=\"Index: [6, 7]&#10;Color: (0, 255, 255)\" style=\"width: 20px; height: 20px;background-color: rgb(0, 255, 255);\"></td></tr><tr><td title=\"Index: [7, 0]&#10;Color: (0, 255, 255)\" style=\"width: 20px; height: 20px;background-color: rgb(0, 255, 255);\"></td><td title=\"Index: [7, 1]&#10;Color: (0, 255, 255)\" style=\"width: 20px; height: 20px;background-color: rgb(0, 255, 255);\"></td><td title=\"Index: [7, 2]&#10;Color: (0, 255, 255)\" style=\"width: 20px; height: 20px;background-color: rgb(0, 255, 255);\"></td><td title=\"Index: [7, 3]&#10;Color: (0, 255, 255)\" style=\"width: 20px; height: 20px;background-color: rgb(0, 255, 255);\"></td><td title=\"Index: [7, 4]&#10;Color: (0, 255, 255)\" style=\"width: 20px; height: 20px;background-color: rgb(0, 255, 255);\"></td><td title=\"Index: [7, 5]&#10;Color: (0, 255, 255)\" style=\"width: 20px; height: 20px;background-color: rgb(0, 255, 255);\"></td><td title=\"Index: [7, 6]&#10;Color: (0, 255, 255)\" style=\"width: 20px; height: 20px;background-color: rgb(0, 255, 255);\"></td><td title=\"Index: [7, 7]&#10;Color: (0, 255, 255)\" style=\"width: 20px; height: 20px;background-color: rgb(0, 255, 255);\"></td></tr></tbody></table>"
       ],
       "metadata": {},
       "output_type": "pyout",
       "prompt_number": 3,
       "text": [
        "<ipythonblocks.ipythonblocks.BlockGrid at 0x4190f28>"
       ]
      }
     ],
     "prompt_number": 3
    },
    {
     "cell_type": "code",
     "collapsed": false,
     "input": [
      "#Length of the ship as decided by the RNG Gods\n",
      "length = randint (2,5)\n",
      "print length"
     ],
     "language": "python",
     "metadata": {},
     "outputs": [
      {
       "output_type": "stream",
       "stream": "stdout",
       "text": [
        "4\n"
       ]
      }
     ],
     "prompt_number": 4
    },
    {
     "cell_type": "code",
     "collapsed": false,
     "input": [
      "#Setting the initial coordinates of the ship\n",
      "def random_row(yourboard):\n",
      "    return randint(0, compboard.height - 1)\n",
      "\n",
      "def random_col(yourboard):\n",
      "    return randint(0, compboard.width - 1)\n",
      "\n",
      "ship_row = random_row(yourboard)\n",
      "ship_col = random_col(yourboard)\n",
      "\n",
      "compboard[ship_row,ship_col] = colors ['Red']\n",
      "\n",
      "#Checking reference board\n",
      "compboard"
     ],
     "language": "python",
     "metadata": {},
     "outputs": [
      {
       "html": [
        "<style type=\"text/css\">table.blockgrid {border: none;} .blockgrid tr {border: none;} .blockgrid td {padding: 0px;} #blocks5cc9f04b-1b24-4cac-bd66-d1ed8c0579c5 td {border: 1px solid white;}</style><table id=\"blocks5cc9f04b-1b24-4cac-bd66-d1ed8c0579c5\" class=\"blockgrid\"><tbody><tr><td title=\"Index: [0, 0]&#10;Color: (0, 255, 255)\" style=\"width: 20px; height: 20px;background-color: rgb(0, 255, 255);\"></td><td title=\"Index: [0, 1]&#10;Color: (0, 255, 255)\" style=\"width: 20px; height: 20px;background-color: rgb(0, 255, 255);\"></td><td title=\"Index: [0, 2]&#10;Color: (0, 255, 255)\" style=\"width: 20px; height: 20px;background-color: rgb(0, 255, 255);\"></td><td title=\"Index: [0, 3]&#10;Color: (0, 255, 255)\" style=\"width: 20px; height: 20px;background-color: rgb(0, 255, 255);\"></td><td title=\"Index: [0, 4]&#10;Color: (0, 255, 255)\" style=\"width: 20px; height: 20px;background-color: rgb(0, 255, 255);\"></td><td title=\"Index: [0, 5]&#10;Color: (0, 255, 255)\" style=\"width: 20px; height: 20px;background-color: rgb(0, 255, 255);\"></td><td title=\"Index: [0, 6]&#10;Color: (0, 255, 255)\" style=\"width: 20px; height: 20px;background-color: rgb(0, 255, 255);\"></td><td title=\"Index: [0, 7]&#10;Color: (0, 255, 255)\" style=\"width: 20px; height: 20px;background-color: rgb(0, 255, 255);\"></td></tr><tr><td title=\"Index: [1, 0]&#10;Color: (0, 255, 255)\" style=\"width: 20px; height: 20px;background-color: rgb(0, 255, 255);\"></td><td title=\"Index: [1, 1]&#10;Color: (0, 255, 255)\" style=\"width: 20px; height: 20px;background-color: rgb(0, 255, 255);\"></td><td title=\"Index: [1, 2]&#10;Color: (0, 255, 255)\" style=\"width: 20px; height: 20px;background-color: rgb(0, 255, 255);\"></td><td title=\"Index: [1, 3]&#10;Color: (0, 255, 255)\" style=\"width: 20px; height: 20px;background-color: rgb(0, 255, 255);\"></td><td title=\"Index: [1, 4]&#10;Color: (0, 255, 255)\" style=\"width: 20px; height: 20px;background-color: rgb(0, 255, 255);\"></td><td title=\"Index: [1, 5]&#10;Color: (0, 255, 255)\" style=\"width: 20px; height: 20px;background-color: rgb(0, 255, 255);\"></td><td title=\"Index: [1, 6]&#10;Color: (0, 255, 255)\" style=\"width: 20px; height: 20px;background-color: rgb(0, 255, 255);\"></td><td title=\"Index: [1, 7]&#10;Color: (0, 255, 255)\" style=\"width: 20px; height: 20px;background-color: rgb(0, 255, 255);\"></td></tr><tr><td title=\"Index: [2, 0]&#10;Color: (0, 255, 255)\" style=\"width: 20px; height: 20px;background-color: rgb(0, 255, 255);\"></td><td title=\"Index: [2, 1]&#10;Color: (0, 255, 255)\" style=\"width: 20px; height: 20px;background-color: rgb(0, 255, 255);\"></td><td title=\"Index: [2, 2]&#10;Color: (0, 255, 255)\" style=\"width: 20px; height: 20px;background-color: rgb(0, 255, 255);\"></td><td title=\"Index: [2, 3]&#10;Color: (0, 255, 255)\" style=\"width: 20px; height: 20px;background-color: rgb(0, 255, 255);\"></td><td title=\"Index: [2, 4]&#10;Color: (0, 255, 255)\" style=\"width: 20px; height: 20px;background-color: rgb(0, 255, 255);\"></td><td title=\"Index: [2, 5]&#10;Color: (0, 255, 255)\" style=\"width: 20px; height: 20px;background-color: rgb(0, 255, 255);\"></td><td title=\"Index: [2, 6]&#10;Color: (0, 255, 255)\" style=\"width: 20px; height: 20px;background-color: rgb(0, 255, 255);\"></td><td title=\"Index: [2, 7]&#10;Color: (0, 255, 255)\" style=\"width: 20px; height: 20px;background-color: rgb(0, 255, 255);\"></td></tr><tr><td title=\"Index: [3, 0]&#10;Color: (0, 255, 255)\" style=\"width: 20px; height: 20px;background-color: rgb(0, 255, 255);\"></td><td title=\"Index: [3, 1]&#10;Color: (0, 255, 255)\" style=\"width: 20px; height: 20px;background-color: rgb(0, 255, 255);\"></td><td title=\"Index: [3, 2]&#10;Color: (0, 255, 255)\" style=\"width: 20px; height: 20px;background-color: rgb(0, 255, 255);\"></td><td title=\"Index: [3, 3]&#10;Color: (0, 255, 255)\" style=\"width: 20px; height: 20px;background-color: rgb(0, 255, 255);\"></td><td title=\"Index: [3, 4]&#10;Color: (0, 255, 255)\" style=\"width: 20px; height: 20px;background-color: rgb(0, 255, 255);\"></td><td title=\"Index: [3, 5]&#10;Color: (0, 255, 255)\" style=\"width: 20px; height: 20px;background-color: rgb(0, 255, 255);\"></td><td title=\"Index: [3, 6]&#10;Color: (0, 255, 255)\" style=\"width: 20px; height: 20px;background-color: rgb(0, 255, 255);\"></td><td title=\"Index: [3, 7]&#10;Color: (0, 255, 255)\" style=\"width: 20px; height: 20px;background-color: rgb(0, 255, 255);\"></td></tr><tr><td title=\"Index: [4, 0]&#10;Color: (0, 255, 255)\" style=\"width: 20px; height: 20px;background-color: rgb(0, 255, 255);\"></td><td title=\"Index: [4, 1]&#10;Color: (0, 255, 255)\" style=\"width: 20px; height: 20px;background-color: rgb(0, 255, 255);\"></td><td title=\"Index: [4, 2]&#10;Color: (0, 255, 255)\" style=\"width: 20px; height: 20px;background-color: rgb(0, 255, 255);\"></td><td title=\"Index: [4, 3]&#10;Color: (0, 255, 255)\" style=\"width: 20px; height: 20px;background-color: rgb(0, 255, 255);\"></td><td title=\"Index: [4, 4]&#10;Color: (0, 255, 255)\" style=\"width: 20px; height: 20px;background-color: rgb(0, 255, 255);\"></td><td title=\"Index: [4, 5]&#10;Color: (0, 255, 255)\" style=\"width: 20px; height: 20px;background-color: rgb(0, 255, 255);\"></td><td title=\"Index: [4, 6]&#10;Color: (0, 255, 255)\" style=\"width: 20px; height: 20px;background-color: rgb(0, 255, 255);\"></td><td title=\"Index: [4, 7]&#10;Color: (0, 255, 255)\" style=\"width: 20px; height: 20px;background-color: rgb(0, 255, 255);\"></td></tr><tr><td title=\"Index: [5, 0]&#10;Color: (0, 255, 255)\" style=\"width: 20px; height: 20px;background-color: rgb(0, 255, 255);\"></td><td title=\"Index: [5, 1]&#10;Color: (0, 255, 255)\" style=\"width: 20px; height: 20px;background-color: rgb(0, 255, 255);\"></td><td title=\"Index: [5, 2]&#10;Color: (0, 255, 255)\" style=\"width: 20px; height: 20px;background-color: rgb(0, 255, 255);\"></td><td title=\"Index: [5, 3]&#10;Color: (0, 255, 255)\" style=\"width: 20px; height: 20px;background-color: rgb(0, 255, 255);\"></td><td title=\"Index: [5, 4]&#10;Color: (0, 255, 255)\" style=\"width: 20px; height: 20px;background-color: rgb(0, 255, 255);\"></td><td title=\"Index: [5, 5]&#10;Color: (0, 255, 255)\" style=\"width: 20px; height: 20px;background-color: rgb(0, 255, 255);\"></td><td title=\"Index: [5, 6]&#10;Color: (0, 255, 255)\" style=\"width: 20px; height: 20px;background-color: rgb(0, 255, 255);\"></td><td title=\"Index: [5, 7]&#10;Color: (0, 255, 255)\" style=\"width: 20px; height: 20px;background-color: rgb(0, 255, 255);\"></td></tr><tr><td title=\"Index: [6, 0]&#10;Color: (0, 255, 255)\" style=\"width: 20px; height: 20px;background-color: rgb(0, 255, 255);\"></td><td title=\"Index: [6, 1]&#10;Color: (255, 0, 0)\" style=\"width: 20px; height: 20px;background-color: rgb(255, 0, 0);\"></td><td title=\"Index: [6, 2]&#10;Color: (0, 255, 255)\" style=\"width: 20px; height: 20px;background-color: rgb(0, 255, 255);\"></td><td title=\"Index: [6, 3]&#10;Color: (0, 255, 255)\" style=\"width: 20px; height: 20px;background-color: rgb(0, 255, 255);\"></td><td title=\"Index: [6, 4]&#10;Color: (0, 255, 255)\" style=\"width: 20px; height: 20px;background-color: rgb(0, 255, 255);\"></td><td title=\"Index: [6, 5]&#10;Color: (0, 255, 255)\" style=\"width: 20px; height: 20px;background-color: rgb(0, 255, 255);\"></td><td title=\"Index: [6, 6]&#10;Color: (0, 255, 255)\" style=\"width: 20px; height: 20px;background-color: rgb(0, 255, 255);\"></td><td title=\"Index: [6, 7]&#10;Color: (0, 255, 255)\" style=\"width: 20px; height: 20px;background-color: rgb(0, 255, 255);\"></td></tr><tr><td title=\"Index: [7, 0]&#10;Color: (0, 255, 255)\" style=\"width: 20px; height: 20px;background-color: rgb(0, 255, 255);\"></td><td title=\"Index: [7, 1]&#10;Color: (0, 255, 255)\" style=\"width: 20px; height: 20px;background-color: rgb(0, 255, 255);\"></td><td title=\"Index: [7, 2]&#10;Color: (0, 255, 255)\" style=\"width: 20px; height: 20px;background-color: rgb(0, 255, 255);\"></td><td title=\"Index: [7, 3]&#10;Color: (0, 255, 255)\" style=\"width: 20px; height: 20px;background-color: rgb(0, 255, 255);\"></td><td title=\"Index: [7, 4]&#10;Color: (0, 255, 255)\" style=\"width: 20px; height: 20px;background-color: rgb(0, 255, 255);\"></td><td title=\"Index: [7, 5]&#10;Color: (0, 255, 255)\" style=\"width: 20px; height: 20px;background-color: rgb(0, 255, 255);\"></td><td title=\"Index: [7, 6]&#10;Color: (0, 255, 255)\" style=\"width: 20px; height: 20px;background-color: rgb(0, 255, 255);\"></td><td title=\"Index: [7, 7]&#10;Color: (0, 255, 255)\" style=\"width: 20px; height: 20px;background-color: rgb(0, 255, 255);\"></td></tr></tbody></table>"
       ],
       "metadata": {},
       "output_type": "pyout",
       "prompt_number": 5,
       "text": [
        "<ipythonblocks.ipythonblocks.BlockGrid at 0x415d400>"
       ]
      }
     ],
     "prompt_number": 5
    },
    {
     "cell_type": "code",
     "collapsed": false,
     "input": [
      "#whether the ship is vertically or horizontally\n",
      "orientation = []\n",
      "n = randint(1,2)\n",
      "if n == 1:\n",
      "    orientation.append('Vertical')\n",
      "else:\n",
      "    orientation.append('Horizontal')\n"
     ],
     "language": "python",
     "metadata": {},
     "outputs": [],
     "prompt_number": 6
    },
    {
     "cell_type": "code",
     "collapsed": false,
     "input": [
      "#what direction the additional ship space takes\n",
      "direction = []\n",
      "if orientation == ['Vertical']:\n",
      "    if ship_row - length < 0:\n",
      "        direction.append('Positive')\n",
      "    else:\n",
      "        direction.append('Negative')\n",
      "elif orientation == ['Horizontal']:\n",
      "    if ship_col - length < 0:\n",
      "        direction.append('Positive')\n",
      "    else:\n",
      "        direction.append('Negative')\n"
     ],
     "language": "python",
     "metadata": {},
     "outputs": [],
     "prompt_number": 7
    },
    {
     "cell_type": "code",
     "collapsed": false,
     "input": [
      "#Setting a fair number of turns\n",
      "turn = 15 - length\n",
      "print turn"
     ],
     "language": "python",
     "metadata": {},
     "outputs": [
      {
       "output_type": "stream",
       "stream": "stdout",
       "text": [
        "11\n"
       ]
      }
     ],
     "prompt_number": 8
    },
    {
     "cell_type": "code",
     "collapsed": false,
     "input": [
      "#Number of hits to win\n",
      "hits = length\n",
      "print hits"
     ],
     "language": "python",
     "metadata": {},
     "outputs": [
      {
       "output_type": "stream",
       "stream": "stdout",
       "text": [
        "4\n"
       ]
      }
     ],
     "prompt_number": 9
    },
    {
     "cell_type": "code",
     "collapsed": false,
     "input": [
      "#Placing the rest of the ship in place\n",
      "length = length - 1\n",
      "n = 0\n",
      "while length != 0:\n",
      "    n += 1\n",
      "    if orientation == ['Vertical']:\n",
      "        if direction == ['Positive']:\n",
      "            compboard[ship_row + n,ship_col] = colors['Red']\n",
      "            length -=1      \n",
      "        elif direction == ['Negative']:\n",
      "            compboard[ship_row - n, ship_col] = colors['Red']\n",
      "            length -=1\n",
      "    elif orientation == ['Horizontal']:\n",
      "         if direction == ['Positive']:\n",
      "            compboard[ship_row, ship_col + n] = colors['Red']\n",
      "            length -=1\n",
      "         elif direction == ['Negative']:\n",
      "            compboard[ship_row, ship_col - n] = colors['Red']\n",
      "            length -=1\n"
     ],
     "language": "python",
     "metadata": {},
     "outputs": [],
     "prompt_number": 10
    },
    {
     "cell_type": "code",
     "collapsed": false,
     "input": [
      "#Checking your board and reference board\n",
      "yourboard\n"
     ],
     "language": "python",
     "metadata": {},
     "outputs": [
      {
       "html": [
        "<style type=\"text/css\">table.blockgrid {border: none;} .blockgrid tr {border: none;} .blockgrid td {padding: 0px;} #blocks8234b938-81af-4267-8259-67b700b93e2b td {border: 1px solid white;}</style><table id=\"blocks8234b938-81af-4267-8259-67b700b93e2b\" class=\"blockgrid\"><tbody><tr><td title=\"Index: [0, 0]&#10;Color: (0, 255, 255)\" style=\"width: 20px; height: 20px;background-color: rgb(0, 255, 255);\"></td><td title=\"Index: [0, 1]&#10;Color: (0, 255, 255)\" style=\"width: 20px; height: 20px;background-color: rgb(0, 255, 255);\"></td><td title=\"Index: [0, 2]&#10;Color: (0, 255, 255)\" style=\"width: 20px; height: 20px;background-color: rgb(0, 255, 255);\"></td><td title=\"Index: [0, 3]&#10;Color: (0, 255, 255)\" style=\"width: 20px; height: 20px;background-color: rgb(0, 255, 255);\"></td><td title=\"Index: [0, 4]&#10;Color: (0, 255, 255)\" style=\"width: 20px; height: 20px;background-color: rgb(0, 255, 255);\"></td><td title=\"Index: [0, 5]&#10;Color: (0, 255, 255)\" style=\"width: 20px; height: 20px;background-color: rgb(0, 255, 255);\"></td><td title=\"Index: [0, 6]&#10;Color: (0, 255, 255)\" style=\"width: 20px; height: 20px;background-color: rgb(0, 255, 255);\"></td><td title=\"Index: [0, 7]&#10;Color: (0, 255, 255)\" style=\"width: 20px; height: 20px;background-color: rgb(0, 255, 255);\"></td></tr><tr><td title=\"Index: [1, 0]&#10;Color: (0, 255, 255)\" style=\"width: 20px; height: 20px;background-color: rgb(0, 255, 255);\"></td><td title=\"Index: [1, 1]&#10;Color: (0, 255, 255)\" style=\"width: 20px; height: 20px;background-color: rgb(0, 255, 255);\"></td><td title=\"Index: [1, 2]&#10;Color: (0, 255, 255)\" style=\"width: 20px; height: 20px;background-color: rgb(0, 255, 255);\"></td><td title=\"Index: [1, 3]&#10;Color: (0, 255, 255)\" style=\"width: 20px; height: 20px;background-color: rgb(0, 255, 255);\"></td><td title=\"Index: [1, 4]&#10;Color: (0, 255, 255)\" style=\"width: 20px; height: 20px;background-color: rgb(0, 255, 255);\"></td><td title=\"Index: [1, 5]&#10;Color: (0, 255, 255)\" style=\"width: 20px; height: 20px;background-color: rgb(0, 255, 255);\"></td><td title=\"Index: [1, 6]&#10;Color: (0, 255, 255)\" style=\"width: 20px; height: 20px;background-color: rgb(0, 255, 255);\"></td><td title=\"Index: [1, 7]&#10;Color: (0, 255, 255)\" style=\"width: 20px; height: 20px;background-color: rgb(0, 255, 255);\"></td></tr><tr><td title=\"Index: [2, 0]&#10;Color: (0, 255, 255)\" style=\"width: 20px; height: 20px;background-color: rgb(0, 255, 255);\"></td><td title=\"Index: [2, 1]&#10;Color: (0, 255, 255)\" style=\"width: 20px; height: 20px;background-color: rgb(0, 255, 255);\"></td><td title=\"Index: [2, 2]&#10;Color: (0, 255, 255)\" style=\"width: 20px; height: 20px;background-color: rgb(0, 255, 255);\"></td><td title=\"Index: [2, 3]&#10;Color: (0, 255, 255)\" style=\"width: 20px; height: 20px;background-color: rgb(0, 255, 255);\"></td><td title=\"Index: [2, 4]&#10;Color: (0, 255, 255)\" style=\"width: 20px; height: 20px;background-color: rgb(0, 255, 255);\"></td><td title=\"Index: [2, 5]&#10;Color: (0, 255, 255)\" style=\"width: 20px; height: 20px;background-color: rgb(0, 255, 255);\"></td><td title=\"Index: [2, 6]&#10;Color: (0, 255, 255)\" style=\"width: 20px; height: 20px;background-color: rgb(0, 255, 255);\"></td><td title=\"Index: [2, 7]&#10;Color: (0, 255, 255)\" style=\"width: 20px; height: 20px;background-color: rgb(0, 255, 255);\"></td></tr><tr><td title=\"Index: [3, 0]&#10;Color: (0, 255, 255)\" style=\"width: 20px; height: 20px;background-color: rgb(0, 255, 255);\"></td><td title=\"Index: [3, 1]&#10;Color: (0, 255, 255)\" style=\"width: 20px; height: 20px;background-color: rgb(0, 255, 255);\"></td><td title=\"Index: [3, 2]&#10;Color: (0, 255, 255)\" style=\"width: 20px; height: 20px;background-color: rgb(0, 255, 255);\"></td><td title=\"Index: [3, 3]&#10;Color: (0, 255, 255)\" style=\"width: 20px; height: 20px;background-color: rgb(0, 255, 255);\"></td><td title=\"Index: [3, 4]&#10;Color: (0, 255, 255)\" style=\"width: 20px; height: 20px;background-color: rgb(0, 255, 255);\"></td><td title=\"Index: [3, 5]&#10;Color: (0, 255, 255)\" style=\"width: 20px; height: 20px;background-color: rgb(0, 255, 255);\"></td><td title=\"Index: [3, 6]&#10;Color: (0, 255, 255)\" style=\"width: 20px; height: 20px;background-color: rgb(0, 255, 255);\"></td><td title=\"Index: [3, 7]&#10;Color: (0, 255, 255)\" style=\"width: 20px; height: 20px;background-color: rgb(0, 255, 255);\"></td></tr><tr><td title=\"Index: [4, 0]&#10;Color: (0, 255, 255)\" style=\"width: 20px; height: 20px;background-color: rgb(0, 255, 255);\"></td><td title=\"Index: [4, 1]&#10;Color: (0, 255, 255)\" style=\"width: 20px; height: 20px;background-color: rgb(0, 255, 255);\"></td><td title=\"Index: [4, 2]&#10;Color: (0, 255, 255)\" style=\"width: 20px; height: 20px;background-color: rgb(0, 255, 255);\"></td><td title=\"Index: [4, 3]&#10;Color: (0, 255, 255)\" style=\"width: 20px; height: 20px;background-color: rgb(0, 255, 255);\"></td><td title=\"Index: [4, 4]&#10;Color: (0, 255, 255)\" style=\"width: 20px; height: 20px;background-color: rgb(0, 255, 255);\"></td><td title=\"Index: [4, 5]&#10;Color: (0, 255, 255)\" style=\"width: 20px; height: 20px;background-color: rgb(0, 255, 255);\"></td><td title=\"Index: [4, 6]&#10;Color: (0, 255, 255)\" style=\"width: 20px; height: 20px;background-color: rgb(0, 255, 255);\"></td><td title=\"Index: [4, 7]&#10;Color: (0, 255, 255)\" style=\"width: 20px; height: 20px;background-color: rgb(0, 255, 255);\"></td></tr><tr><td title=\"Index: [5, 0]&#10;Color: (0, 255, 255)\" style=\"width: 20px; height: 20px;background-color: rgb(0, 255, 255);\"></td><td title=\"Index: [5, 1]&#10;Color: (0, 255, 255)\" style=\"width: 20px; height: 20px;background-color: rgb(0, 255, 255);\"></td><td title=\"Index: [5, 2]&#10;Color: (0, 255, 255)\" style=\"width: 20px; height: 20px;background-color: rgb(0, 255, 255);\"></td><td title=\"Index: [5, 3]&#10;Color: (0, 255, 255)\" style=\"width: 20px; height: 20px;background-color: rgb(0, 255, 255);\"></td><td title=\"Index: [5, 4]&#10;Color: (0, 255, 255)\" style=\"width: 20px; height: 20px;background-color: rgb(0, 255, 255);\"></td><td title=\"Index: [5, 5]&#10;Color: (0, 255, 255)\" style=\"width: 20px; height: 20px;background-color: rgb(0, 255, 255);\"></td><td title=\"Index: [5, 6]&#10;Color: (0, 255, 255)\" style=\"width: 20px; height: 20px;background-color: rgb(0, 255, 255);\"></td><td title=\"Index: [5, 7]&#10;Color: (0, 255, 255)\" style=\"width: 20px; height: 20px;background-color: rgb(0, 255, 255);\"></td></tr><tr><td title=\"Index: [6, 0]&#10;Color: (0, 255, 255)\" style=\"width: 20px; height: 20px;background-color: rgb(0, 255, 255);\"></td><td title=\"Index: [6, 1]&#10;Color: (0, 255, 255)\" style=\"width: 20px; height: 20px;background-color: rgb(0, 255, 255);\"></td><td title=\"Index: [6, 2]&#10;Color: (0, 255, 255)\" style=\"width: 20px; height: 20px;background-color: rgb(0, 255, 255);\"></td><td title=\"Index: [6, 3]&#10;Color: (0, 255, 255)\" style=\"width: 20px; height: 20px;background-color: rgb(0, 255, 255);\"></td><td title=\"Index: [6, 4]&#10;Color: (0, 255, 255)\" style=\"width: 20px; height: 20px;background-color: rgb(0, 255, 255);\"></td><td title=\"Index: [6, 5]&#10;Color: (0, 255, 255)\" style=\"width: 20px; height: 20px;background-color: rgb(0, 255, 255);\"></td><td title=\"Index: [6, 6]&#10;Color: (0, 255, 255)\" style=\"width: 20px; height: 20px;background-color: rgb(0, 255, 255);\"></td><td title=\"Index: [6, 7]&#10;Color: (0, 255, 255)\" style=\"width: 20px; height: 20px;background-color: rgb(0, 255, 255);\"></td></tr><tr><td title=\"Index: [7, 0]&#10;Color: (0, 255, 255)\" style=\"width: 20px; height: 20px;background-color: rgb(0, 255, 255);\"></td><td title=\"Index: [7, 1]&#10;Color: (0, 255, 255)\" style=\"width: 20px; height: 20px;background-color: rgb(0, 255, 255);\"></td><td title=\"Index: [7, 2]&#10;Color: (0, 255, 255)\" style=\"width: 20px; height: 20px;background-color: rgb(0, 255, 255);\"></td><td title=\"Index: [7, 3]&#10;Color: (0, 255, 255)\" style=\"width: 20px; height: 20px;background-color: rgb(0, 255, 255);\"></td><td title=\"Index: [7, 4]&#10;Color: (0, 255, 255)\" style=\"width: 20px; height: 20px;background-color: rgb(0, 255, 255);\"></td><td title=\"Index: [7, 5]&#10;Color: (0, 255, 255)\" style=\"width: 20px; height: 20px;background-color: rgb(0, 255, 255);\"></td><td title=\"Index: [7, 6]&#10;Color: (0, 255, 255)\" style=\"width: 20px; height: 20px;background-color: rgb(0, 255, 255);\"></td><td title=\"Index: [7, 7]&#10;Color: (0, 255, 255)\" style=\"width: 20px; height: 20px;background-color: rgb(0, 255, 255);\"></td></tr></tbody></table>"
       ],
       "metadata": {},
       "output_type": "pyout",
       "prompt_number": 11,
       "text": [
        "<ipythonblocks.ipythonblocks.BlockGrid at 0x4190f28>"
       ]
      }
     ],
     "prompt_number": 11
    },
    {
     "cell_type": "code",
     "collapsed": false,
     "input": [
      "yourboard[0,0] = (0,0,0)\n",
      "yourboard"
     ],
     "language": "python",
     "metadata": {},
     "outputs": [
      {
       "html": [
        "<style type=\"text/css\">table.blockgrid {border: none;} .blockgrid tr {border: none;} .blockgrid td {padding: 0px;} #blocks0690bbc8-1535-4804-ab58-16e1d6e005eb td {border: 1px solid white;}</style><table id=\"blocks0690bbc8-1535-4804-ab58-16e1d6e005eb\" class=\"blockgrid\"><tbody><tr><td title=\"Index: [0, 0]&#10;Color: (0, 0, 0)\" style=\"width: 20px; height: 20px;background-color: rgb(0, 0, 0);\"></td><td title=\"Index: [0, 1]&#10;Color: (0, 255, 255)\" style=\"width: 20px; height: 20px;background-color: rgb(0, 255, 255);\"></td><td title=\"Index: [0, 2]&#10;Color: (0, 255, 255)\" style=\"width: 20px; height: 20px;background-color: rgb(0, 255, 255);\"></td><td title=\"Index: [0, 3]&#10;Color: (0, 255, 255)\" style=\"width: 20px; height: 20px;background-color: rgb(0, 255, 255);\"></td><td title=\"Index: [0, 4]&#10;Color: (0, 255, 255)\" style=\"width: 20px; height: 20px;background-color: rgb(0, 255, 255);\"></td><td title=\"Index: [0, 5]&#10;Color: (0, 255, 255)\" style=\"width: 20px; height: 20px;background-color: rgb(0, 255, 255);\"></td><td title=\"Index: [0, 6]&#10;Color: (0, 255, 255)\" style=\"width: 20px; height: 20px;background-color: rgb(0, 255, 255);\"></td><td title=\"Index: [0, 7]&#10;Color: (0, 255, 255)\" style=\"width: 20px; height: 20px;background-color: rgb(0, 255, 255);\"></td></tr><tr><td title=\"Index: [1, 0]&#10;Color: (0, 255, 255)\" style=\"width: 20px; height: 20px;background-color: rgb(0, 255, 255);\"></td><td title=\"Index: [1, 1]&#10;Color: (0, 255, 255)\" style=\"width: 20px; height: 20px;background-color: rgb(0, 255, 255);\"></td><td title=\"Index: [1, 2]&#10;Color: (0, 255, 255)\" style=\"width: 20px; height: 20px;background-color: rgb(0, 255, 255);\"></td><td title=\"Index: [1, 3]&#10;Color: (0, 255, 255)\" style=\"width: 20px; height: 20px;background-color: rgb(0, 255, 255);\"></td><td title=\"Index: [1, 4]&#10;Color: (0, 255, 255)\" style=\"width: 20px; height: 20px;background-color: rgb(0, 255, 255);\"></td><td title=\"Index: [1, 5]&#10;Color: (0, 255, 255)\" style=\"width: 20px; height: 20px;background-color: rgb(0, 255, 255);\"></td><td title=\"Index: [1, 6]&#10;Color: (0, 255, 255)\" style=\"width: 20px; height: 20px;background-color: rgb(0, 255, 255);\"></td><td title=\"Index: [1, 7]&#10;Color: (0, 255, 255)\" style=\"width: 20px; height: 20px;background-color: rgb(0, 255, 255);\"></td></tr><tr><td title=\"Index: [2, 0]&#10;Color: (0, 255, 255)\" style=\"width: 20px; height: 20px;background-color: rgb(0, 255, 255);\"></td><td title=\"Index: [2, 1]&#10;Color: (0, 255, 255)\" style=\"width: 20px; height: 20px;background-color: rgb(0, 255, 255);\"></td><td title=\"Index: [2, 2]&#10;Color: (0, 255, 255)\" style=\"width: 20px; height: 20px;background-color: rgb(0, 255, 255);\"></td><td title=\"Index: [2, 3]&#10;Color: (0, 255, 255)\" style=\"width: 20px; height: 20px;background-color: rgb(0, 255, 255);\"></td><td title=\"Index: [2, 4]&#10;Color: (0, 255, 255)\" style=\"width: 20px; height: 20px;background-color: rgb(0, 255, 255);\"></td><td title=\"Index: [2, 5]&#10;Color: (0, 255, 255)\" style=\"width: 20px; height: 20px;background-color: rgb(0, 255, 255);\"></td><td title=\"Index: [2, 6]&#10;Color: (0, 255, 255)\" style=\"width: 20px; height: 20px;background-color: rgb(0, 255, 255);\"></td><td title=\"Index: [2, 7]&#10;Color: (0, 255, 255)\" style=\"width: 20px; height: 20px;background-color: rgb(0, 255, 255);\"></td></tr><tr><td title=\"Index: [3, 0]&#10;Color: (0, 255, 255)\" style=\"width: 20px; height: 20px;background-color: rgb(0, 255, 255);\"></td><td title=\"Index: [3, 1]&#10;Color: (0, 255, 255)\" style=\"width: 20px; height: 20px;background-color: rgb(0, 255, 255);\"></td><td title=\"Index: [3, 2]&#10;Color: (0, 255, 255)\" style=\"width: 20px; height: 20px;background-color: rgb(0, 255, 255);\"></td><td title=\"Index: [3, 3]&#10;Color: (0, 255, 255)\" style=\"width: 20px; height: 20px;background-color: rgb(0, 255, 255);\"></td><td title=\"Index: [3, 4]&#10;Color: (0, 255, 255)\" style=\"width: 20px; height: 20px;background-color: rgb(0, 255, 255);\"></td><td title=\"Index: [3, 5]&#10;Color: (0, 255, 255)\" style=\"width: 20px; height: 20px;background-color: rgb(0, 255, 255);\"></td><td title=\"Index: [3, 6]&#10;Color: (0, 255, 255)\" style=\"width: 20px; height: 20px;background-color: rgb(0, 255, 255);\"></td><td title=\"Index: [3, 7]&#10;Color: (0, 255, 255)\" style=\"width: 20px; height: 20px;background-color: rgb(0, 255, 255);\"></td></tr><tr><td title=\"Index: [4, 0]&#10;Color: (0, 255, 255)\" style=\"width: 20px; height: 20px;background-color: rgb(0, 255, 255);\"></td><td title=\"Index: [4, 1]&#10;Color: (0, 255, 255)\" style=\"width: 20px; height: 20px;background-color: rgb(0, 255, 255);\"></td><td title=\"Index: [4, 2]&#10;Color: (0, 255, 255)\" style=\"width: 20px; height: 20px;background-color: rgb(0, 255, 255);\"></td><td title=\"Index: [4, 3]&#10;Color: (0, 255, 255)\" style=\"width: 20px; height: 20px;background-color: rgb(0, 255, 255);\"></td><td title=\"Index: [4, 4]&#10;Color: (0, 255, 255)\" style=\"width: 20px; height: 20px;background-color: rgb(0, 255, 255);\"></td><td title=\"Index: [4, 5]&#10;Color: (0, 255, 255)\" style=\"width: 20px; height: 20px;background-color: rgb(0, 255, 255);\"></td><td title=\"Index: [4, 6]&#10;Color: (0, 255, 255)\" style=\"width: 20px; height: 20px;background-color: rgb(0, 255, 255);\"></td><td title=\"Index: [4, 7]&#10;Color: (0, 255, 255)\" style=\"width: 20px; height: 20px;background-color: rgb(0, 255, 255);\"></td></tr><tr><td title=\"Index: [5, 0]&#10;Color: (0, 255, 255)\" style=\"width: 20px; height: 20px;background-color: rgb(0, 255, 255);\"></td><td title=\"Index: [5, 1]&#10;Color: (0, 255, 255)\" style=\"width: 20px; height: 20px;background-color: rgb(0, 255, 255);\"></td><td title=\"Index: [5, 2]&#10;Color: (0, 255, 255)\" style=\"width: 20px; height: 20px;background-color: rgb(0, 255, 255);\"></td><td title=\"Index: [5, 3]&#10;Color: (0, 255, 255)\" style=\"width: 20px; height: 20px;background-color: rgb(0, 255, 255);\"></td><td title=\"Index: [5, 4]&#10;Color: (0, 255, 255)\" style=\"width: 20px; height: 20px;background-color: rgb(0, 255, 255);\"></td><td title=\"Index: [5, 5]&#10;Color: (0, 255, 255)\" style=\"width: 20px; height: 20px;background-color: rgb(0, 255, 255);\"></td><td title=\"Index: [5, 6]&#10;Color: (0, 255, 255)\" style=\"width: 20px; height: 20px;background-color: rgb(0, 255, 255);\"></td><td title=\"Index: [5, 7]&#10;Color: (0, 255, 255)\" style=\"width: 20px; height: 20px;background-color: rgb(0, 255, 255);\"></td></tr><tr><td title=\"Index: [6, 0]&#10;Color: (0, 255, 255)\" style=\"width: 20px; height: 20px;background-color: rgb(0, 255, 255);\"></td><td title=\"Index: [6, 1]&#10;Color: (0, 255, 255)\" style=\"width: 20px; height: 20px;background-color: rgb(0, 255, 255);\"></td><td title=\"Index: [6, 2]&#10;Color: (0, 255, 255)\" style=\"width: 20px; height: 20px;background-color: rgb(0, 255, 255);\"></td><td title=\"Index: [6, 3]&#10;Color: (0, 255, 255)\" style=\"width: 20px; height: 20px;background-color: rgb(0, 255, 255);\"></td><td title=\"Index: [6, 4]&#10;Color: (0, 255, 255)\" style=\"width: 20px; height: 20px;background-color: rgb(0, 255, 255);\"></td><td title=\"Index: [6, 5]&#10;Color: (0, 255, 255)\" style=\"width: 20px; height: 20px;background-color: rgb(0, 255, 255);\"></td><td title=\"Index: [6, 6]&#10;Color: (0, 255, 255)\" style=\"width: 20px; height: 20px;background-color: rgb(0, 255, 255);\"></td><td title=\"Index: [6, 7]&#10;Color: (0, 255, 255)\" style=\"width: 20px; height: 20px;background-color: rgb(0, 255, 255);\"></td></tr><tr><td title=\"Index: [7, 0]&#10;Color: (0, 255, 255)\" style=\"width: 20px; height: 20px;background-color: rgb(0, 255, 255);\"></td><td title=\"Index: [7, 1]&#10;Color: (0, 255, 255)\" style=\"width: 20px; height: 20px;background-color: rgb(0, 255, 255);\"></td><td title=\"Index: [7, 2]&#10;Color: (0, 255, 255)\" style=\"width: 20px; height: 20px;background-color: rgb(0, 255, 255);\"></td><td title=\"Index: [7, 3]&#10;Color: (0, 255, 255)\" style=\"width: 20px; height: 20px;background-color: rgb(0, 255, 255);\"></td><td title=\"Index: [7, 4]&#10;Color: (0, 255, 255)\" style=\"width: 20px; height: 20px;background-color: rgb(0, 255, 255);\"></td><td title=\"Index: [7, 5]&#10;Color: (0, 255, 255)\" style=\"width: 20px; height: 20px;background-color: rgb(0, 255, 255);\"></td><td title=\"Index: [7, 6]&#10;Color: (0, 255, 255)\" style=\"width: 20px; height: 20px;background-color: rgb(0, 255, 255);\"></td><td title=\"Index: [7, 7]&#10;Color: (0, 255, 255)\" style=\"width: 20px; height: 20px;background-color: rgb(0, 255, 255);\"></td></tr></tbody></table>"
       ],
       "metadata": {},
       "output_type": "pyout",
       "prompt_number": 15,
       "text": [
        "<ipythonblocks.ipythonblocks.BlockGrid at 0x4190f28>"
       ]
      }
     ],
     "prompt_number": 15
    },
    {
     "cell_type": "code",
     "collapsed": false,
     "input": [
      "print ship_row\n",
      "print ship_col\n",
      "print direction\n",
      "print orientation\n",
      "compboard"
     ],
     "language": "python",
     "metadata": {},
     "outputs": [
      {
       "output_type": "stream",
       "stream": "stdout",
       "text": [
        "6\n",
        "1\n",
        "['Negative']\n",
        "['Vertical']\n"
       ]
      },
      {
       "html": [
        "<style type=\"text/css\">table.blockgrid {border: none;} .blockgrid tr {border: none;} .blockgrid td {padding: 0px;} #blocks73c95cda-7728-43dd-85e6-de56632dc632 td {border: 1px solid white;}</style><table id=\"blocks73c95cda-7728-43dd-85e6-de56632dc632\" class=\"blockgrid\"><tbody><tr><td title=\"Index: [0, 0]&#10;Color: (0, 255, 255)\" style=\"width: 20px; height: 20px;background-color: rgb(0, 255, 255);\"></td><td title=\"Index: [0, 1]&#10;Color: (0, 255, 255)\" style=\"width: 20px; height: 20px;background-color: rgb(0, 255, 255);\"></td><td title=\"Index: [0, 2]&#10;Color: (0, 255, 255)\" style=\"width: 20px; height: 20px;background-color: rgb(0, 255, 255);\"></td><td title=\"Index: [0, 3]&#10;Color: (0, 255, 255)\" style=\"width: 20px; height: 20px;background-color: rgb(0, 255, 255);\"></td><td title=\"Index: [0, 4]&#10;Color: (0, 255, 255)\" style=\"width: 20px; height: 20px;background-color: rgb(0, 255, 255);\"></td><td title=\"Index: [0, 5]&#10;Color: (0, 255, 255)\" style=\"width: 20px; height: 20px;background-color: rgb(0, 255, 255);\"></td><td title=\"Index: [0, 6]&#10;Color: (0, 255, 255)\" style=\"width: 20px; height: 20px;background-color: rgb(0, 255, 255);\"></td><td title=\"Index: [0, 7]&#10;Color: (0, 255, 255)\" style=\"width: 20px; height: 20px;background-color: rgb(0, 255, 255);\"></td></tr><tr><td title=\"Index: [1, 0]&#10;Color: (0, 255, 255)\" style=\"width: 20px; height: 20px;background-color: rgb(0, 255, 255);\"></td><td title=\"Index: [1, 1]&#10;Color: (0, 255, 255)\" style=\"width: 20px; height: 20px;background-color: rgb(0, 255, 255);\"></td><td title=\"Index: [1, 2]&#10;Color: (0, 255, 255)\" style=\"width: 20px; height: 20px;background-color: rgb(0, 255, 255);\"></td><td title=\"Index: [1, 3]&#10;Color: (0, 255, 255)\" style=\"width: 20px; height: 20px;background-color: rgb(0, 255, 255);\"></td><td title=\"Index: [1, 4]&#10;Color: (0, 255, 255)\" style=\"width: 20px; height: 20px;background-color: rgb(0, 255, 255);\"></td><td title=\"Index: [1, 5]&#10;Color: (0, 255, 255)\" style=\"width: 20px; height: 20px;background-color: rgb(0, 255, 255);\"></td><td title=\"Index: [1, 6]&#10;Color: (0, 255, 255)\" style=\"width: 20px; height: 20px;background-color: rgb(0, 255, 255);\"></td><td title=\"Index: [1, 7]&#10;Color: (0, 255, 255)\" style=\"width: 20px; height: 20px;background-color: rgb(0, 255, 255);\"></td></tr><tr><td title=\"Index: [2, 0]&#10;Color: (0, 255, 255)\" style=\"width: 20px; height: 20px;background-color: rgb(0, 255, 255);\"></td><td title=\"Index: [2, 1]&#10;Color: (0, 255, 255)\" style=\"width: 20px; height: 20px;background-color: rgb(0, 255, 255);\"></td><td title=\"Index: [2, 2]&#10;Color: (0, 255, 255)\" style=\"width: 20px; height: 20px;background-color: rgb(0, 255, 255);\"></td><td title=\"Index: [2, 3]&#10;Color: (0, 255, 255)\" style=\"width: 20px; height: 20px;background-color: rgb(0, 255, 255);\"></td><td title=\"Index: [2, 4]&#10;Color: (0, 255, 255)\" style=\"width: 20px; height: 20px;background-color: rgb(0, 255, 255);\"></td><td title=\"Index: [2, 5]&#10;Color: (0, 255, 255)\" style=\"width: 20px; height: 20px;background-color: rgb(0, 255, 255);\"></td><td title=\"Index: [2, 6]&#10;Color: (0, 255, 255)\" style=\"width: 20px; height: 20px;background-color: rgb(0, 255, 255);\"></td><td title=\"Index: [2, 7]&#10;Color: (0, 255, 255)\" style=\"width: 20px; height: 20px;background-color: rgb(0, 255, 255);\"></td></tr><tr><td title=\"Index: [3, 0]&#10;Color: (0, 255, 255)\" style=\"width: 20px; height: 20px;background-color: rgb(0, 255, 255);\"></td><td title=\"Index: [3, 1]&#10;Color: (255, 0, 0)\" style=\"width: 20px; height: 20px;background-color: rgb(255, 0, 0);\"></td><td title=\"Index: [3, 2]&#10;Color: (0, 255, 255)\" style=\"width: 20px; height: 20px;background-color: rgb(0, 255, 255);\"></td><td title=\"Index: [3, 3]&#10;Color: (0, 255, 255)\" style=\"width: 20px; height: 20px;background-color: rgb(0, 255, 255);\"></td><td title=\"Index: [3, 4]&#10;Color: (0, 255, 255)\" style=\"width: 20px; height: 20px;background-color: rgb(0, 255, 255);\"></td><td title=\"Index: [3, 5]&#10;Color: (0, 255, 255)\" style=\"width: 20px; height: 20px;background-color: rgb(0, 255, 255);\"></td><td title=\"Index: [3, 6]&#10;Color: (0, 255, 255)\" style=\"width: 20px; height: 20px;background-color: rgb(0, 255, 255);\"></td><td title=\"Index: [3, 7]&#10;Color: (0, 255, 255)\" style=\"width: 20px; height: 20px;background-color: rgb(0, 255, 255);\"></td></tr><tr><td title=\"Index: [4, 0]&#10;Color: (0, 255, 255)\" style=\"width: 20px; height: 20px;background-color: rgb(0, 255, 255);\"></td><td title=\"Index: [4, 1]&#10;Color: (255, 0, 0)\" style=\"width: 20px; height: 20px;background-color: rgb(255, 0, 0);\"></td><td title=\"Index: [4, 2]&#10;Color: (0, 255, 255)\" style=\"width: 20px; height: 20px;background-color: rgb(0, 255, 255);\"></td><td title=\"Index: [4, 3]&#10;Color: (0, 255, 255)\" style=\"width: 20px; height: 20px;background-color: rgb(0, 255, 255);\"></td><td title=\"Index: [4, 4]&#10;Color: (0, 255, 255)\" style=\"width: 20px; height: 20px;background-color: rgb(0, 255, 255);\"></td><td title=\"Index: [4, 5]&#10;Color: (0, 255, 255)\" style=\"width: 20px; height: 20px;background-color: rgb(0, 255, 255);\"></td><td title=\"Index: [4, 6]&#10;Color: (0, 255, 255)\" style=\"width: 20px; height: 20px;background-color: rgb(0, 255, 255);\"></td><td title=\"Index: [4, 7]&#10;Color: (0, 255, 255)\" style=\"width: 20px; height: 20px;background-color: rgb(0, 255, 255);\"></td></tr><tr><td title=\"Index: [5, 0]&#10;Color: (0, 255, 255)\" style=\"width: 20px; height: 20px;background-color: rgb(0, 255, 255);\"></td><td title=\"Index: [5, 1]&#10;Color: (255, 0, 0)\" style=\"width: 20px; height: 20px;background-color: rgb(255, 0, 0);\"></td><td title=\"Index: [5, 2]&#10;Color: (0, 255, 255)\" style=\"width: 20px; height: 20px;background-color: rgb(0, 255, 255);\"></td><td title=\"Index: [5, 3]&#10;Color: (0, 255, 255)\" style=\"width: 20px; height: 20px;background-color: rgb(0, 255, 255);\"></td><td title=\"Index: [5, 4]&#10;Color: (0, 255, 255)\" style=\"width: 20px; height: 20px;background-color: rgb(0, 255, 255);\"></td><td title=\"Index: [5, 5]&#10;Color: (0, 255, 255)\" style=\"width: 20px; height: 20px;background-color: rgb(0, 255, 255);\"></td><td title=\"Index: [5, 6]&#10;Color: (0, 255, 255)\" style=\"width: 20px; height: 20px;background-color: rgb(0, 255, 255);\"></td><td title=\"Index: [5, 7]&#10;Color: (0, 255, 255)\" style=\"width: 20px; height: 20px;background-color: rgb(0, 255, 255);\"></td></tr><tr><td title=\"Index: [6, 0]&#10;Color: (0, 255, 255)\" style=\"width: 20px; height: 20px;background-color: rgb(0, 255, 255);\"></td><td title=\"Index: [6, 1]&#10;Color: (255, 0, 0)\" style=\"width: 20px; height: 20px;background-color: rgb(255, 0, 0);\"></td><td title=\"Index: [6, 2]&#10;Color: (0, 255, 255)\" style=\"width: 20px; height: 20px;background-color: rgb(0, 255, 255);\"></td><td title=\"Index: [6, 3]&#10;Color: (0, 255, 255)\" style=\"width: 20px; height: 20px;background-color: rgb(0, 255, 255);\"></td><td title=\"Index: [6, 4]&#10;Color: (0, 255, 255)\" style=\"width: 20px; height: 20px;background-color: rgb(0, 255, 255);\"></td><td title=\"Index: [6, 5]&#10;Color: (0, 255, 255)\" style=\"width: 20px; height: 20px;background-color: rgb(0, 255, 255);\"></td><td title=\"Index: [6, 6]&#10;Color: (0, 255, 255)\" style=\"width: 20px; height: 20px;background-color: rgb(0, 255, 255);\"></td><td title=\"Index: [6, 7]&#10;Color: (0, 255, 255)\" style=\"width: 20px; height: 20px;background-color: rgb(0, 255, 255);\"></td></tr><tr><td title=\"Index: [7, 0]&#10;Color: (0, 255, 255)\" style=\"width: 20px; height: 20px;background-color: rgb(0, 255, 255);\"></td><td title=\"Index: [7, 1]&#10;Color: (0, 255, 255)\" style=\"width: 20px; height: 20px;background-color: rgb(0, 255, 255);\"></td><td title=\"Index: [7, 2]&#10;Color: (0, 255, 255)\" style=\"width: 20px; height: 20px;background-color: rgb(0, 255, 255);\"></td><td title=\"Index: [7, 3]&#10;Color: (0, 255, 255)\" style=\"width: 20px; height: 20px;background-color: rgb(0, 255, 255);\"></td><td title=\"Index: [7, 4]&#10;Color: (0, 255, 255)\" style=\"width: 20px; height: 20px;background-color: rgb(0, 255, 255);\"></td><td title=\"Index: [7, 5]&#10;Color: (0, 255, 255)\" style=\"width: 20px; height: 20px;background-color: rgb(0, 255, 255);\"></td><td title=\"Index: [7, 6]&#10;Color: (0, 255, 255)\" style=\"width: 20px; height: 20px;background-color: rgb(0, 255, 255);\"></td><td title=\"Index: [7, 7]&#10;Color: (0, 255, 255)\" style=\"width: 20px; height: 20px;background-color: rgb(0, 255, 255);\"></td></tr></tbody></table>"
       ],
       "metadata": {},
       "output_type": "pyout",
       "prompt_number": 12,
       "text": [
        "<ipythonblocks.ipythonblocks.BlockGrid at 0x415d400>"
       ]
      }
     ],
     "prompt_number": 12
    },
    {
     "cell_type": "code",
     "collapsed": false,
     "input": [
      "print \"You have\",turn ,\"turns to sink my ship!\"\n",
      "yourboard"
     ],
     "language": "python",
     "metadata": {},
     "outputs": [
      {
       "output_type": "stream",
       "stream": "stdout",
       "text": [
        "You have 11 turns to sink my ship!\n"
       ]
      },
      {
       "html": [
        "<style type=\"text/css\">table.blockgrid {border: none;} .blockgrid tr {border: none;} .blockgrid td {padding: 0px;} #blocksab0dba55-0ede-4444-9aec-c27c465d7aeb td {border: 1px solid white;}</style><table id=\"blocksab0dba55-0ede-4444-9aec-c27c465d7aeb\" class=\"blockgrid\"><tbody><tr><td title=\"Index: [0, 0]&#10;Color: (0, 255, 255)\" style=\"width: 20px; height: 20px;background-color: rgb(0, 255, 255);\"></td><td title=\"Index: [0, 1]&#10;Color: (0, 255, 255)\" style=\"width: 20px; height: 20px;background-color: rgb(0, 255, 255);\"></td><td title=\"Index: [0, 2]&#10;Color: (0, 255, 255)\" style=\"width: 20px; height: 20px;background-color: rgb(0, 255, 255);\"></td><td title=\"Index: [0, 3]&#10;Color: (0, 255, 255)\" style=\"width: 20px; height: 20px;background-color: rgb(0, 255, 255);\"></td><td title=\"Index: [0, 4]&#10;Color: (0, 255, 255)\" style=\"width: 20px; height: 20px;background-color: rgb(0, 255, 255);\"></td><td title=\"Index: [0, 5]&#10;Color: (0, 255, 255)\" style=\"width: 20px; height: 20px;background-color: rgb(0, 255, 255);\"></td><td title=\"Index: [0, 6]&#10;Color: (0, 255, 255)\" style=\"width: 20px; height: 20px;background-color: rgb(0, 255, 255);\"></td><td title=\"Index: [0, 7]&#10;Color: (0, 255, 255)\" style=\"width: 20px; height: 20px;background-color: rgb(0, 255, 255);\"></td></tr><tr><td title=\"Index: [1, 0]&#10;Color: (0, 255, 255)\" style=\"width: 20px; height: 20px;background-color: rgb(0, 255, 255);\"></td><td title=\"Index: [1, 1]&#10;Color: (0, 255, 255)\" style=\"width: 20px; height: 20px;background-color: rgb(0, 255, 255);\"></td><td title=\"Index: [1, 2]&#10;Color: (0, 255, 255)\" style=\"width: 20px; height: 20px;background-color: rgb(0, 255, 255);\"></td><td title=\"Index: [1, 3]&#10;Color: (0, 255, 255)\" style=\"width: 20px; height: 20px;background-color: rgb(0, 255, 255);\"></td><td title=\"Index: [1, 4]&#10;Color: (0, 255, 255)\" style=\"width: 20px; height: 20px;background-color: rgb(0, 255, 255);\"></td><td title=\"Index: [1, 5]&#10;Color: (0, 255, 255)\" style=\"width: 20px; height: 20px;background-color: rgb(0, 255, 255);\"></td><td title=\"Index: [1, 6]&#10;Color: (0, 255, 255)\" style=\"width: 20px; height: 20px;background-color: rgb(0, 255, 255);\"></td><td title=\"Index: [1, 7]&#10;Color: (0, 255, 255)\" style=\"width: 20px; height: 20px;background-color: rgb(0, 255, 255);\"></td></tr><tr><td title=\"Index: [2, 0]&#10;Color: (0, 255, 255)\" style=\"width: 20px; height: 20px;background-color: rgb(0, 255, 255);\"></td><td title=\"Index: [2, 1]&#10;Color: (0, 255, 255)\" style=\"width: 20px; height: 20px;background-color: rgb(0, 255, 255);\"></td><td title=\"Index: [2, 2]&#10;Color: (0, 255, 255)\" style=\"width: 20px; height: 20px;background-color: rgb(0, 255, 255);\"></td><td title=\"Index: [2, 3]&#10;Color: (0, 255, 255)\" style=\"width: 20px; height: 20px;background-color: rgb(0, 255, 255);\"></td><td title=\"Index: [2, 4]&#10;Color: (0, 255, 255)\" style=\"width: 20px; height: 20px;background-color: rgb(0, 255, 255);\"></td><td title=\"Index: [2, 5]&#10;Color: (0, 255, 255)\" style=\"width: 20px; height: 20px;background-color: rgb(0, 255, 255);\"></td><td title=\"Index: [2, 6]&#10;Color: (0, 255, 255)\" style=\"width: 20px; height: 20px;background-color: rgb(0, 255, 255);\"></td><td title=\"Index: [2, 7]&#10;Color: (0, 255, 255)\" style=\"width: 20px; height: 20px;background-color: rgb(0, 255, 255);\"></td></tr><tr><td title=\"Index: [3, 0]&#10;Color: (0, 255, 255)\" style=\"width: 20px; height: 20px;background-color: rgb(0, 255, 255);\"></td><td title=\"Index: [3, 1]&#10;Color: (0, 255, 255)\" style=\"width: 20px; height: 20px;background-color: rgb(0, 255, 255);\"></td><td title=\"Index: [3, 2]&#10;Color: (0, 255, 255)\" style=\"width: 20px; height: 20px;background-color: rgb(0, 255, 255);\"></td><td title=\"Index: [3, 3]&#10;Color: (0, 255, 255)\" style=\"width: 20px; height: 20px;background-color: rgb(0, 255, 255);\"></td><td title=\"Index: [3, 4]&#10;Color: (0, 255, 255)\" style=\"width: 20px; height: 20px;background-color: rgb(0, 255, 255);\"></td><td title=\"Index: [3, 5]&#10;Color: (0, 255, 255)\" style=\"width: 20px; height: 20px;background-color: rgb(0, 255, 255);\"></td><td title=\"Index: [3, 6]&#10;Color: (0, 255, 255)\" style=\"width: 20px; height: 20px;background-color: rgb(0, 255, 255);\"></td><td title=\"Index: [3, 7]&#10;Color: (0, 255, 255)\" style=\"width: 20px; height: 20px;background-color: rgb(0, 255, 255);\"></td></tr><tr><td title=\"Index: [4, 0]&#10;Color: (0, 255, 255)\" style=\"width: 20px; height: 20px;background-color: rgb(0, 255, 255);\"></td><td title=\"Index: [4, 1]&#10;Color: (0, 255, 255)\" style=\"width: 20px; height: 20px;background-color: rgb(0, 255, 255);\"></td><td title=\"Index: [4, 2]&#10;Color: (0, 255, 255)\" style=\"width: 20px; height: 20px;background-color: rgb(0, 255, 255);\"></td><td title=\"Index: [4, 3]&#10;Color: (0, 255, 255)\" style=\"width: 20px; height: 20px;background-color: rgb(0, 255, 255);\"></td><td title=\"Index: [4, 4]&#10;Color: (0, 255, 255)\" style=\"width: 20px; height: 20px;background-color: rgb(0, 255, 255);\"></td><td title=\"Index: [4, 5]&#10;Color: (0, 255, 255)\" style=\"width: 20px; height: 20px;background-color: rgb(0, 255, 255);\"></td><td title=\"Index: [4, 6]&#10;Color: (0, 255, 255)\" style=\"width: 20px; height: 20px;background-color: rgb(0, 255, 255);\"></td><td title=\"Index: [4, 7]&#10;Color: (0, 255, 255)\" style=\"width: 20px; height: 20px;background-color: rgb(0, 255, 255);\"></td></tr><tr><td title=\"Index: [5, 0]&#10;Color: (0, 255, 255)\" style=\"width: 20px; height: 20px;background-color: rgb(0, 255, 255);\"></td><td title=\"Index: [5, 1]&#10;Color: (0, 255, 255)\" style=\"width: 20px; height: 20px;background-color: rgb(0, 255, 255);\"></td><td title=\"Index: [5, 2]&#10;Color: (0, 255, 255)\" style=\"width: 20px; height: 20px;background-color: rgb(0, 255, 255);\"></td><td title=\"Index: [5, 3]&#10;Color: (0, 255, 255)\" style=\"width: 20px; height: 20px;background-color: rgb(0, 255, 255);\"></td><td title=\"Index: [5, 4]&#10;Color: (0, 255, 255)\" style=\"width: 20px; height: 20px;background-color: rgb(0, 255, 255);\"></td><td title=\"Index: [5, 5]&#10;Color: (0, 255, 255)\" style=\"width: 20px; height: 20px;background-color: rgb(0, 255, 255);\"></td><td title=\"Index: [5, 6]&#10;Color: (0, 255, 255)\" style=\"width: 20px; height: 20px;background-color: rgb(0, 255, 255);\"></td><td title=\"Index: [5, 7]&#10;Color: (0, 255, 255)\" style=\"width: 20px; height: 20px;background-color: rgb(0, 255, 255);\"></td></tr><tr><td title=\"Index: [6, 0]&#10;Color: (0, 255, 255)\" style=\"width: 20px; height: 20px;background-color: rgb(0, 255, 255);\"></td><td title=\"Index: [6, 1]&#10;Color: (0, 255, 255)\" style=\"width: 20px; height: 20px;background-color: rgb(0, 255, 255);\"></td><td title=\"Index: [6, 2]&#10;Color: (0, 255, 255)\" style=\"width: 20px; height: 20px;background-color: rgb(0, 255, 255);\"></td><td title=\"Index: [6, 3]&#10;Color: (0, 255, 255)\" style=\"width: 20px; height: 20px;background-color: rgb(0, 255, 255);\"></td><td title=\"Index: [6, 4]&#10;Color: (0, 255, 255)\" style=\"width: 20px; height: 20px;background-color: rgb(0, 255, 255);\"></td><td title=\"Index: [6, 5]&#10;Color: (0, 255, 255)\" style=\"width: 20px; height: 20px;background-color: rgb(0, 255, 255);\"></td><td title=\"Index: [6, 6]&#10;Color: (0, 255, 255)\" style=\"width: 20px; height: 20px;background-color: rgb(0, 255, 255);\"></td><td title=\"Index: [6, 7]&#10;Color: (0, 255, 255)\" style=\"width: 20px; height: 20px;background-color: rgb(0, 255, 255);\"></td></tr><tr><td title=\"Index: [7, 0]&#10;Color: (0, 255, 255)\" style=\"width: 20px; height: 20px;background-color: rgb(0, 255, 255);\"></td><td title=\"Index: [7, 1]&#10;Color: (0, 255, 255)\" style=\"width: 20px; height: 20px;background-color: rgb(0, 255, 255);\"></td><td title=\"Index: [7, 2]&#10;Color: (0, 255, 255)\" style=\"width: 20px; height: 20px;background-color: rgb(0, 255, 255);\"></td><td title=\"Index: [7, 3]&#10;Color: (0, 255, 255)\" style=\"width: 20px; height: 20px;background-color: rgb(0, 255, 255);\"></td><td title=\"Index: [7, 4]&#10;Color: (0, 255, 255)\" style=\"width: 20px; height: 20px;background-color: rgb(0, 255, 255);\"></td><td title=\"Index: [7, 5]&#10;Color: (0, 255, 255)\" style=\"width: 20px; height: 20px;background-color: rgb(0, 255, 255);\"></td><td title=\"Index: [7, 6]&#10;Color: (0, 255, 255)\" style=\"width: 20px; height: 20px;background-color: rgb(0, 255, 255);\"></td><td title=\"Index: [7, 7]&#10;Color: (0, 255, 255)\" style=\"width: 20px; height: 20px;background-color: rgb(0, 255, 255);\"></td></tr></tbody></table>"
       ],
       "metadata": {},
       "output_type": "pyout",
       "prompt_number": 13,
       "text": [
        "<ipythonblocks.ipythonblocks.BlockGrid at 0x4190f28>"
       ]
      }
     ],
     "prompt_number": 13
    },
    {
     "cell_type": "code",
     "collapsed": false,
     "input": [
      "from random import randint\n",
      "from ipythonblocks import BlockGrid\n",
      "from ipythonblocks import colors\n",
      "\n",
      "while turn > 0:\n",
      "    yourboard.show()   \n",
      "    guess_row = int(raw_input(\"Guess Row:\"))\n",
      "    guess_col = int(raw_input(\"Guess Col:\"))\n",
      "    if (guess_row < 0 or guess_row > 7) or (guess_col < 0 or guess_col > 7):\n",
      "            print \"Oops, that's not even in the ocean.\"\n",
      "            turn-=1\n",
      "            if turn == 0:\n",
      "                print \"Game Over\"\n",
      "                compboard.show()\n",
      "                break\n",
      "    elif compboard[guess_row,guess_col].color == (255,0,0):\n",
      "        print \"You hit my battleship!\"\n",
      "        yourboard[guess_row,guess_col] = (255,0,0)\n",
      "        hits -=1\n",
      "        turn -=1\n",
      "        if hits == 0:\n",
      "            print \"Congratulations! You sunk my battleship!\"\n",
      "            break\n",
      "    elif(yourboard[guess_row,guess_col] == (0,0,0) or yourboard[guess_row,guess_col] == (255,0,0)):\n",
      "        print \"You guessed that one already.\"\n",
      "        turn -=1\n",
      "        if turn == 0:\n",
      "            print \"Game Over\"\n",
      "            compboard.show()\n",
      "            break\n",
      "    else:\n",
      "        print \"You missed my battleship!\"\n",
      "        yourboard[guess_row,guess_col] = (0,0,0)\n",
      "        compboard[guess_row,guess_col] = (0,0,0)\n",
      "        turn-=1\n",
      "        if turn == 0:\n",
      "            print \"Game Over\"\n",
      "            compboard.show()\n",
      "            break\n",
      "    print \"Turns left \" ,turn\n"
     ],
     "language": "python",
     "metadata": {},
     "outputs": [
      {
       "html": [
        "<style type=\"text/css\">table.blockgrid {border: none;} .blockgrid tr {border: none;} .blockgrid td {padding: 0px;} #blocksaec9f670-ee34-4b1f-8d6c-107c9d74095c td {border: 1px solid white;}</style><table id=\"blocksaec9f670-ee34-4b1f-8d6c-107c9d74095c\" class=\"blockgrid\"><tbody><tr><td title=\"Index: [0, 0]&#10;Color: (0, 0, 0)\" style=\"width: 20px; height: 20px;background-color: rgb(0, 0, 0);\"></td><td title=\"Index: [0, 1]&#10;Color: (0, 255, 255)\" style=\"width: 20px; height: 20px;background-color: rgb(0, 255, 255);\"></td><td title=\"Index: [0, 2]&#10;Color: (0, 255, 255)\" style=\"width: 20px; height: 20px;background-color: rgb(0, 255, 255);\"></td><td title=\"Index: [0, 3]&#10;Color: (0, 255, 255)\" style=\"width: 20px; height: 20px;background-color: rgb(0, 255, 255);\"></td><td title=\"Index: [0, 4]&#10;Color: (0, 255, 255)\" style=\"width: 20px; height: 20px;background-color: rgb(0, 255, 255);\"></td><td title=\"Index: [0, 5]&#10;Color: (0, 255, 255)\" style=\"width: 20px; height: 20px;background-color: rgb(0, 255, 255);\"></td><td title=\"Index: [0, 6]&#10;Color: (0, 255, 255)\" style=\"width: 20px; height: 20px;background-color: rgb(0, 255, 255);\"></td><td title=\"Index: [0, 7]&#10;Color: (0, 255, 255)\" style=\"width: 20px; height: 20px;background-color: rgb(0, 255, 255);\"></td></tr><tr><td title=\"Index: [1, 0]&#10;Color: (0, 255, 255)\" style=\"width: 20px; height: 20px;background-color: rgb(0, 255, 255);\"></td><td title=\"Index: [1, 1]&#10;Color: (0, 255, 255)\" style=\"width: 20px; height: 20px;background-color: rgb(0, 255, 255);\"></td><td title=\"Index: [1, 2]&#10;Color: (0, 255, 255)\" style=\"width: 20px; height: 20px;background-color: rgb(0, 255, 255);\"></td><td title=\"Index: [1, 3]&#10;Color: (0, 255, 255)\" style=\"width: 20px; height: 20px;background-color: rgb(0, 255, 255);\"></td><td title=\"Index: [1, 4]&#10;Color: (0, 255, 255)\" style=\"width: 20px; height: 20px;background-color: rgb(0, 255, 255);\"></td><td title=\"Index: [1, 5]&#10;Color: (0, 255, 255)\" style=\"width: 20px; height: 20px;background-color: rgb(0, 255, 255);\"></td><td title=\"Index: [1, 6]&#10;Color: (0, 255, 255)\" style=\"width: 20px; height: 20px;background-color: rgb(0, 255, 255);\"></td><td title=\"Index: [1, 7]&#10;Color: (0, 255, 255)\" style=\"width: 20px; height: 20px;background-color: rgb(0, 255, 255);\"></td></tr><tr><td title=\"Index: [2, 0]&#10;Color: (0, 255, 255)\" style=\"width: 20px; height: 20px;background-color: rgb(0, 255, 255);\"></td><td title=\"Index: [2, 1]&#10;Color: (0, 255, 255)\" style=\"width: 20px; height: 20px;background-color: rgb(0, 255, 255);\"></td><td title=\"Index: [2, 2]&#10;Color: (0, 255, 255)\" style=\"width: 20px; height: 20px;background-color: rgb(0, 255, 255);\"></td><td title=\"Index: [2, 3]&#10;Color: (0, 255, 255)\" style=\"width: 20px; height: 20px;background-color: rgb(0, 255, 255);\"></td><td title=\"Index: [2, 4]&#10;Color: (0, 255, 255)\" style=\"width: 20px; height: 20px;background-color: rgb(0, 255, 255);\"></td><td title=\"Index: [2, 5]&#10;Color: (0, 255, 255)\" style=\"width: 20px; height: 20px;background-color: rgb(0, 255, 255);\"></td><td title=\"Index: [2, 6]&#10;Color: (0, 255, 255)\" style=\"width: 20px; height: 20px;background-color: rgb(0, 255, 255);\"></td><td title=\"Index: [2, 7]&#10;Color: (0, 255, 255)\" style=\"width: 20px; height: 20px;background-color: rgb(0, 255, 255);\"></td></tr><tr><td title=\"Index: [3, 0]&#10;Color: (0, 255, 255)\" style=\"width: 20px; height: 20px;background-color: rgb(0, 255, 255);\"></td><td title=\"Index: [3, 1]&#10;Color: (0, 255, 255)\" style=\"width: 20px; height: 20px;background-color: rgb(0, 255, 255);\"></td><td title=\"Index: [3, 2]&#10;Color: (0, 255, 255)\" style=\"width: 20px; height: 20px;background-color: rgb(0, 255, 255);\"></td><td title=\"Index: [3, 3]&#10;Color: (0, 255, 255)\" style=\"width: 20px; height: 20px;background-color: rgb(0, 255, 255);\"></td><td title=\"Index: [3, 4]&#10;Color: (0, 255, 255)\" style=\"width: 20px; height: 20px;background-color: rgb(0, 255, 255);\"></td><td title=\"Index: [3, 5]&#10;Color: (0, 255, 255)\" style=\"width: 20px; height: 20px;background-color: rgb(0, 255, 255);\"></td><td title=\"Index: [3, 6]&#10;Color: (0, 255, 255)\" style=\"width: 20px; height: 20px;background-color: rgb(0, 255, 255);\"></td><td title=\"Index: [3, 7]&#10;Color: (0, 255, 255)\" style=\"width: 20px; height: 20px;background-color: rgb(0, 255, 255);\"></td></tr><tr><td title=\"Index: [4, 0]&#10;Color: (0, 255, 255)\" style=\"width: 20px; height: 20px;background-color: rgb(0, 255, 255);\"></td><td title=\"Index: [4, 1]&#10;Color: (0, 255, 255)\" style=\"width: 20px; height: 20px;background-color: rgb(0, 255, 255);\"></td><td title=\"Index: [4, 2]&#10;Color: (0, 255, 255)\" style=\"width: 20px; height: 20px;background-color: rgb(0, 255, 255);\"></td><td title=\"Index: [4, 3]&#10;Color: (0, 255, 255)\" style=\"width: 20px; height: 20px;background-color: rgb(0, 255, 255);\"></td><td title=\"Index: [4, 4]&#10;Color: (0, 255, 255)\" style=\"width: 20px; height: 20px;background-color: rgb(0, 255, 255);\"></td><td title=\"Index: [4, 5]&#10;Color: (0, 255, 255)\" style=\"width: 20px; height: 20px;background-color: rgb(0, 255, 255);\"></td><td title=\"Index: [4, 6]&#10;Color: (0, 255, 255)\" style=\"width: 20px; height: 20px;background-color: rgb(0, 255, 255);\"></td><td title=\"Index: [4, 7]&#10;Color: (0, 255, 255)\" style=\"width: 20px; height: 20px;background-color: rgb(0, 255, 255);\"></td></tr><tr><td title=\"Index: [5, 0]&#10;Color: (0, 255, 255)\" style=\"width: 20px; height: 20px;background-color: rgb(0, 255, 255);\"></td><td title=\"Index: [5, 1]&#10;Color: (0, 255, 255)\" style=\"width: 20px; height: 20px;background-color: rgb(0, 255, 255);\"></td><td title=\"Index: [5, 2]&#10;Color: (0, 255, 255)\" style=\"width: 20px; height: 20px;background-color: rgb(0, 255, 255);\"></td><td title=\"Index: [5, 3]&#10;Color: (0, 255, 255)\" style=\"width: 20px; height: 20px;background-color: rgb(0, 255, 255);\"></td><td title=\"Index: [5, 4]&#10;Color: (0, 255, 255)\" style=\"width: 20px; height: 20px;background-color: rgb(0, 255, 255);\"></td><td title=\"Index: [5, 5]&#10;Color: (0, 255, 255)\" style=\"width: 20px; height: 20px;background-color: rgb(0, 255, 255);\"></td><td title=\"Index: [5, 6]&#10;Color: (0, 255, 255)\" style=\"width: 20px; height: 20px;background-color: rgb(0, 255, 255);\"></td><td title=\"Index: [5, 7]&#10;Color: (0, 255, 255)\" style=\"width: 20px; height: 20px;background-color: rgb(0, 255, 255);\"></td></tr><tr><td title=\"Index: [6, 0]&#10;Color: (0, 255, 255)\" style=\"width: 20px; height: 20px;background-color: rgb(0, 255, 255);\"></td><td title=\"Index: [6, 1]&#10;Color: (0, 255, 255)\" style=\"width: 20px; height: 20px;background-color: rgb(0, 255, 255);\"></td><td title=\"Index: [6, 2]&#10;Color: (0, 255, 255)\" style=\"width: 20px; height: 20px;background-color: rgb(0, 255, 255);\"></td><td title=\"Index: [6, 3]&#10;Color: (0, 255, 255)\" style=\"width: 20px; height: 20px;background-color: rgb(0, 255, 255);\"></td><td title=\"Index: [6, 4]&#10;Color: (0, 255, 255)\" style=\"width: 20px; height: 20px;background-color: rgb(0, 255, 255);\"></td><td title=\"Index: [6, 5]&#10;Color: (0, 255, 255)\" style=\"width: 20px; height: 20px;background-color: rgb(0, 255, 255);\"></td><td title=\"Index: [6, 6]&#10;Color: (0, 255, 255)\" style=\"width: 20px; height: 20px;background-color: rgb(0, 255, 255);\"></td><td title=\"Index: [6, 7]&#10;Color: (0, 255, 255)\" style=\"width: 20px; height: 20px;background-color: rgb(0, 255, 255);\"></td></tr><tr><td title=\"Index: [7, 0]&#10;Color: (0, 255, 255)\" style=\"width: 20px; height: 20px;background-color: rgb(0, 255, 255);\"></td><td title=\"Index: [7, 1]&#10;Color: (0, 255, 255)\" style=\"width: 20px; height: 20px;background-color: rgb(0, 255, 255);\"></td><td title=\"Index: [7, 2]&#10;Color: (0, 255, 255)\" style=\"width: 20px; height: 20px;background-color: rgb(0, 255, 255);\"></td><td title=\"Index: [7, 3]&#10;Color: (0, 255, 255)\" style=\"width: 20px; height: 20px;background-color: rgb(0, 255, 255);\"></td><td title=\"Index: [7, 4]&#10;Color: (0, 255, 255)\" style=\"width: 20px; height: 20px;background-color: rgb(0, 255, 255);\"></td><td title=\"Index: [7, 5]&#10;Color: (0, 255, 255)\" style=\"width: 20px; height: 20px;background-color: rgb(0, 255, 255);\"></td><td title=\"Index: [7, 6]&#10;Color: (0, 255, 255)\" style=\"width: 20px; height: 20px;background-color: rgb(0, 255, 255);\"></td><td title=\"Index: [7, 7]&#10;Color: (0, 255, 255)\" style=\"width: 20px; height: 20px;background-color: rgb(0, 255, 255);\"></td></tr></tbody></table>"
       ],
       "metadata": {},
       "output_type": "display_data",
       "text": [
        "<IPython.core.display.HTML at 0x4196780>"
       ]
      },
      {
       "name": "stdout",
       "output_type": "stream",
       "stream": "stdout",
       "text": [
        "Guess Row:3\n"
       ]
      },
      {
       "name": "stdout",
       "output_type": "stream",
       "stream": "stdout",
       "text": [
        "Guess Col:1\n"
       ]
      },
      {
       "output_type": "stream",
       "stream": "stdout",
       "text": [
        "You missed my battleship!\n",
        "Turns left  10\n"
       ]
      },
      {
       "html": [
        "<style type=\"text/css\">table.blockgrid {border: none;} .blockgrid tr {border: none;} .blockgrid td {padding: 0px;} #blocks83d2669c-6f30-49a9-9444-696445a664d9 td {border: 1px solid white;}</style><table id=\"blocks83d2669c-6f30-49a9-9444-696445a664d9\" class=\"blockgrid\"><tbody><tr><td title=\"Index: [0, 0]&#10;Color: (0, 0, 0)\" style=\"width: 20px; height: 20px;background-color: rgb(0, 0, 0);\"></td><td title=\"Index: [0, 1]&#10;Color: (0, 255, 255)\" style=\"width: 20px; height: 20px;background-color: rgb(0, 255, 255);\"></td><td title=\"Index: [0, 2]&#10;Color: (0, 255, 255)\" style=\"width: 20px; height: 20px;background-color: rgb(0, 255, 255);\"></td><td title=\"Index: [0, 3]&#10;Color: (0, 255, 255)\" style=\"width: 20px; height: 20px;background-color: rgb(0, 255, 255);\"></td><td title=\"Index: [0, 4]&#10;Color: (0, 255, 255)\" style=\"width: 20px; height: 20px;background-color: rgb(0, 255, 255);\"></td><td title=\"Index: [0, 5]&#10;Color: (0, 255, 255)\" style=\"width: 20px; height: 20px;background-color: rgb(0, 255, 255);\"></td><td title=\"Index: [0, 6]&#10;Color: (0, 255, 255)\" style=\"width: 20px; height: 20px;background-color: rgb(0, 255, 255);\"></td><td title=\"Index: [0, 7]&#10;Color: (0, 255, 255)\" style=\"width: 20px; height: 20px;background-color: rgb(0, 255, 255);\"></td></tr><tr><td title=\"Index: [1, 0]&#10;Color: (0, 255, 255)\" style=\"width: 20px; height: 20px;background-color: rgb(0, 255, 255);\"></td><td title=\"Index: [1, 1]&#10;Color: (0, 255, 255)\" style=\"width: 20px; height: 20px;background-color: rgb(0, 255, 255);\"></td><td title=\"Index: [1, 2]&#10;Color: (0, 255, 255)\" style=\"width: 20px; height: 20px;background-color: rgb(0, 255, 255);\"></td><td title=\"Index: [1, 3]&#10;Color: (0, 255, 255)\" style=\"width: 20px; height: 20px;background-color: rgb(0, 255, 255);\"></td><td title=\"Index: [1, 4]&#10;Color: (0, 255, 255)\" style=\"width: 20px; height: 20px;background-color: rgb(0, 255, 255);\"></td><td title=\"Index: [1, 5]&#10;Color: (0, 255, 255)\" style=\"width: 20px; height: 20px;background-color: rgb(0, 255, 255);\"></td><td title=\"Index: [1, 6]&#10;Color: (0, 255, 255)\" style=\"width: 20px; height: 20px;background-color: rgb(0, 255, 255);\"></td><td title=\"Index: [1, 7]&#10;Color: (0, 255, 255)\" style=\"width: 20px; height: 20px;background-color: rgb(0, 255, 255);\"></td></tr><tr><td title=\"Index: [2, 0]&#10;Color: (0, 255, 255)\" style=\"width: 20px; height: 20px;background-color: rgb(0, 255, 255);\"></td><td title=\"Index: [2, 1]&#10;Color: (0, 255, 255)\" style=\"width: 20px; height: 20px;background-color: rgb(0, 255, 255);\"></td><td title=\"Index: [2, 2]&#10;Color: (0, 255, 255)\" style=\"width: 20px; height: 20px;background-color: rgb(0, 255, 255);\"></td><td title=\"Index: [2, 3]&#10;Color: (0, 255, 255)\" style=\"width: 20px; height: 20px;background-color: rgb(0, 255, 255);\"></td><td title=\"Index: [2, 4]&#10;Color: (0, 255, 255)\" style=\"width: 20px; height: 20px;background-color: rgb(0, 255, 255);\"></td><td title=\"Index: [2, 5]&#10;Color: (0, 255, 255)\" style=\"width: 20px; height: 20px;background-color: rgb(0, 255, 255);\"></td><td title=\"Index: [2, 6]&#10;Color: (0, 255, 255)\" style=\"width: 20px; height: 20px;background-color: rgb(0, 255, 255);\"></td><td title=\"Index: [2, 7]&#10;Color: (0, 255, 255)\" style=\"width: 20px; height: 20px;background-color: rgb(0, 255, 255);\"></td></tr><tr><td title=\"Index: [3, 0]&#10;Color: (0, 255, 255)\" style=\"width: 20px; height: 20px;background-color: rgb(0, 255, 255);\"></td><td title=\"Index: [3, 1]&#10;Color: (0, 0, 0)\" style=\"width: 20px; height: 20px;background-color: rgb(0, 0, 0);\"></td><td title=\"Index: [3, 2]&#10;Color: (0, 255, 255)\" style=\"width: 20px; height: 20px;background-color: rgb(0, 255, 255);\"></td><td title=\"Index: [3, 3]&#10;Color: (0, 255, 255)\" style=\"width: 20px; height: 20px;background-color: rgb(0, 255, 255);\"></td><td title=\"Index: [3, 4]&#10;Color: (0, 255, 255)\" style=\"width: 20px; height: 20px;background-color: rgb(0, 255, 255);\"></td><td title=\"Index: [3, 5]&#10;Color: (0, 255, 255)\" style=\"width: 20px; height: 20px;background-color: rgb(0, 255, 255);\"></td><td title=\"Index: [3, 6]&#10;Color: (0, 255, 255)\" style=\"width: 20px; height: 20px;background-color: rgb(0, 255, 255);\"></td><td title=\"Index: [3, 7]&#10;Color: (0, 255, 255)\" style=\"width: 20px; height: 20px;background-color: rgb(0, 255, 255);\"></td></tr><tr><td title=\"Index: [4, 0]&#10;Color: (0, 255, 255)\" style=\"width: 20px; height: 20px;background-color: rgb(0, 255, 255);\"></td><td title=\"Index: [4, 1]&#10;Color: (0, 255, 255)\" style=\"width: 20px; height: 20px;background-color: rgb(0, 255, 255);\"></td><td title=\"Index: [4, 2]&#10;Color: (0, 255, 255)\" style=\"width: 20px; height: 20px;background-color: rgb(0, 255, 255);\"></td><td title=\"Index: [4, 3]&#10;Color: (0, 255, 255)\" style=\"width: 20px; height: 20px;background-color: rgb(0, 255, 255);\"></td><td title=\"Index: [4, 4]&#10;Color: (0, 255, 255)\" style=\"width: 20px; height: 20px;background-color: rgb(0, 255, 255);\"></td><td title=\"Index: [4, 5]&#10;Color: (0, 255, 255)\" style=\"width: 20px; height: 20px;background-color: rgb(0, 255, 255);\"></td><td title=\"Index: [4, 6]&#10;Color: (0, 255, 255)\" style=\"width: 20px; height: 20px;background-color: rgb(0, 255, 255);\"></td><td title=\"Index: [4, 7]&#10;Color: (0, 255, 255)\" style=\"width: 20px; height: 20px;background-color: rgb(0, 255, 255);\"></td></tr><tr><td title=\"Index: [5, 0]&#10;Color: (0, 255, 255)\" style=\"width: 20px; height: 20px;background-color: rgb(0, 255, 255);\"></td><td title=\"Index: [5, 1]&#10;Color: (0, 255, 255)\" style=\"width: 20px; height: 20px;background-color: rgb(0, 255, 255);\"></td><td title=\"Index: [5, 2]&#10;Color: (0, 255, 255)\" style=\"width: 20px; height: 20px;background-color: rgb(0, 255, 255);\"></td><td title=\"Index: [5, 3]&#10;Color: (0, 255, 255)\" style=\"width: 20px; height: 20px;background-color: rgb(0, 255, 255);\"></td><td title=\"Index: [5, 4]&#10;Color: (0, 255, 255)\" style=\"width: 20px; height: 20px;background-color: rgb(0, 255, 255);\"></td><td title=\"Index: [5, 5]&#10;Color: (0, 255, 255)\" style=\"width: 20px; height: 20px;background-color: rgb(0, 255, 255);\"></td><td title=\"Index: [5, 6]&#10;Color: (0, 255, 255)\" style=\"width: 20px; height: 20px;background-color: rgb(0, 255, 255);\"></td><td title=\"Index: [5, 7]&#10;Color: (0, 255, 255)\" style=\"width: 20px; height: 20px;background-color: rgb(0, 255, 255);\"></td></tr><tr><td title=\"Index: [6, 0]&#10;Color: (0, 255, 255)\" style=\"width: 20px; height: 20px;background-color: rgb(0, 255, 255);\"></td><td title=\"Index: [6, 1]&#10;Color: (0, 255, 255)\" style=\"width: 20px; height: 20px;background-color: rgb(0, 255, 255);\"></td><td title=\"Index: [6, 2]&#10;Color: (0, 255, 255)\" style=\"width: 20px; height: 20px;background-color: rgb(0, 255, 255);\"></td><td title=\"Index: [6, 3]&#10;Color: (0, 255, 255)\" style=\"width: 20px; height: 20px;background-color: rgb(0, 255, 255);\"></td><td title=\"Index: [6, 4]&#10;Color: (0, 255, 255)\" style=\"width: 20px; height: 20px;background-color: rgb(0, 255, 255);\"></td><td title=\"Index: [6, 5]&#10;Color: (0, 255, 255)\" style=\"width: 20px; height: 20px;background-color: rgb(0, 255, 255);\"></td><td title=\"Index: [6, 6]&#10;Color: (0, 255, 255)\" style=\"width: 20px; height: 20px;background-color: rgb(0, 255, 255);\"></td><td title=\"Index: [6, 7]&#10;Color: (0, 255, 255)\" style=\"width: 20px; height: 20px;background-color: rgb(0, 255, 255);\"></td></tr><tr><td title=\"Index: [7, 0]&#10;Color: (0, 255, 255)\" style=\"width: 20px; height: 20px;background-color: rgb(0, 255, 255);\"></td><td title=\"Index: [7, 1]&#10;Color: (0, 255, 255)\" style=\"width: 20px; height: 20px;background-color: rgb(0, 255, 255);\"></td><td title=\"Index: [7, 2]&#10;Color: (0, 255, 255)\" style=\"width: 20px; height: 20px;background-color: rgb(0, 255, 255);\"></td><td title=\"Index: [7, 3]&#10;Color: (0, 255, 255)\" style=\"width: 20px; height: 20px;background-color: rgb(0, 255, 255);\"></td><td title=\"Index: [7, 4]&#10;Color: (0, 255, 255)\" style=\"width: 20px; height: 20px;background-color: rgb(0, 255, 255);\"></td><td title=\"Index: [7, 5]&#10;Color: (0, 255, 255)\" style=\"width: 20px; height: 20px;background-color: rgb(0, 255, 255);\"></td><td title=\"Index: [7, 6]&#10;Color: (0, 255, 255)\" style=\"width: 20px; height: 20px;background-color: rgb(0, 255, 255);\"></td><td title=\"Index: [7, 7]&#10;Color: (0, 255, 255)\" style=\"width: 20px; height: 20px;background-color: rgb(0, 255, 255);\"></td></tr></tbody></table>"
       ],
       "metadata": {},
       "output_type": "display_data",
       "text": [
        "<IPython.core.display.HTML at 0x41967f0>"
       ]
      }
     ]
    },
    {
     "cell_type": "code",
     "collapsed": false,
     "input": [
      "yourboard"
     ],
     "language": "python",
     "metadata": {},
     "outputs": []
    }
   ],
   "metadata": {}
  }
 ]
}