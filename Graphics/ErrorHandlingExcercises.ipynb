{
 "metadata": {
  "name": "",
  "signature": "sha256:c82796c54cf3cfdbc3f20ad946803c1808114da71f5608ddd22505ee6b8526b8"
 },
 "nbformat": 3,
 "nbformat_minor": 0,
 "worksheets": [
  {
   "cells": [
    {
     "cell_type": "heading",
     "level": 1,
     "metadata": {},
     "source": [
      "Error Handling Excercises"
     ]
    },
    {
     "cell_type": "code",
     "collapsed": false,
     "input": [
      "%pylab inline"
     ],
     "language": "python",
     "metadata": {},
     "outputs": [
      {
       "output_type": "stream",
       "stream": "stdout",
       "text": [
        "Populating the interactive namespace from numpy and matplotlib\n"
       ]
      }
     ],
     "prompt_number": 1
    },
    {
     "cell_type": "markdown",
     "metadata": {},
     "source": [
      "\n",
      "1. Find a partner. Choose a driver and a navigator. The driver should copy their Battleship code to a cell in the driver's ErrorHandlingExercises notebook. The driver should explain to the navigator the basics of how their program works. Work together to add some error handling to the program. Include a markdown cell identifying the driver and navigator. When you are done, switch roles and let the navigator be the driver and vice versa. At the end you should both have a Battleship program that includes some error handling."
     ]
    },
    {
     "cell_type": "markdown",
     "metadata": {},
     "source": [
      "\n",
      "2 . Here is a function which takes a filename, opens the file, reads the result, closes the file, and returns the contents. It should look something like this:"
     ]
    },
    {
     "cell_type": "markdown",
     "metadata": {},
     "source": [
      "\n",
      "Use runtime error handling concepts to improve this function, so that it does the following:\n",
      "\n",
      "raises an informative custom error if the file doesn't exist\n",
      "\n",
      "uses try, except, else, and/or finally to safely return the file's contents & close the file if necessary.\n",
      "\n",
      "add a keyword safe which defaults to False. If the function is called with safe=True, then return an empty string if the file doesn't exist."
     ]
    },
    {
     "cell_type": "code",
     "collapsed": false,
     "input": [
      "# Battleship code\n",
      "from random import randint\n",
      "from ipythonblocks import BlockGrid\n",
      "from ipythonblocks import colors"
     ],
     "language": "python",
     "metadata": {},
     "outputs": [],
     "prompt_number": 2
    },
    {
     "cell_type": "code",
     "collapsed": false,
     "input": [
      "#Initializes player board as well as a reference board\n",
      "yourboard = BlockGrid(8,8, fill = colors['Aqua'])\n",
      "compboard = BlockGrid (8,8, fill = colors['Aqua'])\n",
      "yourboard"
     ],
     "language": "python",
     "metadata": {},
     "outputs": [
      {
       "html": [
        "<style type=\"text/css\">table.blockgrid {border: none;} .blockgrid tr {border: none;} .blockgrid td {padding: 0px;} #blocks611e2cae-3750-4d6c-8cf4-3cc167f254e6 td {border: 1px solid white;}</style><table id=\"blocks611e2cae-3750-4d6c-8cf4-3cc167f254e6\" class=\"blockgrid\"><tbody><tr><td title=\"Index: [0, 0]&#10;Color: (0, 255, 255)\" style=\"width: 20px; height: 20px;background-color: rgb(0, 255, 255);\"></td><td title=\"Index: [0, 1]&#10;Color: (0, 255, 255)\" style=\"width: 20px; height: 20px;background-color: rgb(0, 255, 255);\"></td><td title=\"Index: [0, 2]&#10;Color: (0, 255, 255)\" style=\"width: 20px; height: 20px;background-color: rgb(0, 255, 255);\"></td><td title=\"Index: [0, 3]&#10;Color: (0, 255, 255)\" style=\"width: 20px; height: 20px;background-color: rgb(0, 255, 255);\"></td><td title=\"Index: [0, 4]&#10;Color: (0, 255, 255)\" style=\"width: 20px; height: 20px;background-color: rgb(0, 255, 255);\"></td><td title=\"Index: [0, 5]&#10;Color: (0, 255, 255)\" style=\"width: 20px; height: 20px;background-color: rgb(0, 255, 255);\"></td><td title=\"Index: [0, 6]&#10;Color: (0, 255, 255)\" style=\"width: 20px; height: 20px;background-color: rgb(0, 255, 255);\"></td><td title=\"Index: [0, 7]&#10;Color: (0, 255, 255)\" style=\"width: 20px; height: 20px;background-color: rgb(0, 255, 255);\"></td></tr><tr><td title=\"Index: [1, 0]&#10;Color: (0, 255, 255)\" style=\"width: 20px; height: 20px;background-color: rgb(0, 255, 255);\"></td><td title=\"Index: [1, 1]&#10;Color: (0, 255, 255)\" style=\"width: 20px; height: 20px;background-color: rgb(0, 255, 255);\"></td><td title=\"Index: [1, 2]&#10;Color: (0, 255, 255)\" style=\"width: 20px; height: 20px;background-color: rgb(0, 255, 255);\"></td><td title=\"Index: [1, 3]&#10;Color: (0, 255, 255)\" style=\"width: 20px; height: 20px;background-color: rgb(0, 255, 255);\"></td><td title=\"Index: [1, 4]&#10;Color: (0, 255, 255)\" style=\"width: 20px; height: 20px;background-color: rgb(0, 255, 255);\"></td><td title=\"Index: [1, 5]&#10;Color: (0, 255, 255)\" style=\"width: 20px; height: 20px;background-color: rgb(0, 255, 255);\"></td><td title=\"Index: [1, 6]&#10;Color: (0, 255, 255)\" style=\"width: 20px; height: 20px;background-color: rgb(0, 255, 255);\"></td><td title=\"Index: [1, 7]&#10;Color: (0, 255, 255)\" style=\"width: 20px; height: 20px;background-color: rgb(0, 255, 255);\"></td></tr><tr><td title=\"Index: [2, 0]&#10;Color: (0, 255, 255)\" style=\"width: 20px; height: 20px;background-color: rgb(0, 255, 255);\"></td><td title=\"Index: [2, 1]&#10;Color: (0, 255, 255)\" style=\"width: 20px; height: 20px;background-color: rgb(0, 255, 255);\"></td><td title=\"Index: [2, 2]&#10;Color: (0, 255, 255)\" style=\"width: 20px; height: 20px;background-color: rgb(0, 255, 255);\"></td><td title=\"Index: [2, 3]&#10;Color: (0, 255, 255)\" style=\"width: 20px; height: 20px;background-color: rgb(0, 255, 255);\"></td><td title=\"Index: [2, 4]&#10;Color: (0, 255, 255)\" style=\"width: 20px; height: 20px;background-color: rgb(0, 255, 255);\"></td><td title=\"Index: [2, 5]&#10;Color: (0, 255, 255)\" style=\"width: 20px; height: 20px;background-color: rgb(0, 255, 255);\"></td><td title=\"Index: [2, 6]&#10;Color: (0, 255, 255)\" style=\"width: 20px; height: 20px;background-color: rgb(0, 255, 255);\"></td><td title=\"Index: [2, 7]&#10;Color: (0, 255, 255)\" style=\"width: 20px; height: 20px;background-color: rgb(0, 255, 255);\"></td></tr><tr><td title=\"Index: [3, 0]&#10;Color: (0, 255, 255)\" style=\"width: 20px; height: 20px;background-color: rgb(0, 255, 255);\"></td><td title=\"Index: [3, 1]&#10;Color: (0, 255, 255)\" style=\"width: 20px; height: 20px;background-color: rgb(0, 255, 255);\"></td><td title=\"Index: [3, 2]&#10;Color: (0, 255, 255)\" style=\"width: 20px; height: 20px;background-color: rgb(0, 255, 255);\"></td><td title=\"Index: [3, 3]&#10;Color: (0, 255, 255)\" style=\"width: 20px; height: 20px;background-color: rgb(0, 255, 255);\"></td><td title=\"Index: [3, 4]&#10;Color: (0, 255, 255)\" style=\"width: 20px; height: 20px;background-color: rgb(0, 255, 255);\"></td><td title=\"Index: [3, 5]&#10;Color: (0, 255, 255)\" style=\"width: 20px; height: 20px;background-color: rgb(0, 255, 255);\"></td><td title=\"Index: [3, 6]&#10;Color: (0, 255, 255)\" style=\"width: 20px; height: 20px;background-color: rgb(0, 255, 255);\"></td><td title=\"Index: [3, 7]&#10;Color: (0, 255, 255)\" style=\"width: 20px; height: 20px;background-color: rgb(0, 255, 255);\"></td></tr><tr><td title=\"Index: [4, 0]&#10;Color: (0, 255, 255)\" style=\"width: 20px; height: 20px;background-color: rgb(0, 255, 255);\"></td><td title=\"Index: [4, 1]&#10;Color: (0, 255, 255)\" style=\"width: 20px; height: 20px;background-color: rgb(0, 255, 255);\"></td><td title=\"Index: [4, 2]&#10;Color: (0, 255, 255)\" style=\"width: 20px; height: 20px;background-color: rgb(0, 255, 255);\"></td><td title=\"Index: [4, 3]&#10;Color: (0, 255, 255)\" style=\"width: 20px; height: 20px;background-color: rgb(0, 255, 255);\"></td><td title=\"Index: [4, 4]&#10;Color: (0, 255, 255)\" style=\"width: 20px; height: 20px;background-color: rgb(0, 255, 255);\"></td><td title=\"Index: [4, 5]&#10;Color: (0, 255, 255)\" style=\"width: 20px; height: 20px;background-color: rgb(0, 255, 255);\"></td><td title=\"Index: [4, 6]&#10;Color: (0, 255, 255)\" style=\"width: 20px; height: 20px;background-color: rgb(0, 255, 255);\"></td><td title=\"Index: [4, 7]&#10;Color: (0, 255, 255)\" style=\"width: 20px; height: 20px;background-color: rgb(0, 255, 255);\"></td></tr><tr><td title=\"Index: [5, 0]&#10;Color: (0, 255, 255)\" style=\"width: 20px; height: 20px;background-color: rgb(0, 255, 255);\"></td><td title=\"Index: [5, 1]&#10;Color: (0, 255, 255)\" style=\"width: 20px; height: 20px;background-color: rgb(0, 255, 255);\"></td><td title=\"Index: [5, 2]&#10;Color: (0, 255, 255)\" style=\"width: 20px; height: 20px;background-color: rgb(0, 255, 255);\"></td><td title=\"Index: [5, 3]&#10;Color: (0, 255, 255)\" style=\"width: 20px; height: 20px;background-color: rgb(0, 255, 255);\"></td><td title=\"Index: [5, 4]&#10;Color: (0, 255, 255)\" style=\"width: 20px; height: 20px;background-color: rgb(0, 255, 255);\"></td><td title=\"Index: [5, 5]&#10;Color: (0, 255, 255)\" style=\"width: 20px; height: 20px;background-color: rgb(0, 255, 255);\"></td><td title=\"Index: [5, 6]&#10;Color: (0, 255, 255)\" style=\"width: 20px; height: 20px;background-color: rgb(0, 255, 255);\"></td><td title=\"Index: [5, 7]&#10;Color: (0, 255, 255)\" style=\"width: 20px; height: 20px;background-color: rgb(0, 255, 255);\"></td></tr><tr><td title=\"Index: [6, 0]&#10;Color: (0, 255, 255)\" style=\"width: 20px; height: 20px;background-color: rgb(0, 255, 255);\"></td><td title=\"Index: [6, 1]&#10;Color: (0, 255, 255)\" style=\"width: 20px; height: 20px;background-color: rgb(0, 255, 255);\"></td><td title=\"Index: [6, 2]&#10;Color: (0, 255, 255)\" style=\"width: 20px; height: 20px;background-color: rgb(0, 255, 255);\"></td><td title=\"Index: [6, 3]&#10;Color: (0, 255, 255)\" style=\"width: 20px; height: 20px;background-color: rgb(0, 255, 255);\"></td><td title=\"Index: [6, 4]&#10;Color: (0, 255, 255)\" style=\"width: 20px; height: 20px;background-color: rgb(0, 255, 255);\"></td><td title=\"Index: [6, 5]&#10;Color: (0, 255, 255)\" style=\"width: 20px; height: 20px;background-color: rgb(0, 255, 255);\"></td><td title=\"Index: [6, 6]&#10;Color: (0, 255, 255)\" style=\"width: 20px; height: 20px;background-color: rgb(0, 255, 255);\"></td><td title=\"Index: [6, 7]&#10;Color: (0, 255, 255)\" style=\"width: 20px; height: 20px;background-color: rgb(0, 255, 255);\"></td></tr><tr><td title=\"Index: [7, 0]&#10;Color: (0, 255, 255)\" style=\"width: 20px; height: 20px;background-color: rgb(0, 255, 255);\"></td><td title=\"Index: [7, 1]&#10;Color: (0, 255, 255)\" style=\"width: 20px; height: 20px;background-color: rgb(0, 255, 255);\"></td><td title=\"Index: [7, 2]&#10;Color: (0, 255, 255)\" style=\"width: 20px; height: 20px;background-color: rgb(0, 255, 255);\"></td><td title=\"Index: [7, 3]&#10;Color: (0, 255, 255)\" style=\"width: 20px; height: 20px;background-color: rgb(0, 255, 255);\"></td><td title=\"Index: [7, 4]&#10;Color: (0, 255, 255)\" style=\"width: 20px; height: 20px;background-color: rgb(0, 255, 255);\"></td><td title=\"Index: [7, 5]&#10;Color: (0, 255, 255)\" style=\"width: 20px; height: 20px;background-color: rgb(0, 255, 255);\"></td><td title=\"Index: [7, 6]&#10;Color: (0, 255, 255)\" style=\"width: 20px; height: 20px;background-color: rgb(0, 255, 255);\"></td><td title=\"Index: [7, 7]&#10;Color: (0, 255, 255)\" style=\"width: 20px; height: 20px;background-color: rgb(0, 255, 255);\"></td></tr></tbody></table>"
       ],
       "metadata": {},
       "output_type": "pyout",
       "prompt_number": 3,
       "text": [
        "<ipythonblocks.ipythonblocks.BlockGrid at 0xa46e978>"
       ]
      }
     ],
     "prompt_number": 3
    },
    {
     "cell_type": "code",
     "collapsed": false,
     "input": [
      "#Length of the ship as decided by the RNG Gods\n",
      "length = randint (2,5)\n",
      "print length"
     ],
     "language": "python",
     "metadata": {},
     "outputs": [
      {
       "output_type": "stream",
       "stream": "stdout",
       "text": [
        "5\n"
       ]
      }
     ],
     "prompt_number": 4
    },
    {
     "cell_type": "code",
     "collapsed": false,
     "input": [
      "#Setting the initial coordinates of the ship\n",
      "def random_row(yourboard):\n",
      "    return randint(0, compboard.height - 1)\n",
      "\n",
      "def random_col(yourboard):\n",
      "    return randint(0, compboard.width - 1)\n",
      "\n",
      "ship_row = random_row(yourboard)\n",
      "ship_col = random_col(yourboard)\n",
      "\n",
      "compboard[ship_row,ship_col] = colors ['Red']\n",
      "\n",
      "#Checking reference board\n",
      "compboard"
     ],
     "language": "python",
     "metadata": {},
     "outputs": [
      {
       "html": [
        "<style type=\"text/css\">table.blockgrid {border: none;} .blockgrid tr {border: none;} .blockgrid td {padding: 0px;} #blocks6636e016-f035-4cf1-ae16-18d586f81504 td {border: 1px solid white;}</style><table id=\"blocks6636e016-f035-4cf1-ae16-18d586f81504\" class=\"blockgrid\"><tbody><tr><td title=\"Index: [0, 0]&#10;Color: (0, 255, 255)\" style=\"width: 20px; height: 20px;background-color: rgb(0, 255, 255);\"></td><td title=\"Index: [0, 1]&#10;Color: (0, 255, 255)\" style=\"width: 20px; height: 20px;background-color: rgb(0, 255, 255);\"></td><td title=\"Index: [0, 2]&#10;Color: (0, 255, 255)\" style=\"width: 20px; height: 20px;background-color: rgb(0, 255, 255);\"></td><td title=\"Index: [0, 3]&#10;Color: (0, 255, 255)\" style=\"width: 20px; height: 20px;background-color: rgb(0, 255, 255);\"></td><td title=\"Index: [0, 4]&#10;Color: (0, 255, 255)\" style=\"width: 20px; height: 20px;background-color: rgb(0, 255, 255);\"></td><td title=\"Index: [0, 5]&#10;Color: (0, 255, 255)\" style=\"width: 20px; height: 20px;background-color: rgb(0, 255, 255);\"></td><td title=\"Index: [0, 6]&#10;Color: (0, 255, 255)\" style=\"width: 20px; height: 20px;background-color: rgb(0, 255, 255);\"></td><td title=\"Index: [0, 7]&#10;Color: (0, 255, 255)\" style=\"width: 20px; height: 20px;background-color: rgb(0, 255, 255);\"></td></tr><tr><td title=\"Index: [1, 0]&#10;Color: (0, 255, 255)\" style=\"width: 20px; height: 20px;background-color: rgb(0, 255, 255);\"></td><td title=\"Index: [1, 1]&#10;Color: (0, 255, 255)\" style=\"width: 20px; height: 20px;background-color: rgb(0, 255, 255);\"></td><td title=\"Index: [1, 2]&#10;Color: (0, 255, 255)\" style=\"width: 20px; height: 20px;background-color: rgb(0, 255, 255);\"></td><td title=\"Index: [1, 3]&#10;Color: (0, 255, 255)\" style=\"width: 20px; height: 20px;background-color: rgb(0, 255, 255);\"></td><td title=\"Index: [1, 4]&#10;Color: (0, 255, 255)\" style=\"width: 20px; height: 20px;background-color: rgb(0, 255, 255);\"></td><td title=\"Index: [1, 5]&#10;Color: (0, 255, 255)\" style=\"width: 20px; height: 20px;background-color: rgb(0, 255, 255);\"></td><td title=\"Index: [1, 6]&#10;Color: (0, 255, 255)\" style=\"width: 20px; height: 20px;background-color: rgb(0, 255, 255);\"></td><td title=\"Index: [1, 7]&#10;Color: (0, 255, 255)\" style=\"width: 20px; height: 20px;background-color: rgb(0, 255, 255);\"></td></tr><tr><td title=\"Index: [2, 0]&#10;Color: (0, 255, 255)\" style=\"width: 20px; height: 20px;background-color: rgb(0, 255, 255);\"></td><td title=\"Index: [2, 1]&#10;Color: (0, 255, 255)\" style=\"width: 20px; height: 20px;background-color: rgb(0, 255, 255);\"></td><td title=\"Index: [2, 2]&#10;Color: (0, 255, 255)\" style=\"width: 20px; height: 20px;background-color: rgb(0, 255, 255);\"></td><td title=\"Index: [2, 3]&#10;Color: (0, 255, 255)\" style=\"width: 20px; height: 20px;background-color: rgb(0, 255, 255);\"></td><td title=\"Index: [2, 4]&#10;Color: (0, 255, 255)\" style=\"width: 20px; height: 20px;background-color: rgb(0, 255, 255);\"></td><td title=\"Index: [2, 5]&#10;Color: (0, 255, 255)\" style=\"width: 20px; height: 20px;background-color: rgb(0, 255, 255);\"></td><td title=\"Index: [2, 6]&#10;Color: (0, 255, 255)\" style=\"width: 20px; height: 20px;background-color: rgb(0, 255, 255);\"></td><td title=\"Index: [2, 7]&#10;Color: (0, 255, 255)\" style=\"width: 20px; height: 20px;background-color: rgb(0, 255, 255);\"></td></tr><tr><td title=\"Index: [3, 0]&#10;Color: (0, 255, 255)\" style=\"width: 20px; height: 20px;background-color: rgb(0, 255, 255);\"></td><td title=\"Index: [3, 1]&#10;Color: (0, 255, 255)\" style=\"width: 20px; height: 20px;background-color: rgb(0, 255, 255);\"></td><td title=\"Index: [3, 2]&#10;Color: (0, 255, 255)\" style=\"width: 20px; height: 20px;background-color: rgb(0, 255, 255);\"></td><td title=\"Index: [3, 3]&#10;Color: (0, 255, 255)\" style=\"width: 20px; height: 20px;background-color: rgb(0, 255, 255);\"></td><td title=\"Index: [3, 4]&#10;Color: (0, 255, 255)\" style=\"width: 20px; height: 20px;background-color: rgb(0, 255, 255);\"></td><td title=\"Index: [3, 5]&#10;Color: (0, 255, 255)\" style=\"width: 20px; height: 20px;background-color: rgb(0, 255, 255);\"></td><td title=\"Index: [3, 6]&#10;Color: (0, 255, 255)\" style=\"width: 20px; height: 20px;background-color: rgb(0, 255, 255);\"></td><td title=\"Index: [3, 7]&#10;Color: (0, 255, 255)\" style=\"width: 20px; height: 20px;background-color: rgb(0, 255, 255);\"></td></tr><tr><td title=\"Index: [4, 0]&#10;Color: (0, 255, 255)\" style=\"width: 20px; height: 20px;background-color: rgb(0, 255, 255);\"></td><td title=\"Index: [4, 1]&#10;Color: (0, 255, 255)\" style=\"width: 20px; height: 20px;background-color: rgb(0, 255, 255);\"></td><td title=\"Index: [4, 2]&#10;Color: (0, 255, 255)\" style=\"width: 20px; height: 20px;background-color: rgb(0, 255, 255);\"></td><td title=\"Index: [4, 3]&#10;Color: (0, 255, 255)\" style=\"width: 20px; height: 20px;background-color: rgb(0, 255, 255);\"></td><td title=\"Index: [4, 4]&#10;Color: (0, 255, 255)\" style=\"width: 20px; height: 20px;background-color: rgb(0, 255, 255);\"></td><td title=\"Index: [4, 5]&#10;Color: (0, 255, 255)\" style=\"width: 20px; height: 20px;background-color: rgb(0, 255, 255);\"></td><td title=\"Index: [4, 6]&#10;Color: (0, 255, 255)\" style=\"width: 20px; height: 20px;background-color: rgb(0, 255, 255);\"></td><td title=\"Index: [4, 7]&#10;Color: (0, 255, 255)\" style=\"width: 20px; height: 20px;background-color: rgb(0, 255, 255);\"></td></tr><tr><td title=\"Index: [5, 0]&#10;Color: (0, 255, 255)\" style=\"width: 20px; height: 20px;background-color: rgb(0, 255, 255);\"></td><td title=\"Index: [5, 1]&#10;Color: (0, 255, 255)\" style=\"width: 20px; height: 20px;background-color: rgb(0, 255, 255);\"></td><td title=\"Index: [5, 2]&#10;Color: (0, 255, 255)\" style=\"width: 20px; height: 20px;background-color: rgb(0, 255, 255);\"></td><td title=\"Index: [5, 3]&#10;Color: (0, 255, 255)\" style=\"width: 20px; height: 20px;background-color: rgb(0, 255, 255);\"></td><td title=\"Index: [5, 4]&#10;Color: (0, 255, 255)\" style=\"width: 20px; height: 20px;background-color: rgb(0, 255, 255);\"></td><td title=\"Index: [5, 5]&#10;Color: (0, 255, 255)\" style=\"width: 20px; height: 20px;background-color: rgb(0, 255, 255);\"></td><td title=\"Index: [5, 6]&#10;Color: (0, 255, 255)\" style=\"width: 20px; height: 20px;background-color: rgb(0, 255, 255);\"></td><td title=\"Index: [5, 7]&#10;Color: (255, 0, 0)\" style=\"width: 20px; height: 20px;background-color: rgb(255, 0, 0);\"></td></tr><tr><td title=\"Index: [6, 0]&#10;Color: (0, 255, 255)\" style=\"width: 20px; height: 20px;background-color: rgb(0, 255, 255);\"></td><td title=\"Index: [6, 1]&#10;Color: (0, 255, 255)\" style=\"width: 20px; height: 20px;background-color: rgb(0, 255, 255);\"></td><td title=\"Index: [6, 2]&#10;Color: (0, 255, 255)\" style=\"width: 20px; height: 20px;background-color: rgb(0, 255, 255);\"></td><td title=\"Index: [6, 3]&#10;Color: (0, 255, 255)\" style=\"width: 20px; height: 20px;background-color: rgb(0, 255, 255);\"></td><td title=\"Index: [6, 4]&#10;Color: (0, 255, 255)\" style=\"width: 20px; height: 20px;background-color: rgb(0, 255, 255);\"></td><td title=\"Index: [6, 5]&#10;Color: (0, 255, 255)\" style=\"width: 20px; height: 20px;background-color: rgb(0, 255, 255);\"></td><td title=\"Index: [6, 6]&#10;Color: (0, 255, 255)\" style=\"width: 20px; height: 20px;background-color: rgb(0, 255, 255);\"></td><td title=\"Index: [6, 7]&#10;Color: (0, 255, 255)\" style=\"width: 20px; height: 20px;background-color: rgb(0, 255, 255);\"></td></tr><tr><td title=\"Index: [7, 0]&#10;Color: (0, 255, 255)\" style=\"width: 20px; height: 20px;background-color: rgb(0, 255, 255);\"></td><td title=\"Index: [7, 1]&#10;Color: (0, 255, 255)\" style=\"width: 20px; height: 20px;background-color: rgb(0, 255, 255);\"></td><td title=\"Index: [7, 2]&#10;Color: (0, 255, 255)\" style=\"width: 20px; height: 20px;background-color: rgb(0, 255, 255);\"></td><td title=\"Index: [7, 3]&#10;Color: (0, 255, 255)\" style=\"width: 20px; height: 20px;background-color: rgb(0, 255, 255);\"></td><td title=\"Index: [7, 4]&#10;Color: (0, 255, 255)\" style=\"width: 20px; height: 20px;background-color: rgb(0, 255, 255);\"></td><td title=\"Index: [7, 5]&#10;Color: (0, 255, 255)\" style=\"width: 20px; height: 20px;background-color: rgb(0, 255, 255);\"></td><td title=\"Index: [7, 6]&#10;Color: (0, 255, 255)\" style=\"width: 20px; height: 20px;background-color: rgb(0, 255, 255);\"></td><td title=\"Index: [7, 7]&#10;Color: (0, 255, 255)\" style=\"width: 20px; height: 20px;background-color: rgb(0, 255, 255);\"></td></tr></tbody></table>"
       ],
       "metadata": {},
       "output_type": "pyout",
       "prompt_number": 5,
       "text": [
        "<ipythonblocks.ipythonblocks.BlockGrid at 0xa46e940>"
       ]
      }
     ],
     "prompt_number": 5
    },
    {
     "cell_type": "code",
     "collapsed": false,
     "input": [
      "#whether the ship is vertically or horizontally\n",
      "orientation = []\n",
      "n = randint(1,2)\n",
      "if n == 1:\n",
      "    orientation.append('Vertical')\n",
      "else:\n",
      "    orientation.append('Horizontal')"
     ],
     "language": "python",
     "metadata": {},
     "outputs": [],
     "prompt_number": 6
    },
    {
     "cell_type": "code",
     "collapsed": false,
     "input": [
      "#what direction the additional ship space takes\n",
      "direction = []\n",
      "if orientation == ['Vertical']:\n",
      "    if ship_row - length < 0:\n",
      "        direction.append('Positive')\n",
      "    else:\n",
      "        direction.append('Negative')\n",
      "elif orientation == ['Horizontal']:\n",
      "    if ship_col - length < 0:\n",
      "        direction.append('Positive')\n",
      "    else:\n",
      "        direction.append('Negative')\n"
     ],
     "language": "python",
     "metadata": {},
     "outputs": [],
     "prompt_number": 7
    },
    {
     "cell_type": "code",
     "collapsed": false,
     "input": [
      "#Setting a fair number of turns\n",
      "turn = 15 - length\n",
      "print turn"
     ],
     "language": "python",
     "metadata": {},
     "outputs": [
      {
       "output_type": "stream",
       "stream": "stdout",
       "text": [
        "10\n"
       ]
      }
     ],
     "prompt_number": 8
    },
    {
     "cell_type": "code",
     "collapsed": false,
     "input": [
      "#Number of hits to win\n",
      "hits = length\n",
      "print hits"
     ],
     "language": "python",
     "metadata": {},
     "outputs": [
      {
       "output_type": "stream",
       "stream": "stdout",
       "text": [
        "5\n"
       ]
      }
     ],
     "prompt_number": 9
    },
    {
     "cell_type": "code",
     "collapsed": false,
     "input": [
      "#Placing the rest of the ship in place\n",
      "length = length - 1\n",
      "n = 0\n",
      "while length != 0:\n",
      "    n += 1\n",
      "    if orientation == ['Vertical']:\n",
      "        if direction == ['Positive']:\n",
      "            compboard[ship_row + n,ship_col] = colors['Red']\n",
      "            length -=1      \n",
      "        elif direction == ['Negative']:\n",
      "            compboard[ship_row - n, ship_col] = colors['Red']\n",
      "            length -=1\n",
      "    elif orientation == ['Horizontal']:\n",
      "         if direction == ['Positive']:\n",
      "            compboard[ship_row, ship_col + n] = colors['Red']\n",
      "            length -=1\n",
      "         elif direction == ['Negative']:\n",
      "            compboard[ship_row, ship_col - n] = colors['Red']\n",
      "            length -=1\n"
     ],
     "language": "python",
     "metadata": {},
     "outputs": [],
     "prompt_number": 10
    },
    {
     "cell_type": "code",
     "collapsed": false,
     "input": [
      "#Checking your board and reference board\n",
      "yourboard"
     ],
     "language": "python",
     "metadata": {},
     "outputs": [
      {
       "html": [
        "<style type=\"text/css\">table.blockgrid {border: none;} .blockgrid tr {border: none;} .blockgrid td {padding: 0px;} #blocksd441d6d9-b925-4231-82c5-33eec4782081 td {border: 1px solid white;}</style><table id=\"blocksd441d6d9-b925-4231-82c5-33eec4782081\" class=\"blockgrid\"><tbody><tr><td title=\"Index: [0, 0]&#10;Color: (0, 255, 255)\" style=\"width: 20px; height: 20px;background-color: rgb(0, 255, 255);\"></td><td title=\"Index: [0, 1]&#10;Color: (0, 255, 255)\" style=\"width: 20px; height: 20px;background-color: rgb(0, 255, 255);\"></td><td title=\"Index: [0, 2]&#10;Color: (0, 255, 255)\" style=\"width: 20px; height: 20px;background-color: rgb(0, 255, 255);\"></td><td title=\"Index: [0, 3]&#10;Color: (0, 255, 255)\" style=\"width: 20px; height: 20px;background-color: rgb(0, 255, 255);\"></td><td title=\"Index: [0, 4]&#10;Color: (0, 255, 255)\" style=\"width: 20px; height: 20px;background-color: rgb(0, 255, 255);\"></td><td title=\"Index: [0, 5]&#10;Color: (0, 255, 255)\" style=\"width: 20px; height: 20px;background-color: rgb(0, 255, 255);\"></td><td title=\"Index: [0, 6]&#10;Color: (0, 255, 255)\" style=\"width: 20px; height: 20px;background-color: rgb(0, 255, 255);\"></td><td title=\"Index: [0, 7]&#10;Color: (0, 255, 255)\" style=\"width: 20px; height: 20px;background-color: rgb(0, 255, 255);\"></td></tr><tr><td title=\"Index: [1, 0]&#10;Color: (0, 255, 255)\" style=\"width: 20px; height: 20px;background-color: rgb(0, 255, 255);\"></td><td title=\"Index: [1, 1]&#10;Color: (0, 255, 255)\" style=\"width: 20px; height: 20px;background-color: rgb(0, 255, 255);\"></td><td title=\"Index: [1, 2]&#10;Color: (0, 255, 255)\" style=\"width: 20px; height: 20px;background-color: rgb(0, 255, 255);\"></td><td title=\"Index: [1, 3]&#10;Color: (0, 255, 255)\" style=\"width: 20px; height: 20px;background-color: rgb(0, 255, 255);\"></td><td title=\"Index: [1, 4]&#10;Color: (0, 255, 255)\" style=\"width: 20px; height: 20px;background-color: rgb(0, 255, 255);\"></td><td title=\"Index: [1, 5]&#10;Color: (0, 255, 255)\" style=\"width: 20px; height: 20px;background-color: rgb(0, 255, 255);\"></td><td title=\"Index: [1, 6]&#10;Color: (0, 255, 255)\" style=\"width: 20px; height: 20px;background-color: rgb(0, 255, 255);\"></td><td title=\"Index: [1, 7]&#10;Color: (0, 255, 255)\" style=\"width: 20px; height: 20px;background-color: rgb(0, 255, 255);\"></td></tr><tr><td title=\"Index: [2, 0]&#10;Color: (0, 255, 255)\" style=\"width: 20px; height: 20px;background-color: rgb(0, 255, 255);\"></td><td title=\"Index: [2, 1]&#10;Color: (0, 255, 255)\" style=\"width: 20px; height: 20px;background-color: rgb(0, 255, 255);\"></td><td title=\"Index: [2, 2]&#10;Color: (0, 255, 255)\" style=\"width: 20px; height: 20px;background-color: rgb(0, 255, 255);\"></td><td title=\"Index: [2, 3]&#10;Color: (0, 255, 255)\" style=\"width: 20px; height: 20px;background-color: rgb(0, 255, 255);\"></td><td title=\"Index: [2, 4]&#10;Color: (0, 255, 255)\" style=\"width: 20px; height: 20px;background-color: rgb(0, 255, 255);\"></td><td title=\"Index: [2, 5]&#10;Color: (0, 255, 255)\" style=\"width: 20px; height: 20px;background-color: rgb(0, 255, 255);\"></td><td title=\"Index: [2, 6]&#10;Color: (0, 255, 255)\" style=\"width: 20px; height: 20px;background-color: rgb(0, 255, 255);\"></td><td title=\"Index: [2, 7]&#10;Color: (0, 255, 255)\" style=\"width: 20px; height: 20px;background-color: rgb(0, 255, 255);\"></td></tr><tr><td title=\"Index: [3, 0]&#10;Color: (0, 255, 255)\" style=\"width: 20px; height: 20px;background-color: rgb(0, 255, 255);\"></td><td title=\"Index: [3, 1]&#10;Color: (0, 255, 255)\" style=\"width: 20px; height: 20px;background-color: rgb(0, 255, 255);\"></td><td title=\"Index: [3, 2]&#10;Color: (0, 255, 255)\" style=\"width: 20px; height: 20px;background-color: rgb(0, 255, 255);\"></td><td title=\"Index: [3, 3]&#10;Color: (0, 255, 255)\" style=\"width: 20px; height: 20px;background-color: rgb(0, 255, 255);\"></td><td title=\"Index: [3, 4]&#10;Color: (0, 255, 255)\" style=\"width: 20px; height: 20px;background-color: rgb(0, 255, 255);\"></td><td title=\"Index: [3, 5]&#10;Color: (0, 255, 255)\" style=\"width: 20px; height: 20px;background-color: rgb(0, 255, 255);\"></td><td title=\"Index: [3, 6]&#10;Color: (0, 255, 255)\" style=\"width: 20px; height: 20px;background-color: rgb(0, 255, 255);\"></td><td title=\"Index: [3, 7]&#10;Color: (0, 255, 255)\" style=\"width: 20px; height: 20px;background-color: rgb(0, 255, 255);\"></td></tr><tr><td title=\"Index: [4, 0]&#10;Color: (0, 255, 255)\" style=\"width: 20px; height: 20px;background-color: rgb(0, 255, 255);\"></td><td title=\"Index: [4, 1]&#10;Color: (0, 255, 255)\" style=\"width: 20px; height: 20px;background-color: rgb(0, 255, 255);\"></td><td title=\"Index: [4, 2]&#10;Color: (0, 255, 255)\" style=\"width: 20px; height: 20px;background-color: rgb(0, 255, 255);\"></td><td title=\"Index: [4, 3]&#10;Color: (0, 255, 255)\" style=\"width: 20px; height: 20px;background-color: rgb(0, 255, 255);\"></td><td title=\"Index: [4, 4]&#10;Color: (0, 255, 255)\" style=\"width: 20px; height: 20px;background-color: rgb(0, 255, 255);\"></td><td title=\"Index: [4, 5]&#10;Color: (0, 255, 255)\" style=\"width: 20px; height: 20px;background-color: rgb(0, 255, 255);\"></td><td title=\"Index: [4, 6]&#10;Color: (0, 255, 255)\" style=\"width: 20px; height: 20px;background-color: rgb(0, 255, 255);\"></td><td title=\"Index: [4, 7]&#10;Color: (0, 255, 255)\" style=\"width: 20px; height: 20px;background-color: rgb(0, 255, 255);\"></td></tr><tr><td title=\"Index: [5, 0]&#10;Color: (0, 255, 255)\" style=\"width: 20px; height: 20px;background-color: rgb(0, 255, 255);\"></td><td title=\"Index: [5, 1]&#10;Color: (0, 255, 255)\" style=\"width: 20px; height: 20px;background-color: rgb(0, 255, 255);\"></td><td title=\"Index: [5, 2]&#10;Color: (0, 255, 255)\" style=\"width: 20px; height: 20px;background-color: rgb(0, 255, 255);\"></td><td title=\"Index: [5, 3]&#10;Color: (0, 255, 255)\" style=\"width: 20px; height: 20px;background-color: rgb(0, 255, 255);\"></td><td title=\"Index: [5, 4]&#10;Color: (0, 255, 255)\" style=\"width: 20px; height: 20px;background-color: rgb(0, 255, 255);\"></td><td title=\"Index: [5, 5]&#10;Color: (0, 255, 255)\" style=\"width: 20px; height: 20px;background-color: rgb(0, 255, 255);\"></td><td title=\"Index: [5, 6]&#10;Color: (0, 255, 255)\" style=\"width: 20px; height: 20px;background-color: rgb(0, 255, 255);\"></td><td title=\"Index: [5, 7]&#10;Color: (0, 255, 255)\" style=\"width: 20px; height: 20px;background-color: rgb(0, 255, 255);\"></td></tr><tr><td title=\"Index: [6, 0]&#10;Color: (0, 255, 255)\" style=\"width: 20px; height: 20px;background-color: rgb(0, 255, 255);\"></td><td title=\"Index: [6, 1]&#10;Color: (0, 255, 255)\" style=\"width: 20px; height: 20px;background-color: rgb(0, 255, 255);\"></td><td title=\"Index: [6, 2]&#10;Color: (0, 255, 255)\" style=\"width: 20px; height: 20px;background-color: rgb(0, 255, 255);\"></td><td title=\"Index: [6, 3]&#10;Color: (0, 255, 255)\" style=\"width: 20px; height: 20px;background-color: rgb(0, 255, 255);\"></td><td title=\"Index: [6, 4]&#10;Color: (0, 255, 255)\" style=\"width: 20px; height: 20px;background-color: rgb(0, 255, 255);\"></td><td title=\"Index: [6, 5]&#10;Color: (0, 255, 255)\" style=\"width: 20px; height: 20px;background-color: rgb(0, 255, 255);\"></td><td title=\"Index: [6, 6]&#10;Color: (0, 255, 255)\" style=\"width: 20px; height: 20px;background-color: rgb(0, 255, 255);\"></td><td title=\"Index: [6, 7]&#10;Color: (0, 255, 255)\" style=\"width: 20px; height: 20px;background-color: rgb(0, 255, 255);\"></td></tr><tr><td title=\"Index: [7, 0]&#10;Color: (0, 255, 255)\" style=\"width: 20px; height: 20px;background-color: rgb(0, 255, 255);\"></td><td title=\"Index: [7, 1]&#10;Color: (0, 255, 255)\" style=\"width: 20px; height: 20px;background-color: rgb(0, 255, 255);\"></td><td title=\"Index: [7, 2]&#10;Color: (0, 255, 255)\" style=\"width: 20px; height: 20px;background-color: rgb(0, 255, 255);\"></td><td title=\"Index: [7, 3]&#10;Color: (0, 255, 255)\" style=\"width: 20px; height: 20px;background-color: rgb(0, 255, 255);\"></td><td title=\"Index: [7, 4]&#10;Color: (0, 255, 255)\" style=\"width: 20px; height: 20px;background-color: rgb(0, 255, 255);\"></td><td title=\"Index: [7, 5]&#10;Color: (0, 255, 255)\" style=\"width: 20px; height: 20px;background-color: rgb(0, 255, 255);\"></td><td title=\"Index: [7, 6]&#10;Color: (0, 255, 255)\" style=\"width: 20px; height: 20px;background-color: rgb(0, 255, 255);\"></td><td title=\"Index: [7, 7]&#10;Color: (0, 255, 255)\" style=\"width: 20px; height: 20px;background-color: rgb(0, 255, 255);\"></td></tr></tbody></table>"
       ],
       "metadata": {},
       "output_type": "pyout",
       "prompt_number": 11,
       "text": [
        "<ipythonblocks.ipythonblocks.BlockGrid at 0xa46e978>"
       ]
      }
     ],
     "prompt_number": 11
    },
    {
     "cell_type": "code",
     "collapsed": false,
     "input": [
      "print ship_row\n",
      "print ship_col\n",
      "print direction\n",
      "print orientation\n",
      "compboard"
     ],
     "language": "python",
     "metadata": {},
     "outputs": [
      {
       "output_type": "stream",
       "stream": "stdout",
       "text": [
        "5\n",
        "7\n",
        "['Negative']\n",
        "['Horizontal']\n"
       ]
      },
      {
       "html": [
        "<style type=\"text/css\">table.blockgrid {border: none;} .blockgrid tr {border: none;} .blockgrid td {padding: 0px;} #blocksded51c2d-99fd-4eb6-bea5-4f864b885e36 td {border: 1px solid white;}</style><table id=\"blocksded51c2d-99fd-4eb6-bea5-4f864b885e36\" class=\"blockgrid\"><tbody><tr><td title=\"Index: [0, 0]&#10;Color: (0, 255, 255)\" style=\"width: 20px; height: 20px;background-color: rgb(0, 255, 255);\"></td><td title=\"Index: [0, 1]&#10;Color: (0, 255, 255)\" style=\"width: 20px; height: 20px;background-color: rgb(0, 255, 255);\"></td><td title=\"Index: [0, 2]&#10;Color: (0, 255, 255)\" style=\"width: 20px; height: 20px;background-color: rgb(0, 255, 255);\"></td><td title=\"Index: [0, 3]&#10;Color: (0, 255, 255)\" style=\"width: 20px; height: 20px;background-color: rgb(0, 255, 255);\"></td><td title=\"Index: [0, 4]&#10;Color: (0, 255, 255)\" style=\"width: 20px; height: 20px;background-color: rgb(0, 255, 255);\"></td><td title=\"Index: [0, 5]&#10;Color: (0, 255, 255)\" style=\"width: 20px; height: 20px;background-color: rgb(0, 255, 255);\"></td><td title=\"Index: [0, 6]&#10;Color: (0, 255, 255)\" style=\"width: 20px; height: 20px;background-color: rgb(0, 255, 255);\"></td><td title=\"Index: [0, 7]&#10;Color: (0, 255, 255)\" style=\"width: 20px; height: 20px;background-color: rgb(0, 255, 255);\"></td></tr><tr><td title=\"Index: [1, 0]&#10;Color: (0, 255, 255)\" style=\"width: 20px; height: 20px;background-color: rgb(0, 255, 255);\"></td><td title=\"Index: [1, 1]&#10;Color: (0, 255, 255)\" style=\"width: 20px; height: 20px;background-color: rgb(0, 255, 255);\"></td><td title=\"Index: [1, 2]&#10;Color: (0, 255, 255)\" style=\"width: 20px; height: 20px;background-color: rgb(0, 255, 255);\"></td><td title=\"Index: [1, 3]&#10;Color: (0, 255, 255)\" style=\"width: 20px; height: 20px;background-color: rgb(0, 255, 255);\"></td><td title=\"Index: [1, 4]&#10;Color: (0, 255, 255)\" style=\"width: 20px; height: 20px;background-color: rgb(0, 255, 255);\"></td><td title=\"Index: [1, 5]&#10;Color: (0, 255, 255)\" style=\"width: 20px; height: 20px;background-color: rgb(0, 255, 255);\"></td><td title=\"Index: [1, 6]&#10;Color: (0, 255, 255)\" style=\"width: 20px; height: 20px;background-color: rgb(0, 255, 255);\"></td><td title=\"Index: [1, 7]&#10;Color: (0, 255, 255)\" style=\"width: 20px; height: 20px;background-color: rgb(0, 255, 255);\"></td></tr><tr><td title=\"Index: [2, 0]&#10;Color: (0, 255, 255)\" style=\"width: 20px; height: 20px;background-color: rgb(0, 255, 255);\"></td><td title=\"Index: [2, 1]&#10;Color: (0, 255, 255)\" style=\"width: 20px; height: 20px;background-color: rgb(0, 255, 255);\"></td><td title=\"Index: [2, 2]&#10;Color: (0, 255, 255)\" style=\"width: 20px; height: 20px;background-color: rgb(0, 255, 255);\"></td><td title=\"Index: [2, 3]&#10;Color: (0, 255, 255)\" style=\"width: 20px; height: 20px;background-color: rgb(0, 255, 255);\"></td><td title=\"Index: [2, 4]&#10;Color: (0, 255, 255)\" style=\"width: 20px; height: 20px;background-color: rgb(0, 255, 255);\"></td><td title=\"Index: [2, 5]&#10;Color: (0, 255, 255)\" style=\"width: 20px; height: 20px;background-color: rgb(0, 255, 255);\"></td><td title=\"Index: [2, 6]&#10;Color: (0, 255, 255)\" style=\"width: 20px; height: 20px;background-color: rgb(0, 255, 255);\"></td><td title=\"Index: [2, 7]&#10;Color: (0, 255, 255)\" style=\"width: 20px; height: 20px;background-color: rgb(0, 255, 255);\"></td></tr><tr><td title=\"Index: [3, 0]&#10;Color: (0, 255, 255)\" style=\"width: 20px; height: 20px;background-color: rgb(0, 255, 255);\"></td><td title=\"Index: [3, 1]&#10;Color: (0, 255, 255)\" style=\"width: 20px; height: 20px;background-color: rgb(0, 255, 255);\"></td><td title=\"Index: [3, 2]&#10;Color: (0, 255, 255)\" style=\"width: 20px; height: 20px;background-color: rgb(0, 255, 255);\"></td><td title=\"Index: [3, 3]&#10;Color: (0, 255, 255)\" style=\"width: 20px; height: 20px;background-color: rgb(0, 255, 255);\"></td><td title=\"Index: [3, 4]&#10;Color: (0, 255, 255)\" style=\"width: 20px; height: 20px;background-color: rgb(0, 255, 255);\"></td><td title=\"Index: [3, 5]&#10;Color: (0, 255, 255)\" style=\"width: 20px; height: 20px;background-color: rgb(0, 255, 255);\"></td><td title=\"Index: [3, 6]&#10;Color: (0, 255, 255)\" style=\"width: 20px; height: 20px;background-color: rgb(0, 255, 255);\"></td><td title=\"Index: [3, 7]&#10;Color: (0, 255, 255)\" style=\"width: 20px; height: 20px;background-color: rgb(0, 255, 255);\"></td></tr><tr><td title=\"Index: [4, 0]&#10;Color: (0, 255, 255)\" style=\"width: 20px; height: 20px;background-color: rgb(0, 255, 255);\"></td><td title=\"Index: [4, 1]&#10;Color: (0, 255, 255)\" style=\"width: 20px; height: 20px;background-color: rgb(0, 255, 255);\"></td><td title=\"Index: [4, 2]&#10;Color: (0, 255, 255)\" style=\"width: 20px; height: 20px;background-color: rgb(0, 255, 255);\"></td><td title=\"Index: [4, 3]&#10;Color: (0, 255, 255)\" style=\"width: 20px; height: 20px;background-color: rgb(0, 255, 255);\"></td><td title=\"Index: [4, 4]&#10;Color: (0, 255, 255)\" style=\"width: 20px; height: 20px;background-color: rgb(0, 255, 255);\"></td><td title=\"Index: [4, 5]&#10;Color: (0, 255, 255)\" style=\"width: 20px; height: 20px;background-color: rgb(0, 255, 255);\"></td><td title=\"Index: [4, 6]&#10;Color: (0, 255, 255)\" style=\"width: 20px; height: 20px;background-color: rgb(0, 255, 255);\"></td><td title=\"Index: [4, 7]&#10;Color: (0, 255, 255)\" style=\"width: 20px; height: 20px;background-color: rgb(0, 255, 255);\"></td></tr><tr><td title=\"Index: [5, 0]&#10;Color: (0, 255, 255)\" style=\"width: 20px; height: 20px;background-color: rgb(0, 255, 255);\"></td><td title=\"Index: [5, 1]&#10;Color: (0, 255, 255)\" style=\"width: 20px; height: 20px;background-color: rgb(0, 255, 255);\"></td><td title=\"Index: [5, 2]&#10;Color: (0, 255, 255)\" style=\"width: 20px; height: 20px;background-color: rgb(0, 255, 255);\"></td><td title=\"Index: [5, 3]&#10;Color: (255, 0, 0)\" style=\"width: 20px; height: 20px;background-color: rgb(255, 0, 0);\"></td><td title=\"Index: [5, 4]&#10;Color: (255, 0, 0)\" style=\"width: 20px; height: 20px;background-color: rgb(255, 0, 0);\"></td><td title=\"Index: [5, 5]&#10;Color: (255, 0, 0)\" style=\"width: 20px; height: 20px;background-color: rgb(255, 0, 0);\"></td><td title=\"Index: [5, 6]&#10;Color: (255, 0, 0)\" style=\"width: 20px; height: 20px;background-color: rgb(255, 0, 0);\"></td><td title=\"Index: [5, 7]&#10;Color: (255, 0, 0)\" style=\"width: 20px; height: 20px;background-color: rgb(255, 0, 0);\"></td></tr><tr><td title=\"Index: [6, 0]&#10;Color: (0, 255, 255)\" style=\"width: 20px; height: 20px;background-color: rgb(0, 255, 255);\"></td><td title=\"Index: [6, 1]&#10;Color: (0, 255, 255)\" style=\"width: 20px; height: 20px;background-color: rgb(0, 255, 255);\"></td><td title=\"Index: [6, 2]&#10;Color: (0, 255, 255)\" style=\"width: 20px; height: 20px;background-color: rgb(0, 255, 255);\"></td><td title=\"Index: [6, 3]&#10;Color: (0, 255, 255)\" style=\"width: 20px; height: 20px;background-color: rgb(0, 255, 255);\"></td><td title=\"Index: [6, 4]&#10;Color: (0, 255, 255)\" style=\"width: 20px; height: 20px;background-color: rgb(0, 255, 255);\"></td><td title=\"Index: [6, 5]&#10;Color: (0, 255, 255)\" style=\"width: 20px; height: 20px;background-color: rgb(0, 255, 255);\"></td><td title=\"Index: [6, 6]&#10;Color: (0, 255, 255)\" style=\"width: 20px; height: 20px;background-color: rgb(0, 255, 255);\"></td><td title=\"Index: [6, 7]&#10;Color: (0, 255, 255)\" style=\"width: 20px; height: 20px;background-color: rgb(0, 255, 255);\"></td></tr><tr><td title=\"Index: [7, 0]&#10;Color: (0, 255, 255)\" style=\"width: 20px; height: 20px;background-color: rgb(0, 255, 255);\"></td><td title=\"Index: [7, 1]&#10;Color: (0, 255, 255)\" style=\"width: 20px; height: 20px;background-color: rgb(0, 255, 255);\"></td><td title=\"Index: [7, 2]&#10;Color: (0, 255, 255)\" style=\"width: 20px; height: 20px;background-color: rgb(0, 255, 255);\"></td><td title=\"Index: [7, 3]&#10;Color: (0, 255, 255)\" style=\"width: 20px; height: 20px;background-color: rgb(0, 255, 255);\"></td><td title=\"Index: [7, 4]&#10;Color: (0, 255, 255)\" style=\"width: 20px; height: 20px;background-color: rgb(0, 255, 255);\"></td><td title=\"Index: [7, 5]&#10;Color: (0, 255, 255)\" style=\"width: 20px; height: 20px;background-color: rgb(0, 255, 255);\"></td><td title=\"Index: [7, 6]&#10;Color: (0, 255, 255)\" style=\"width: 20px; height: 20px;background-color: rgb(0, 255, 255);\"></td><td title=\"Index: [7, 7]&#10;Color: (0, 255, 255)\" style=\"width: 20px; height: 20px;background-color: rgb(0, 255, 255);\"></td></tr></tbody></table>"
       ],
       "metadata": {},
       "output_type": "pyout",
       "prompt_number": 12,
       "text": [
        "<ipythonblocks.ipythonblocks.BlockGrid at 0xa46e940>"
       ]
      }
     ],
     "prompt_number": 12
    },
    {
     "cell_type": "code",
     "collapsed": false,
     "input": [
      "print \"You have\",turn ,\"turns to sink my ship!\"\n",
      "yourboard"
     ],
     "language": "python",
     "metadata": {},
     "outputs": [
      {
       "output_type": "stream",
       "stream": "stdout",
       "text": [
        "You have 10 turns to sink my ship!\n"
       ]
      },
      {
       "html": [
        "<style type=\"text/css\">table.blockgrid {border: none;} .blockgrid tr {border: none;} .blockgrid td {padding: 0px;} #blocks6024739d-c2a2-429e-93d0-c8652348169d td {border: 1px solid white;}</style><table id=\"blocks6024739d-c2a2-429e-93d0-c8652348169d\" class=\"blockgrid\"><tbody><tr><td title=\"Index: [0, 0]&#10;Color: (0, 255, 255)\" style=\"width: 20px; height: 20px;background-color: rgb(0, 255, 255);\"></td><td title=\"Index: [0, 1]&#10;Color: (0, 255, 255)\" style=\"width: 20px; height: 20px;background-color: rgb(0, 255, 255);\"></td><td title=\"Index: [0, 2]&#10;Color: (0, 255, 255)\" style=\"width: 20px; height: 20px;background-color: rgb(0, 255, 255);\"></td><td title=\"Index: [0, 3]&#10;Color: (0, 255, 255)\" style=\"width: 20px; height: 20px;background-color: rgb(0, 255, 255);\"></td><td title=\"Index: [0, 4]&#10;Color: (0, 255, 255)\" style=\"width: 20px; height: 20px;background-color: rgb(0, 255, 255);\"></td><td title=\"Index: [0, 5]&#10;Color: (0, 255, 255)\" style=\"width: 20px; height: 20px;background-color: rgb(0, 255, 255);\"></td><td title=\"Index: [0, 6]&#10;Color: (0, 255, 255)\" style=\"width: 20px; height: 20px;background-color: rgb(0, 255, 255);\"></td><td title=\"Index: [0, 7]&#10;Color: (0, 255, 255)\" style=\"width: 20px; height: 20px;background-color: rgb(0, 255, 255);\"></td></tr><tr><td title=\"Index: [1, 0]&#10;Color: (0, 255, 255)\" style=\"width: 20px; height: 20px;background-color: rgb(0, 255, 255);\"></td><td title=\"Index: [1, 1]&#10;Color: (0, 255, 255)\" style=\"width: 20px; height: 20px;background-color: rgb(0, 255, 255);\"></td><td title=\"Index: [1, 2]&#10;Color: (0, 255, 255)\" style=\"width: 20px; height: 20px;background-color: rgb(0, 255, 255);\"></td><td title=\"Index: [1, 3]&#10;Color: (0, 255, 255)\" style=\"width: 20px; height: 20px;background-color: rgb(0, 255, 255);\"></td><td title=\"Index: [1, 4]&#10;Color: (0, 255, 255)\" style=\"width: 20px; height: 20px;background-color: rgb(0, 255, 255);\"></td><td title=\"Index: [1, 5]&#10;Color: (0, 255, 255)\" style=\"width: 20px; height: 20px;background-color: rgb(0, 255, 255);\"></td><td title=\"Index: [1, 6]&#10;Color: (0, 255, 255)\" style=\"width: 20px; height: 20px;background-color: rgb(0, 255, 255);\"></td><td title=\"Index: [1, 7]&#10;Color: (0, 255, 255)\" style=\"width: 20px; height: 20px;background-color: rgb(0, 255, 255);\"></td></tr><tr><td title=\"Index: [2, 0]&#10;Color: (0, 255, 255)\" style=\"width: 20px; height: 20px;background-color: rgb(0, 255, 255);\"></td><td title=\"Index: [2, 1]&#10;Color: (0, 255, 255)\" style=\"width: 20px; height: 20px;background-color: rgb(0, 255, 255);\"></td><td title=\"Index: [2, 2]&#10;Color: (0, 255, 255)\" style=\"width: 20px; height: 20px;background-color: rgb(0, 255, 255);\"></td><td title=\"Index: [2, 3]&#10;Color: (0, 255, 255)\" style=\"width: 20px; height: 20px;background-color: rgb(0, 255, 255);\"></td><td title=\"Index: [2, 4]&#10;Color: (0, 255, 255)\" style=\"width: 20px; height: 20px;background-color: rgb(0, 255, 255);\"></td><td title=\"Index: [2, 5]&#10;Color: (0, 255, 255)\" style=\"width: 20px; height: 20px;background-color: rgb(0, 255, 255);\"></td><td title=\"Index: [2, 6]&#10;Color: (0, 255, 255)\" style=\"width: 20px; height: 20px;background-color: rgb(0, 255, 255);\"></td><td title=\"Index: [2, 7]&#10;Color: (0, 255, 255)\" style=\"width: 20px; height: 20px;background-color: rgb(0, 255, 255);\"></td></tr><tr><td title=\"Index: [3, 0]&#10;Color: (0, 255, 255)\" style=\"width: 20px; height: 20px;background-color: rgb(0, 255, 255);\"></td><td title=\"Index: [3, 1]&#10;Color: (0, 255, 255)\" style=\"width: 20px; height: 20px;background-color: rgb(0, 255, 255);\"></td><td title=\"Index: [3, 2]&#10;Color: (0, 255, 255)\" style=\"width: 20px; height: 20px;background-color: rgb(0, 255, 255);\"></td><td title=\"Index: [3, 3]&#10;Color: (0, 255, 255)\" style=\"width: 20px; height: 20px;background-color: rgb(0, 255, 255);\"></td><td title=\"Index: [3, 4]&#10;Color: (0, 255, 255)\" style=\"width: 20px; height: 20px;background-color: rgb(0, 255, 255);\"></td><td title=\"Index: [3, 5]&#10;Color: (0, 255, 255)\" style=\"width: 20px; height: 20px;background-color: rgb(0, 255, 255);\"></td><td title=\"Index: [3, 6]&#10;Color: (0, 255, 255)\" style=\"width: 20px; height: 20px;background-color: rgb(0, 255, 255);\"></td><td title=\"Index: [3, 7]&#10;Color: (0, 255, 255)\" style=\"width: 20px; height: 20px;background-color: rgb(0, 255, 255);\"></td></tr><tr><td title=\"Index: [4, 0]&#10;Color: (0, 255, 255)\" style=\"width: 20px; height: 20px;background-color: rgb(0, 255, 255);\"></td><td title=\"Index: [4, 1]&#10;Color: (0, 255, 255)\" style=\"width: 20px; height: 20px;background-color: rgb(0, 255, 255);\"></td><td title=\"Index: [4, 2]&#10;Color: (0, 255, 255)\" style=\"width: 20px; height: 20px;background-color: rgb(0, 255, 255);\"></td><td title=\"Index: [4, 3]&#10;Color: (0, 255, 255)\" style=\"width: 20px; height: 20px;background-color: rgb(0, 255, 255);\"></td><td title=\"Index: [4, 4]&#10;Color: (0, 255, 255)\" style=\"width: 20px; height: 20px;background-color: rgb(0, 255, 255);\"></td><td title=\"Index: [4, 5]&#10;Color: (0, 255, 255)\" style=\"width: 20px; height: 20px;background-color: rgb(0, 255, 255);\"></td><td title=\"Index: [4, 6]&#10;Color: (0, 255, 255)\" style=\"width: 20px; height: 20px;background-color: rgb(0, 255, 255);\"></td><td title=\"Index: [4, 7]&#10;Color: (0, 255, 255)\" style=\"width: 20px; height: 20px;background-color: rgb(0, 255, 255);\"></td></tr><tr><td title=\"Index: [5, 0]&#10;Color: (0, 255, 255)\" style=\"width: 20px; height: 20px;background-color: rgb(0, 255, 255);\"></td><td title=\"Index: [5, 1]&#10;Color: (0, 255, 255)\" style=\"width: 20px; height: 20px;background-color: rgb(0, 255, 255);\"></td><td title=\"Index: [5, 2]&#10;Color: (0, 255, 255)\" style=\"width: 20px; height: 20px;background-color: rgb(0, 255, 255);\"></td><td title=\"Index: [5, 3]&#10;Color: (0, 255, 255)\" style=\"width: 20px; height: 20px;background-color: rgb(0, 255, 255);\"></td><td title=\"Index: [5, 4]&#10;Color: (0, 255, 255)\" style=\"width: 20px; height: 20px;background-color: rgb(0, 255, 255);\"></td><td title=\"Index: [5, 5]&#10;Color: (0, 255, 255)\" style=\"width: 20px; height: 20px;background-color: rgb(0, 255, 255);\"></td><td title=\"Index: [5, 6]&#10;Color: (0, 255, 255)\" style=\"width: 20px; height: 20px;background-color: rgb(0, 255, 255);\"></td><td title=\"Index: [5, 7]&#10;Color: (0, 255, 255)\" style=\"width: 20px; height: 20px;background-color: rgb(0, 255, 255);\"></td></tr><tr><td title=\"Index: [6, 0]&#10;Color: (0, 255, 255)\" style=\"width: 20px; height: 20px;background-color: rgb(0, 255, 255);\"></td><td title=\"Index: [6, 1]&#10;Color: (0, 255, 255)\" style=\"width: 20px; height: 20px;background-color: rgb(0, 255, 255);\"></td><td title=\"Index: [6, 2]&#10;Color: (0, 255, 255)\" style=\"width: 20px; height: 20px;background-color: rgb(0, 255, 255);\"></td><td title=\"Index: [6, 3]&#10;Color: (0, 255, 255)\" style=\"width: 20px; height: 20px;background-color: rgb(0, 255, 255);\"></td><td title=\"Index: [6, 4]&#10;Color: (0, 255, 255)\" style=\"width: 20px; height: 20px;background-color: rgb(0, 255, 255);\"></td><td title=\"Index: [6, 5]&#10;Color: (0, 255, 255)\" style=\"width: 20px; height: 20px;background-color: rgb(0, 255, 255);\"></td><td title=\"Index: [6, 6]&#10;Color: (0, 255, 255)\" style=\"width: 20px; height: 20px;background-color: rgb(0, 255, 255);\"></td><td title=\"Index: [6, 7]&#10;Color: (0, 255, 255)\" style=\"width: 20px; height: 20px;background-color: rgb(0, 255, 255);\"></td></tr><tr><td title=\"Index: [7, 0]&#10;Color: (0, 255, 255)\" style=\"width: 20px; height: 20px;background-color: rgb(0, 255, 255);\"></td><td title=\"Index: [7, 1]&#10;Color: (0, 255, 255)\" style=\"width: 20px; height: 20px;background-color: rgb(0, 255, 255);\"></td><td title=\"Index: [7, 2]&#10;Color: (0, 255, 255)\" style=\"width: 20px; height: 20px;background-color: rgb(0, 255, 255);\"></td><td title=\"Index: [7, 3]&#10;Color: (0, 255, 255)\" style=\"width: 20px; height: 20px;background-color: rgb(0, 255, 255);\"></td><td title=\"Index: [7, 4]&#10;Color: (0, 255, 255)\" style=\"width: 20px; height: 20px;background-color: rgb(0, 255, 255);\"></td><td title=\"Index: [7, 5]&#10;Color: (0, 255, 255)\" style=\"width: 20px; height: 20px;background-color: rgb(0, 255, 255);\"></td><td title=\"Index: [7, 6]&#10;Color: (0, 255, 255)\" style=\"width: 20px; height: 20px;background-color: rgb(0, 255, 255);\"></td><td title=\"Index: [7, 7]&#10;Color: (0, 255, 255)\" style=\"width: 20px; height: 20px;background-color: rgb(0, 255, 255);\"></td></tr></tbody></table>"
       ],
       "metadata": {},
       "output_type": "pyout",
       "prompt_number": 13,
       "text": [
        "<ipythonblocks.ipythonblocks.BlockGrid at 0xa46e978>"
       ]
      }
     ],
     "prompt_number": 13
    },
    {
     "cell_type": "code",
     "collapsed": false,
     "input": [
      "while turn > 0:\n",
      "    yourboard.show()   \n",
      "    guess_row = int(raw_input(\"Guess Row:\"))\n",
      "    guess_col = int(raw_input(\"Guess Col:\"))\n",
      "    if (guess_row < 0 or guess_row > 7) or (guess_col < 0 or guess_col > 7):\n",
      "            print \"Oops, that's not even in the ocean.\"\n",
      "            turn-=1\n",
      "            if turn == 0:\n",
      "                print \"Game Over\"\n",
      "                compboard.show()\n",
      "                break\n",
      "    elif compboard[guess_row,guess_col] == colors['Red']:\n",
      "        print \"You hit my battleship!\"\n",
      "        yourboard[guess_row,guess_col] = colors['Red']\n",
      "        hits -=1\n",
      "        turn -=1\n",
      "        if hits == 0:\n",
      "            print \"Congratulations! You sunk my battleship!\"\n",
      "            break\n",
      "    elif(yourboard[guess_row,guess_col] == colors['White'] or yourboard[guess_row,guess_col] == colors['Red']):\n",
      "        print \"You guessed that one already.\"\n",
      "        turn -=1\n",
      "        if turn == 0:\n",
      "            print \"Game Over\"\n",
      "            compboard.show()\n",
      "            break\n",
      "    else:\n",
      "        print \"You missed my battleship!\"\n",
      "        yourboard[guess_row,guess_col] = colors['White']\n",
      "        compboard[guess_row,guess_col] = colors['White']\n",
      "        turn-=1\n",
      "        if turn == 0:\n",
      "            print \"Game Over\"\n",
      "            compboard.show()\n",
      "            break\n",
      "    print \"Turns left \" ,turn"
     ],
     "language": "python",
     "metadata": {},
     "outputs": [
      {
       "html": [
        "<style type=\"text/css\">table.blockgrid {border: none;} .blockgrid tr {border: none;} .blockgrid td {padding: 0px;} #blocks41e9b1cb-dbab-4f83-b87a-746df23a4fec td {border: 1px solid white;}</style><table id=\"blocks41e9b1cb-dbab-4f83-b87a-746df23a4fec\" class=\"blockgrid\"><tbody><tr><td title=\"Index: [0, 0]&#10;Color: (0, 255, 255)\" style=\"width: 20px; height: 20px;background-color: rgb(0, 255, 255);\"></td><td title=\"Index: [0, 1]&#10;Color: (0, 255, 255)\" style=\"width: 20px; height: 20px;background-color: rgb(0, 255, 255);\"></td><td title=\"Index: [0, 2]&#10;Color: (0, 255, 255)\" style=\"width: 20px; height: 20px;background-color: rgb(0, 255, 255);\"></td><td title=\"Index: [0, 3]&#10;Color: (0, 255, 255)\" style=\"width: 20px; height: 20px;background-color: rgb(0, 255, 255);\"></td><td title=\"Index: [0, 4]&#10;Color: (0, 255, 255)\" style=\"width: 20px; height: 20px;background-color: rgb(0, 255, 255);\"></td><td title=\"Index: [0, 5]&#10;Color: (0, 255, 255)\" style=\"width: 20px; height: 20px;background-color: rgb(0, 255, 255);\"></td><td title=\"Index: [0, 6]&#10;Color: (0, 255, 255)\" style=\"width: 20px; height: 20px;background-color: rgb(0, 255, 255);\"></td><td title=\"Index: [0, 7]&#10;Color: (0, 255, 255)\" style=\"width: 20px; height: 20px;background-color: rgb(0, 255, 255);\"></td></tr><tr><td title=\"Index: [1, 0]&#10;Color: (0, 255, 255)\" style=\"width: 20px; height: 20px;background-color: rgb(0, 255, 255);\"></td><td title=\"Index: [1, 1]&#10;Color: (0, 255, 255)\" style=\"width: 20px; height: 20px;background-color: rgb(0, 255, 255);\"></td><td title=\"Index: [1, 2]&#10;Color: (0, 255, 255)\" style=\"width: 20px; height: 20px;background-color: rgb(0, 255, 255);\"></td><td title=\"Index: [1, 3]&#10;Color: (0, 255, 255)\" style=\"width: 20px; height: 20px;background-color: rgb(0, 255, 255);\"></td><td title=\"Index: [1, 4]&#10;Color: (0, 255, 255)\" style=\"width: 20px; height: 20px;background-color: rgb(0, 255, 255);\"></td><td title=\"Index: [1, 5]&#10;Color: (0, 255, 255)\" style=\"width: 20px; height: 20px;background-color: rgb(0, 255, 255);\"></td><td title=\"Index: [1, 6]&#10;Color: (0, 255, 255)\" style=\"width: 20px; height: 20px;background-color: rgb(0, 255, 255);\"></td><td title=\"Index: [1, 7]&#10;Color: (0, 255, 255)\" style=\"width: 20px; height: 20px;background-color: rgb(0, 255, 255);\"></td></tr><tr><td title=\"Index: [2, 0]&#10;Color: (0, 255, 255)\" style=\"width: 20px; height: 20px;background-color: rgb(0, 255, 255);\"></td><td title=\"Index: [2, 1]&#10;Color: (0, 255, 255)\" style=\"width: 20px; height: 20px;background-color: rgb(0, 255, 255);\"></td><td title=\"Index: [2, 2]&#10;Color: (0, 255, 255)\" style=\"width: 20px; height: 20px;background-color: rgb(0, 255, 255);\"></td><td title=\"Index: [2, 3]&#10;Color: (0, 255, 255)\" style=\"width: 20px; height: 20px;background-color: rgb(0, 255, 255);\"></td><td title=\"Index: [2, 4]&#10;Color: (0, 255, 255)\" style=\"width: 20px; height: 20px;background-color: rgb(0, 255, 255);\"></td><td title=\"Index: [2, 5]&#10;Color: (0, 255, 255)\" style=\"width: 20px; height: 20px;background-color: rgb(0, 255, 255);\"></td><td title=\"Index: [2, 6]&#10;Color: (0, 255, 255)\" style=\"width: 20px; height: 20px;background-color: rgb(0, 255, 255);\"></td><td title=\"Index: [2, 7]&#10;Color: (0, 255, 255)\" style=\"width: 20px; height: 20px;background-color: rgb(0, 255, 255);\"></td></tr><tr><td title=\"Index: [3, 0]&#10;Color: (0, 255, 255)\" style=\"width: 20px; height: 20px;background-color: rgb(0, 255, 255);\"></td><td title=\"Index: [3, 1]&#10;Color: (0, 255, 255)\" style=\"width: 20px; height: 20px;background-color: rgb(0, 255, 255);\"></td><td title=\"Index: [3, 2]&#10;Color: (0, 255, 255)\" style=\"width: 20px; height: 20px;background-color: rgb(0, 255, 255);\"></td><td title=\"Index: [3, 3]&#10;Color: (0, 255, 255)\" style=\"width: 20px; height: 20px;background-color: rgb(0, 255, 255);\"></td><td title=\"Index: [3, 4]&#10;Color: (0, 255, 255)\" style=\"width: 20px; height: 20px;background-color: rgb(0, 255, 255);\"></td><td title=\"Index: [3, 5]&#10;Color: (0, 255, 255)\" style=\"width: 20px; height: 20px;background-color: rgb(0, 255, 255);\"></td><td title=\"Index: [3, 6]&#10;Color: (0, 255, 255)\" style=\"width: 20px; height: 20px;background-color: rgb(0, 255, 255);\"></td><td title=\"Index: [3, 7]&#10;Color: (0, 255, 255)\" style=\"width: 20px; height: 20px;background-color: rgb(0, 255, 255);\"></td></tr><tr><td title=\"Index: [4, 0]&#10;Color: (0, 255, 255)\" style=\"width: 20px; height: 20px;background-color: rgb(0, 255, 255);\"></td><td title=\"Index: [4, 1]&#10;Color: (0, 255, 255)\" style=\"width: 20px; height: 20px;background-color: rgb(0, 255, 255);\"></td><td title=\"Index: [4, 2]&#10;Color: (0, 255, 255)\" style=\"width: 20px; height: 20px;background-color: rgb(0, 255, 255);\"></td><td title=\"Index: [4, 3]&#10;Color: (0, 255, 255)\" style=\"width: 20px; height: 20px;background-color: rgb(0, 255, 255);\"></td><td title=\"Index: [4, 4]&#10;Color: (0, 255, 255)\" style=\"width: 20px; height: 20px;background-color: rgb(0, 255, 255);\"></td><td title=\"Index: [4, 5]&#10;Color: (0, 255, 255)\" style=\"width: 20px; height: 20px;background-color: rgb(0, 255, 255);\"></td><td title=\"Index: [4, 6]&#10;Color: (0, 255, 255)\" style=\"width: 20px; height: 20px;background-color: rgb(0, 255, 255);\"></td><td title=\"Index: [4, 7]&#10;Color: (0, 255, 255)\" style=\"width: 20px; height: 20px;background-color: rgb(0, 255, 255);\"></td></tr><tr><td title=\"Index: [5, 0]&#10;Color: (0, 255, 255)\" style=\"width: 20px; height: 20px;background-color: rgb(0, 255, 255);\"></td><td title=\"Index: [5, 1]&#10;Color: (0, 255, 255)\" style=\"width: 20px; height: 20px;background-color: rgb(0, 255, 255);\"></td><td title=\"Index: [5, 2]&#10;Color: (0, 255, 255)\" style=\"width: 20px; height: 20px;background-color: rgb(0, 255, 255);\"></td><td title=\"Index: [5, 3]&#10;Color: (0, 255, 255)\" style=\"width: 20px; height: 20px;background-color: rgb(0, 255, 255);\"></td><td title=\"Index: [5, 4]&#10;Color: (0, 255, 255)\" style=\"width: 20px; height: 20px;background-color: rgb(0, 255, 255);\"></td><td title=\"Index: [5, 5]&#10;Color: (0, 255, 255)\" style=\"width: 20px; height: 20px;background-color: rgb(0, 255, 255);\"></td><td title=\"Index: [5, 6]&#10;Color: (0, 255, 255)\" style=\"width: 20px; height: 20px;background-color: rgb(0, 255, 255);\"></td><td title=\"Index: [5, 7]&#10;Color: (0, 255, 255)\" style=\"width: 20px; height: 20px;background-color: rgb(0, 255, 255);\"></td></tr><tr><td title=\"Index: [6, 0]&#10;Color: (0, 255, 255)\" style=\"width: 20px; height: 20px;background-color: rgb(0, 255, 255);\"></td><td title=\"Index: [6, 1]&#10;Color: (0, 255, 255)\" style=\"width: 20px; height: 20px;background-color: rgb(0, 255, 255);\"></td><td title=\"Index: [6, 2]&#10;Color: (0, 255, 255)\" style=\"width: 20px; height: 20px;background-color: rgb(0, 255, 255);\"></td><td title=\"Index: [6, 3]&#10;Color: (0, 255, 255)\" style=\"width: 20px; height: 20px;background-color: rgb(0, 255, 255);\"></td><td title=\"Index: [6, 4]&#10;Color: (0, 255, 255)\" style=\"width: 20px; height: 20px;background-color: rgb(0, 255, 255);\"></td><td title=\"Index: [6, 5]&#10;Color: (0, 255, 255)\" style=\"width: 20px; height: 20px;background-color: rgb(0, 255, 255);\"></td><td title=\"Index: [6, 6]&#10;Color: (0, 255, 255)\" style=\"width: 20px; height: 20px;background-color: rgb(0, 255, 255);\"></td><td title=\"Index: [6, 7]&#10;Color: (0, 255, 255)\" style=\"width: 20px; height: 20px;background-color: rgb(0, 255, 255);\"></td></tr><tr><td title=\"Index: [7, 0]&#10;Color: (0, 255, 255)\" style=\"width: 20px; height: 20px;background-color: rgb(0, 255, 255);\"></td><td title=\"Index: [7, 1]&#10;Color: (0, 255, 255)\" style=\"width: 20px; height: 20px;background-color: rgb(0, 255, 255);\"></td><td title=\"Index: [7, 2]&#10;Color: (0, 255, 255)\" style=\"width: 20px; height: 20px;background-color: rgb(0, 255, 255);\"></td><td title=\"Index: [7, 3]&#10;Color: (0, 255, 255)\" style=\"width: 20px; height: 20px;background-color: rgb(0, 255, 255);\"></td><td title=\"Index: [7, 4]&#10;Color: (0, 255, 255)\" style=\"width: 20px; height: 20px;background-color: rgb(0, 255, 255);\"></td><td title=\"Index: [7, 5]&#10;Color: (0, 255, 255)\" style=\"width: 20px; height: 20px;background-color: rgb(0, 255, 255);\"></td><td title=\"Index: [7, 6]&#10;Color: (0, 255, 255)\" style=\"width: 20px; height: 20px;background-color: rgb(0, 255, 255);\"></td><td title=\"Index: [7, 7]&#10;Color: (0, 255, 255)\" style=\"width: 20px; height: 20px;background-color: rgb(0, 255, 255);\"></td></tr></tbody></table>"
       ],
       "metadata": {},
       "output_type": "display_data",
       "text": [
        "<IPython.core.display.HTML at 0xa4d9a20>"
       ]
      },
      {
       "name": "stdout",
       "output_type": "stream",
       "stream": "stdout",
       "text": [
        "Guess Row:\n"
       ]
      },
      {
       "ename": "ValueError",
       "evalue": "invalid literal for int() with base 10: ''",
       "output_type": "pyerr",
       "traceback": [
        "\u001b[1;31m---------------------------------------------------------------------------\u001b[0m\n\u001b[1;31mValueError\u001b[0m                                Traceback (most recent call last)",
        "\u001b[1;32m<ipython-input-14-973238a12840>\u001b[0m in \u001b[0;36m<module>\u001b[1;34m()\u001b[0m\n\u001b[0;32m      1\u001b[0m \u001b[1;32mwhile\u001b[0m \u001b[0mturn\u001b[0m \u001b[1;33m>\u001b[0m \u001b[1;36m0\u001b[0m\u001b[1;33m:\u001b[0m\u001b[1;33m\u001b[0m\u001b[0m\n\u001b[0;32m      2\u001b[0m     \u001b[0myourboard\u001b[0m\u001b[1;33m.\u001b[0m\u001b[0mshow\u001b[0m\u001b[1;33m(\u001b[0m\u001b[1;33m)\u001b[0m\u001b[1;33m\u001b[0m\u001b[0m\n\u001b[1;32m----> 3\u001b[1;33m     \u001b[0mguess_row\u001b[0m \u001b[1;33m=\u001b[0m \u001b[0mint\u001b[0m\u001b[1;33m(\u001b[0m\u001b[0mraw_input\u001b[0m\u001b[1;33m(\u001b[0m\u001b[1;34m\"Guess Row:\"\u001b[0m\u001b[1;33m)\u001b[0m\u001b[1;33m)\u001b[0m\u001b[1;33m\u001b[0m\u001b[0m\n\u001b[0m\u001b[0;32m      4\u001b[0m     \u001b[0mguess_col\u001b[0m \u001b[1;33m=\u001b[0m \u001b[0mint\u001b[0m\u001b[1;33m(\u001b[0m\u001b[0mraw_input\u001b[0m\u001b[1;33m(\u001b[0m\u001b[1;34m\"Guess Col:\"\u001b[0m\u001b[1;33m)\u001b[0m\u001b[1;33m)\u001b[0m\u001b[1;33m\u001b[0m\u001b[0m\n\u001b[0;32m      5\u001b[0m     \u001b[1;32mif\u001b[0m \u001b[1;33m(\u001b[0m\u001b[0mguess_row\u001b[0m \u001b[1;33m<\u001b[0m \u001b[1;36m0\u001b[0m \u001b[1;32mor\u001b[0m \u001b[0mguess_row\u001b[0m \u001b[1;33m>\u001b[0m \u001b[1;36m7\u001b[0m\u001b[1;33m)\u001b[0m \u001b[1;32mor\u001b[0m \u001b[1;33m(\u001b[0m\u001b[0mguess_col\u001b[0m \u001b[1;33m<\u001b[0m \u001b[1;36m0\u001b[0m \u001b[1;32mor\u001b[0m \u001b[0mguess_col\u001b[0m \u001b[1;33m>\u001b[0m \u001b[1;36m7\u001b[0m\u001b[1;33m)\u001b[0m\u001b[1;33m:\u001b[0m\u001b[1;33m\u001b[0m\u001b[0m\n",
        "\u001b[1;31mValueError\u001b[0m: invalid literal for int() with base 10: ''"
       ]
      }
     ],
     "prompt_number": 14
    },
    {
     "cell_type": "code",
     "collapsed": false,
     "input": [
      "\n",
      "def read_all_from_file(filename, safe=False):\n",
      "    try:\n",
      "        f = open(filename)\n",
      "        contents = f.read()\n",
      "        f.close()\n",
      "        return contents\n",
      "    except IOError as err:\n",
      "        print err\n",
      "        print \"Files does not exist: \", err.filename\n",
      "        if safe == True:\n",
      "            string = \"\"\n",
      "            return string\n",
      "        elif safe == False:\n",
      "            return None"
     ],
     "language": "python",
     "metadata": {},
     "outputs": [],
     "prompt_number": 40
    },
    {
     "cell_type": "code",
     "collapsed": false,
     "input": [
      "read_all_from_file('tmp.txt')"
     ],
     "language": "python",
     "metadata": {},
     "outputs": [
      {
       "metadata": {},
       "output_type": "pyout",
       "prompt_number": 41,
       "text": [
        "'this is the contents of the file'"
       ]
      }
     ],
     "prompt_number": 41
    },
    {
     "cell_type": "code",
     "collapsed": false,
     "input": [
      "read_all_from_file('file.which.does.not.exist', safe=False)"
     ],
     "language": "python",
     "metadata": {},
     "outputs": [
      {
       "output_type": "stream",
       "stream": "stdout",
       "text": [
        "[Errno 2] No such file or directory: 'file.which.does.not.exist'\n",
        "Files does not exist:  file.which.does.not.exist\n"
       ]
      }
     ],
     "prompt_number": 42
    },
    {
     "cell_type": "code",
     "collapsed": false,
     "input": [
      "read_all_from_file('file.which.does.not.exist' , safe=True)"
     ],
     "language": "python",
     "metadata": {},
     "outputs": [
      {
       "output_type": "stream",
       "stream": "stdout",
       "text": [
        "[Errno 2] No such file or directory: 'file.which.does.not.exist'\n",
        "Files does not exist:  file.which.does.not.exist\n"
       ]
      },
      {
       "metadata": {},
       "output_type": "pyout",
       "prompt_number": 37,
       "text": [
        "''"
       ]
      }
     ],
     "prompt_number": 37
    },
    {
     "cell_type": "code",
     "collapsed": false,
     "input": [],
     "language": "python",
     "metadata": {},
     "outputs": [],
     "prompt_number": 26
    },
    {
     "cell_type": "code",
     "collapsed": false,
     "input": [],
     "language": "python",
     "metadata": {},
     "outputs": []
    }
   ],
   "metadata": {}
  }
 ]
}