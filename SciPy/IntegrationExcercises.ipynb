{
 "metadata": {
  "name": "",
  "signature": "sha256:682ab064717bce6f4a381de0907a06e608e39f0586e87a37a248248b8c67230e"
 },
 "nbformat": 3,
 "nbformat_minor": 0,
 "worksheets": [
  {
   "cells": [
    {
     "cell_type": "heading",
     "level": 1,
     "metadata": {},
     "source": [
      "Integration Excercises"
     ]
    },
    {
     "cell_type": "heading",
     "level": 1,
     "metadata": {},
     "source": [
      "Question 1"
     ]
    },
    {
     "cell_type": "markdown",
     "metadata": {},
     "source": [
      "(a) Write two functions trapz(func,a,b,N) and simps(func,a,b,N) to compute the integral of the function func over the variable x using the trapezoidal rule and Simpson's rule to a file called Integrators.py. Do not use the scipy.integrate built-in functions. Include docstrings with each function that describe what they do. Then import the module and use the functions to answer the following questions. To avoid namespace conflicts, import your module as myint and then call the functions from that namespace. i.e.\n",
      "\n",
      " import integrators as myint\n",
      "    #...your code...here\n",
      "    I = myint.trapz(func,a,b,N)\n",
      "    \n",
      "Also, be sure that you import any needed modules inside your Integrators.py file."
     ]
    },
    {
     "cell_type": "code",
     "collapsed": false,
     "input": [
      "%pylab inline\n",
      "import numpy as np\n",
      "import matplotlib.pyplot as plt"
     ],
     "language": "python",
     "metadata": {},
     "outputs": [
      {
       "output_type": "stream",
       "stream": "stdout",
       "text": [
        "Populating the interactive namespace from numpy and matplotlib\n"
       ]
      },
      {
       "output_type": "stream",
       "stream": "stderr",
       "text": [
        "WARNING: pylab import has clobbered these variables: ['trapz']\n",
        "`%matplotlib` prevents importing * from pylab and numpy\n"
       ]
      }
     ],
     "prompt_number": 9
    },
    {
     "cell_type": "code",
     "collapsed": false,
     "input": [
      "def trapz(func, a, b, N):\n",
      "    h = (b-a) / N\n",
      "    k = np.arange(1,N)\n",
      "    I = h*(0.5*func(a) + 0.5*func(b) + func(a + k*h).sum())\n",
      "    return I"
     ],
     "language": "python",
     "metadata": {},
     "outputs": [],
     "prompt_number": 11
    },
    {
     "cell_type": "code",
     "collapsed": false,
     "input": [
      "def simps(func, a, b, N):\n",
      "    h = (b-a) / N\n",
      "    k1 = np.arange(1 , N/2+1)\n",
      "    k2 = np.arange(1 , N/2)\n",
      "    I = (1./3.)*h*(func(a)+func(b)+4.*func(a+(2*k1-1)*h).sum()+2.*func(a+2*k2*h).sum())\n",
      "    return I"
     ],
     "language": "python",
     "metadata": {},
     "outputs": [],
     "prompt_number": 13
    },
    {
     "cell_type": "code",
     "collapsed": false,
     "input": [
      "%%file Integrators.py\n",
      "\n",
      "#Trapezoidal Rule Function\n",
      "def trapz(func, a, b, N):\n",
      "    h = (b-a) / N\n",
      "    k = np.arange(1,N)\n",
      "    I = h*(0.5*func(a) + 0.5*func(b) + func(a + k*h).sum())\n",
      "    return I\n",
      "\n",
      "#Simpson's Rule Function\n",
      "def simps(func, a, b, N):\n",
      "    h = (b-a) / N\n",
      "    k1 = np.arange(1 , N/2+1)\n",
      "    k2 = np.arange(1 , N/2)\n",
      "    I = (1./3.)*h*(func(a)+func(b)+4.*func(a+(2*k1-1)*h).sum()+2.*func(a+2*k2*h).sum())\n",
      "    return I"
     ],
     "language": "python",
     "metadata": {},
     "outputs": [
      {
       "output_type": "stream",
       "stream": "stdout",
       "text": [
        "Writing Integrators.py\n"
       ]
      }
     ],
     "prompt_number": 15
    },
    {
     "cell_type": "code",
     "collapsed": false,
     "input": [
      "for line in open('Integrators.py'):\n",
      "    print line.split()"
     ],
     "language": "python",
     "metadata": {},
     "outputs": [
      {
       "output_type": "stream",
       "stream": "stdout",
       "text": [
        "[]\n",
        "['#Trapezoidal', 'Rule', 'Function']\n",
        "['def', 'trapz(func,', 'a,', 'b,', 'N):']\n",
        "['h', '=', '(b-a)', '/', 'N']\n",
        "['k', '=', 'np.arange(1,N)']\n",
        "['I', '=', 'h*(0.5*func(a)', '+', '0.5*func(b)', '+', 'func(a', '+', 'k*h).sum())']\n",
        "['return', 'I']\n",
        "[]\n",
        "[\"#Simpson's\", 'Rule', 'Function']\n",
        "['def', 'simps(func,', 'a,', 'b,', 'N):']\n",
        "['h', '=', '(b-a)', '/', 'N']\n",
        "['k1', '=', 'np.arange(1', ',', 'N/2+1)']\n",
        "['k2', '=', 'np.arange(1', ',', 'N/2)']\n",
        "['I', '=', '(1./3.)*h*(func(a)+func(b)+4.*func(a+(2*k1-1)*h).sum()+2.*func(a+2*k2*h).sum())']\n",
        "['return', 'I']\n"
       ]
      }
     ],
     "prompt_number": 17
    },
    {
     "cell_type": "markdown",
     "metadata": {},
     "source": [
      "(b) Use your trapz and simps functions from part (a) to calculate the integral of x4\u22122x+1 from x = 0 to x = 2 with N = 10, N = 100, and N = 1000. Then compare your result to the known correct value of 4.4. What is the percent error in each case?"
     ]
    },
    {
     "cell_type": "code",
     "collapsed": false,
     "input": [
      "func = lambda x: x**4 - 2*x + 1\n",
      "actual = 4.4"
     ],
     "language": "python",
     "metadata": {},
     "outputs": [],
     "prompt_number": 23
    },
    {
     "cell_type": "code",
     "collapsed": false,
     "input": [
      "a = [0,0,0]\n",
      "a[0] = trapz(func, 0.0, 2.0, 10)\n",
      "a[1] = trapz(func, 0.0, 2.0, 100)\n",
      "a[2] = trapz(func, 0.0, 2.0, 1000)\n",
      "print a"
     ],
     "language": "python",
     "metadata": {},
     "outputs": [
      {
       "output_type": "stream",
       "stream": "stdout",
       "text": [
        "[4.5065600000000003, 4.4010666560000002, 4.4000106666656]\n"
       ]
      }
     ],
     "prompt_number": 32
    },
    {
     "cell_type": "code",
     "collapsed": false,
     "input": [
      "for n in range(3):\n",
      "    if n == 0:\n",
      "        N = 10\n",
      "    if n == 1:\n",
      "        N = 100\n",
      "    if n == 2:\n",
      "        N = 1000\n",
      "    PercentErr1 = abs(100*((a[n] - actual) / actual))\n",
      "    print \"Percent Error, N =\" ,N ,\":\" ,PercentErr1"
     ],
     "language": "python",
     "metadata": {},
     "outputs": [
      {
       "output_type": "stream",
       "stream": "stdout",
       "text": [
        "Percent Error, N = 10 : 2.42181818182\n",
        "Percent Error, N = 100 : 0.0242421818182\n",
        "Percent Error, N = 1000 : 0.000242424218175\n"
       ]
      }
     ],
     "prompt_number": 41
    },
    {
     "cell_type": "code",
     "collapsed": false,
     "input": [
      "b = np.zeros(3)\n",
      "b[0] = simps(func, 0.0, 2.0, 10)\n",
      "b[1] = simps(func, 0.0, 2.0, 100)\n",
      "b[2] = simps(func, 0.0, 2.0, 1000)\n",
      "print b"
     ],
     "language": "python",
     "metadata": {},
     "outputs": [
      {
       "output_type": "stream",
       "stream": "stdout",
       "text": [
        "[ 4.40042667  4.40000004  4.4       ]\n"
       ]
      }
     ],
     "prompt_number": 43
    },
    {
     "cell_type": "code",
     "collapsed": false,
     "input": [
      "for n in range(3):\n",
      "    if n == 0:\n",
      "        N = 10\n",
      "    if n == 1:\n",
      "        N = 100\n",
      "    if n == 2:\n",
      "        N = 1000\n",
      "    PercentErr2 = abs(100*((b[n] - actual) / actual))\n",
      "    print \"Percent Error, N =\" ,N ,\":\" ,PercentErr2\n"
     ],
     "language": "python",
     "metadata": {},
     "outputs": [
      {
       "output_type": "stream",
       "stream": "stdout",
       "text": [
        "Percent Error, N = 10 : 0.00969696969697\n",
        "Percent Error, N = 100 : 9.69696969187e-07\n",
        "Percent Error, N = 1000 : 9.69729347327e-11\n"
       ]
      }
     ],
     "prompt_number": 42
    },
    {
     "cell_type": "heading",
     "level": 1,
     "metadata": {},
     "source": [
      "Question 2"
     ]
    },
    {
     "cell_type": "markdown",
     "metadata": {},
     "source": [
      "Consider the integral\n",
      "\n",
      "E(x)=\u222be^(\u2212t2) dt  [0,x]\n",
      "\n",
      "This is the error function, commonly seen in probability and statistics. There is no known way to perform this particular integral analytically, although the integrand can be expanded in a Taylor series and terms computed to arbitrary order. For most applications, numerical approaches are the only way forward."
     ]
    },
    {
     "cell_type": "markdown",
     "metadata": {},
     "source": [
      "(a) Use scipy.integrate.cumtrapz to calculate E(x) for values of x from 0 to 3 in steps of 0.1. Print the result."
     ]
    },
    {
     "cell_type": "code",
     "collapsed": false,
     "input": [
      "import scipy.integrate as integrate\n",
      "import matplotlib.pyplot as plt"
     ],
     "language": "python",
     "metadata": {},
     "outputs": [],
     "prompt_number": 75
    },
    {
     "cell_type": "code",
     "collapsed": false,
     "input": [
      "\n",
      "x = np.linspace(0, 3, num= 3/0.1)\n",
      "y = np.zeros(x.shape)\n",
      "for n in range (30):\n",
      "    y[n] = np.exp(-x[n]**2)\n",
      "\n",
      "y_int = integrate.cumtrapz(y,x,dx = 0.1, initial = 0)\n",
      "print y_int"
     ],
     "language": "python",
     "metadata": {},
     "outputs": [
      {
       "output_type": "stream",
       "stream": "stdout",
       "text": [
        "[ 0.          0.1028977   0.203628    0.30015952  0.39071871  0.47388559\n",
        "  0.54865477  0.61445829  0.67115136  0.71896644  0.75844433  0.79035214\n",
        "  0.81559822  0.83515262  0.84997946  0.86098488  0.8689817   0.87466999\n",
        "  0.87863094  0.88133097  0.88313271  0.88430968  0.88506233  0.88553349\n",
        "  0.88582223  0.88599545  0.88609717  0.88615565  0.88618856  0.88620669]\n"
       ]
      }
     ],
     "prompt_number": 77
    },
    {
     "cell_type": "markdown",
     "metadata": {},
     "source": [
      "(b) Plot the integrand as a function of t and E(x) as a function of x (both ranging from 0 to 3) on the same graph."
     ]
    },
    {
     "cell_type": "code",
     "collapsed": false,
     "input": [
      "plt.plot(x,y_int,'ro', x, y[0] + 0.5 * x**2, 'b-')\n",
      "plt.show()"
     ],
     "language": "python",
     "metadata": {},
     "outputs": [
      {
       "metadata": {},
       "output_type": "display_data",
       "png": "[encoded data removed]",
       "text": [
        "<matplotlib.figure.Figure at 0xa6844a8>"
       ]
      }
     ],
     "prompt_number": 78
    },
    {
     "cell_type": "heading",
     "level": 1,
     "metadata": {},
     "source": [
      "Question 3"
     ]
    },
    {
     "cell_type": "markdown",
     "metadata": {},
     "source": [
      "(a) What is the probability of finding the particle between L/3 and L/2 for the ground state (n = 1) and for the first excited state (n = 2)? Let L = 1. Perform the integral using both scipy.integrate.trapz and scipy.integrate.quad with an accuracy of 6 sig figs. How many slices did you need to use for scipy.integrate.trapz?"
     ]
    },
    {
     "cell_type": "code",
     "collapsed": false,
     "input": [
      "def Probability1(n,L,a,b):\n",
      "    # n: energy state\n",
      "    # a: lower limit of integration\n",
      "    # b: upper limit of integration\n",
      "    L = 1\n",
      "    a = L/3.\n",
      "    b = L/2.\n",
      "    tsai = lambda x: abs(np.sqrt(2/L) * np.sin(n*np.pi*x / L))**2\n",
      "    q = integrate.quad(tsai, a, b)\n",
      "    return q"
     ],
     "language": "python",
     "metadata": {},
     "outputs": [],
     "prompt_number": 102
    },
    {
     "cell_type": "code",
     "collapsed": false,
     "input": [
      "none = Probability1(1,L,a,b)\n",
      "ntwo =Probability1(2,L,a,b)\n",
      "print none\n",
      "print ntwo"
     ],
     "language": "python",
     "metadata": {},
     "outputs": [
      {
       "output_type": "stream",
       "stream": "stdout",
       "text": [
        "(0.3044988905221147, 3.380616792304666e-15)\n",
        "(0.09775055473894276, 1.0852491654105595e-15)\n"
       ]
      }
     ],
     "prompt_number": 105
    },
    {
     "cell_type": "code",
     "collapsed": false,
     "input": [
      "def Probability2(n,L,a,b):\n",
      "    # n: energy state\n",
      "    # a: lower limit of integration\n",
      "    # b: upper limit of integration\n",
      "    L = 1\n",
      "    a = L/3.\n",
      "    b = L/2.\n",
      "    tsai = lambda x: abs(np.sqrt(2/L) * np.sin(n*np.pi*x / L))**2\n",
      "    q = integrate.trapz(tsai, x=None, dx = 0.1)\n",
      "    return q"
     ],
     "language": "python",
     "metadata": {},
     "outputs": [],
     "prompt_number": 109
    },
    {
     "cell_type": "code",
     "collapsed": false,
     "input": [
      "none = Probability2(1,L,a,b)\n",
      "ntwo =Probability2(2,L,a,b)\n",
      "print none\n",
      "print ntwo"
     ],
     "language": "python",
     "metadata": {},
     "outputs": [
      {
       "ename": "IndexError",
       "evalue": "list assignment index out of range",
       "output_type": "pyerr",
       "traceback": [
        "\u001b[1;31m---------------------------------------------------------------------------\u001b[0m\n\u001b[1;31mIndexError\u001b[0m                                Traceback (most recent call last)",
        "\u001b[1;32m<ipython-input-108-1a90cf36feef>\u001b[0m in \u001b[0;36m<module>\u001b[1;34m()\u001b[0m\n\u001b[1;32m----> 1\u001b[1;33m \u001b[0mnone\u001b[0m \u001b[1;33m=\u001b[0m \u001b[0mProbability2\u001b[0m\u001b[1;33m(\u001b[0m\u001b[1;36m1\u001b[0m\u001b[1;33m,\u001b[0m\u001b[0mL\u001b[0m\u001b[1;33m,\u001b[0m\u001b[0ma\u001b[0m\u001b[1;33m,\u001b[0m\u001b[0mb\u001b[0m\u001b[1;33m)\u001b[0m\u001b[1;33m\u001b[0m\u001b[0m\n\u001b[0m\u001b[0;32m      2\u001b[0m \u001b[0mntwo\u001b[0m \u001b[1;33m=\u001b[0m\u001b[0mProbability2\u001b[0m\u001b[1;33m(\u001b[0m\u001b[1;36m2\u001b[0m\u001b[1;33m,\u001b[0m\u001b[0mL\u001b[0m\u001b[1;33m,\u001b[0m\u001b[0ma\u001b[0m\u001b[1;33m,\u001b[0m\u001b[0mb\u001b[0m\u001b[1;33m)\u001b[0m\u001b[1;33m\u001b[0m\u001b[0m\n\u001b[0;32m      3\u001b[0m \u001b[1;32mprint\u001b[0m \u001b[0mnone\u001b[0m\u001b[1;33m\u001b[0m\u001b[0m\n\u001b[0;32m      4\u001b[0m \u001b[1;32mprint\u001b[0m \u001b[0mntwo\u001b[0m\u001b[1;33m\u001b[0m\u001b[0m\n",
        "\u001b[1;32m<ipython-input-107-2974ec4fb67d>\u001b[0m in \u001b[0;36mProbability2\u001b[1;34m(n, L, a, b)\u001b[0m\n\u001b[0;32m      7\u001b[0m     \u001b[0mb\u001b[0m \u001b[1;33m=\u001b[0m \u001b[0mL\u001b[0m\u001b[1;33m/\u001b[0m\u001b[1;36m2.\u001b[0m\u001b[1;33m\u001b[0m\u001b[0m\n\u001b[0;32m      8\u001b[0m     \u001b[0mtsai\u001b[0m \u001b[1;33m=\u001b[0m \u001b[1;32mlambda\u001b[0m \u001b[0mx\u001b[0m\u001b[1;33m:\u001b[0m \u001b[0mabs\u001b[0m\u001b[1;33m(\u001b[0m\u001b[0mnp\u001b[0m\u001b[1;33m.\u001b[0m\u001b[0msqrt\u001b[0m\u001b[1;33m(\u001b[0m\u001b[1;36m2\u001b[0m\u001b[1;33m/\u001b[0m\u001b[0mL\u001b[0m\u001b[1;33m)\u001b[0m \u001b[1;33m*\u001b[0m \u001b[0mnp\u001b[0m\u001b[1;33m.\u001b[0m\u001b[0msin\u001b[0m\u001b[1;33m(\u001b[0m\u001b[0mn\u001b[0m\u001b[1;33m*\u001b[0m\u001b[0mnp\u001b[0m\u001b[1;33m.\u001b[0m\u001b[0mpi\u001b[0m\u001b[1;33m*\u001b[0m\u001b[0mx\u001b[0m \u001b[1;33m/\u001b[0m \u001b[0mL\u001b[0m\u001b[1;33m)\u001b[0m\u001b[1;33m)\u001b[0m\u001b[1;33m**\u001b[0m\u001b[1;36m2\u001b[0m\u001b[1;33m\u001b[0m\u001b[0m\n\u001b[1;32m----> 9\u001b[1;33m     \u001b[0mq\u001b[0m \u001b[1;33m=\u001b[0m \u001b[0mintegrate\u001b[0m\u001b[1;33m.\u001b[0m\u001b[0mtrapz\u001b[0m\u001b[1;33m(\u001b[0m\u001b[0mtsai\u001b[0m\u001b[1;33m,\u001b[0m \u001b[0ma\u001b[0m\u001b[1;33m,\u001b[0m \u001b[0mb\u001b[0m\u001b[1;33m)\u001b[0m\u001b[1;33m\u001b[0m\u001b[0m\n\u001b[0m\u001b[0;32m     10\u001b[0m     \u001b[1;32mreturn\u001b[0m \u001b[0mq\u001b[0m\u001b[1;33m\u001b[0m\u001b[0m\n",
        "\u001b[1;32mF:\\Program Files\\Anaconda\\lib\\site-packages\\numpy\\lib\\function_base.pyc\u001b[0m in \u001b[0;36mtrapz\u001b[1;34m(y, x, dx, axis)\u001b[0m\n\u001b[0;32m   2923\u001b[0m             \u001b[0md\u001b[0m \u001b[1;33m=\u001b[0m \u001b[0md\u001b[0m\u001b[1;33m.\u001b[0m\u001b[0mreshape\u001b[0m\u001b[1;33m(\u001b[0m\u001b[0mshape\u001b[0m\u001b[1;33m)\u001b[0m\u001b[1;33m\u001b[0m\u001b[0m\n\u001b[0;32m   2924\u001b[0m         \u001b[1;32melse\u001b[0m\u001b[1;33m:\u001b[0m\u001b[1;33m\u001b[0m\u001b[0m\n\u001b[1;32m-> 2925\u001b[1;33m             \u001b[0md\u001b[0m \u001b[1;33m=\u001b[0m \u001b[0mdiff\u001b[0m\u001b[1;33m(\u001b[0m\u001b[0mx\u001b[0m\u001b[1;33m,\u001b[0m \u001b[0maxis\u001b[0m\u001b[1;33m=\u001b[0m\u001b[0maxis\u001b[0m\u001b[1;33m)\u001b[0m\u001b[1;33m\u001b[0m\u001b[0m\n\u001b[0m\u001b[0;32m   2926\u001b[0m     \u001b[0mnd\u001b[0m \u001b[1;33m=\u001b[0m \u001b[0mlen\u001b[0m\u001b[1;33m(\u001b[0m\u001b[0my\u001b[0m\u001b[1;33m.\u001b[0m\u001b[0mshape\u001b[0m\u001b[1;33m)\u001b[0m\u001b[1;33m\u001b[0m\u001b[0m\n\u001b[0;32m   2927\u001b[0m     \u001b[0mslice1\u001b[0m \u001b[1;33m=\u001b[0m \u001b[1;33m[\u001b[0m\u001b[0mslice\u001b[0m\u001b[1;33m(\u001b[0m\u001b[0mNone\u001b[0m\u001b[1;33m)\u001b[0m\u001b[1;33m]\u001b[0m\u001b[1;33m*\u001b[0m\u001b[0mnd\u001b[0m\u001b[1;33m\u001b[0m\u001b[0m\n",
        "\u001b[1;32mF:\\Program Files\\Anaconda\\lib\\site-packages\\numpy\\lib\\function_base.pyc\u001b[0m in \u001b[0;36mdiff\u001b[1;34m(a, n, axis)\u001b[0m\n\u001b[0;32m    989\u001b[0m     \u001b[0mslice1\u001b[0m \u001b[1;33m=\u001b[0m \u001b[1;33m[\u001b[0m\u001b[0mslice\u001b[0m\u001b[1;33m(\u001b[0m\u001b[0mNone\u001b[0m\u001b[1;33m)\u001b[0m\u001b[1;33m]\u001b[0m\u001b[1;33m*\u001b[0m\u001b[0mnd\u001b[0m\u001b[1;33m\u001b[0m\u001b[0m\n\u001b[0;32m    990\u001b[0m     \u001b[0mslice2\u001b[0m \u001b[1;33m=\u001b[0m \u001b[1;33m[\u001b[0m\u001b[0mslice\u001b[0m\u001b[1;33m(\u001b[0m\u001b[0mNone\u001b[0m\u001b[1;33m)\u001b[0m\u001b[1;33m]\u001b[0m\u001b[1;33m*\u001b[0m\u001b[0mnd\u001b[0m\u001b[1;33m\u001b[0m\u001b[0m\n\u001b[1;32m--> 991\u001b[1;33m     \u001b[0mslice1\u001b[0m\u001b[1;33m[\u001b[0m\u001b[0maxis\u001b[0m\u001b[1;33m]\u001b[0m \u001b[1;33m=\u001b[0m \u001b[0mslice\u001b[0m\u001b[1;33m(\u001b[0m\u001b[1;36m1\u001b[0m\u001b[1;33m,\u001b[0m \u001b[0mNone\u001b[0m\u001b[1;33m)\u001b[0m\u001b[1;33m\u001b[0m\u001b[0m\n\u001b[0m\u001b[0;32m    992\u001b[0m     \u001b[0mslice2\u001b[0m\u001b[1;33m[\u001b[0m\u001b[0maxis\u001b[0m\u001b[1;33m]\u001b[0m \u001b[1;33m=\u001b[0m \u001b[0mslice\u001b[0m\u001b[1;33m(\u001b[0m\u001b[0mNone\u001b[0m\u001b[1;33m,\u001b[0m \u001b[1;33m-\u001b[0m\u001b[1;36m1\u001b[0m\u001b[1;33m)\u001b[0m\u001b[1;33m\u001b[0m\u001b[0m\n\u001b[0;32m    993\u001b[0m     \u001b[0mslice1\u001b[0m \u001b[1;33m=\u001b[0m \u001b[0mtuple\u001b[0m\u001b[1;33m(\u001b[0m\u001b[0mslice1\u001b[0m\u001b[1;33m)\u001b[0m\u001b[1;33m\u001b[0m\u001b[0m\n",
        "\u001b[1;31mIndexError\u001b[0m: list assignment index out of range"
       ]
      }
     ],
     "prompt_number": 108
    },
    {
     "cell_type": "code",
     "collapsed": false,
     "input": [
      "help(integrate.trapz)"
     ],
     "language": "python",
     "metadata": {},
     "outputs": [
      {
       "output_type": "stream",
       "stream": "stdout",
       "text": [
        "Help on function trapz in module numpy.lib.function_base:\n",
        "\n",
        "trapz(y, x=None, dx=1.0, axis=-1)\n",
        "    Integrate along the given axis using the composite trapezoidal rule.\n",
        "    \n",
        "    Integrate `y` (`x`) along given axis.\n",
        "    \n",
        "    Parameters\n",
        "    ----------\n",
        "    y : array_like\n",
        "        Input array to integrate.\n",
        "    x : array_like, optional\n",
        "        If `x` is None, then spacing between all `y` elements is `dx`.\n",
        "    dx : scalar, optional\n",
        "        If `x` is None, spacing given by `dx` is assumed. Default is 1.\n",
        "    axis : int, optional\n",
        "        Specify the axis.\n",
        "    \n",
        "    Returns\n",
        "    -------\n",
        "    trapz : float\n",
        "        Definite integral as approximated by trapezoidal rule.\n",
        "    \n",
        "    See Also\n",
        "    --------\n",
        "    sum, cumsum\n",
        "    \n",
        "    Notes\n",
        "    -----\n",
        "    Image [2]_ illustrates trapezoidal rule -- y-axis locations of points will\n",
        "    be taken from `y` array, by default x-axis distances between points will be\n",
        "    1.0, alternatively they can be provided with `x` array or with `dx` scalar.\n",
        "    Return value will be equal to combined area under the red lines.\n",
        "    \n",
        "    \n",
        "    References\n",
        "    ----------\n",
        "    .. [1] Wikipedia page: http://en.wikipedia.org/wiki/Trapezoidal_rule\n",
        "    \n",
        "    .. [2] Illustration image:\n",
        "           http://en.wikipedia.org/wiki/File:Composite_trapezoidal_rule_illustration.png\n",
        "    \n",
        "    Examples\n",
        "    --------\n",
        "    >>> np.trapz([1,2,3])\n",
        "    4.0\n",
        "    >>> np.trapz([1,2,3], x=[4,6,8])\n",
        "    8.0\n",
        "    >>> np.trapz([1,2,3], dx=2)\n",
        "    8.0\n",
        "    >>> a = np.arange(6).reshape(2, 3)\n",
        "    >>> a\n",
        "    array([[0, 1, 2],\n",
        "           [3, 4, 5]])\n",
        "    >>> np.trapz(a, axis=0)\n",
        "    array([ 1.5,  2.5,  3.5])\n",
        "    >>> np.trapz(a, axis=1)\n",
        "    array([ 2.,  8.])\n",
        "\n"
       ]
      }
     ],
     "prompt_number": 106
    },
    {
     "cell_type": "code",
     "collapsed": false,
     "input": [],
     "language": "python",
     "metadata": {},
     "outputs": []
    }
   ],
   "metadata": {}
  }
 ]
}