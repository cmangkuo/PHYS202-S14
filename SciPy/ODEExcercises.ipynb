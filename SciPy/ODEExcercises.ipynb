{
 "metadata": {
  "name": "",
  "signature": "sha256:10fbf20f7ddcaf67eb24ad6265ba4c04bea9b411a002f3c4c8b7d1fa8bf80d33"
 },
 "nbformat": 3,
 "nbformat_minor": 0,
 "worksheets": [
  {
   "cells": [
    {
     "cell_type": "heading",
     "level": 1,
     "metadata": {},
     "source": [
      "ODE Excercises"
     ]
    },
    {
     "cell_type": "heading",
     "level": 1,
     "metadata": {},
     "source": [
      "Question 1"
     ]
    },
    {
     "cell_type": "code",
     "collapsed": false,
     "input": [
      "%pylab inline\n",
      "import numpy as np\n",
      "import matplotlib.pyplot as plt\n",
      "from scipy.integrate import odeint"
     ],
     "language": "python",
     "metadata": {},
     "outputs": [
      {
       "output_type": "stream",
       "stream": "stdout",
       "text": [
        "Populating the interactive namespace from numpy and matplotlib\n"
       ]
      }
     ],
     "prompt_number": 3
    },
    {
     "cell_type": "markdown",
     "metadata": {},
     "source": [
      "\n",
      "(a) Use the numerical solution to see what happens to the period of the pendulum as you change the initial angle of release. Plot \u03b8 vs. t for 5 different initial angles, \u03b80 , spanning 0 to \u03c0. (i.e. 0, \u03c0/4 , \u03c0/2 , 3\u03c0/4 , and \u03c0 ). Put them all on the same plot. What happens to the period of the pendulum as the initial angle increases from \u03c0/4 to 3\u03c0/4? What happens to the trajectory when the initial angle is 0 or \u03c0 ?"
     ]
    },
    {
     "cell_type": "code",
     "collapsed": false,
     "input": [
      "def deriv(theta_current, t): # return derivatives of the array theta\n",
      "    g = 9.8 #m/s^2\n",
      "    ell = 0.5 #m\n",
      "    theta = theta_current[0]\n",
      "    omega = theta_current[1]\n",
      "    dtheta = omega\n",
      "    domega = -(g/ell)*np.sin(theta)\n",
      "    return np.array([dtheta, domega])"
     ],
     "language": "python",
     "metadata": {},
     "outputs": [],
     "prompt_number": 2
    },
    {
     "cell_type": "code",
     "collapsed": false,
     "input": [
      "t = np.arange(0, np.pi+0.01, np.pi/4)\n",
      "omega0 = 0.\n",
      "theta_init = np.array([th0, omega0]) \n",
      "theta = odeint(deriv,theta_init,t)"
     ],
     "language": "python",
     "metadata": {},
     "outputs": [],
     "prompt_number": 15
    },
    {
     "cell_type": "code",
     "collapsed": false,
     "input": [
      "print t"
     ],
     "language": "python",
     "metadata": {},
     "outputs": [
      {
       "output_type": "stream",
       "stream": "stdout",
       "text": [
        "[ 0.          0.78539816  1.57079633  2.35619449  3.14159265]\n"
       ]
      }
     ],
     "prompt_number": 16
    },
    {
     "cell_type": "code",
     "collapsed": false,
     "input": [
      "for n in range(5):\n",
      "    th0 = t[n]\n",
      "    plt.plot(t,theta[:,0], 'r--', label = str(th0))"
     ],
     "language": "python",
     "metadata": {},
     "outputs": [
      {
       "metadata": {},
       "output_type": "display_data",
       "png": "[encoded data removed]",
       "text": [
        "<matplotlib.figure.Figure at 0xa755198>"
       ]
      }
     ],
     "prompt_number": 18
    },
    {
     "cell_type": "code",
     "collapsed": false,
     "input": [],
     "language": "python",
     "metadata": {},
     "outputs": []
    }
   ],
   "metadata": {}
  }
 ]
}