{
 "metadata": {
  "name": "",
  "signature": "sha256:c71408410155443eb0cd14481cbf27a81a9cc15e7b5ee2e4a707e19ed23aa628"
 },
 "nbformat": 3,
 "nbformat_minor": 0,
 "worksheets": [
  {
   "cells": [
    {
     "cell_type": "heading",
     "level": 1,
     "metadata": {},
     "source": [
      "Numerical Integration"
     ]
    },
    {
     "cell_type": "code",
     "collapsed": false,
     "input": [
      "%pylab inline\n",
      "import numpy as np\n",
      "import matplotlib.pyplot as plt"
     ],
     "language": "python",
     "metadata": {},
     "outputs": [
      {
       "output_type": "stream",
       "stream": "stdout",
       "text": [
        "Populating the interactive namespace from numpy and matplotlib\n"
       ]
      }
     ],
     "prompt_number": 2
    },
    {
     "cell_type": "heading",
     "level": 1,
     "metadata": {},
     "source": [
      "Introduction"
     ]
    },
    {
     "cell_type": "markdown",
     "metadata": {},
     "source": [
      "We often calculate integrals in physics (electromagnetism, thermodynamics, quantum mechanics, etc.). In Calculus, you learned how to evaluate integrals analytically. Some functions are too difficult to integrate analytically and for these we need to use the computer to integrate numerically. A numerical integral goes back to the basics principles of calculus. Given a function f(x), we need to find the area under the curve between two limits, a and b.\n",
      "\n",
      "There is no known way to calculate such an area in all cases on a computer, but we can do it approximately by dividing the area into rectangular slices and adding them all together. Unfortunately, this is a poor approximation, since the rectangles under and overshoot the function."
     ]
    },
    {
     "cell_type": "heading",
     "level": 1,
     "metadata": {},
     "source": [
      "Trapezoidal Rule"
     ]
    },
    {
     "cell_type": "markdown",
     "metadata": {},
     "source": [
      "A better approach, which involves very little extra work, is to divide the area into trapezoids rather than rectangles. The area under the trapezoids is a considerably better approximation to the area under the curve, and this approach, though simple, often gives perfectly adequate results."
     ]
    },
    {
     "cell_type": "markdown",
     "metadata": {},
     "source": [
      "We can improve the approximation by making the size of the trapezoids smaller. Suppose we divide the interval from a to b into N slices or steps, so that each slice has width h = (b - a) / N. Then the right hand side of the kth slice falls at a + kh, and the left hand side falls at a + kh - h = a + (k-1)h. Thus the area of the trapezoid for said slice is:\n",
      "\n",
      "    A = 0.5h [ f(a+(k-1)h) + f(a+kh) ]\n",
      "    \n",
      "This is the trapezoidal rule. It gives us trapezoidal approximation to the area under one slice of our function. Now our approximation for the area under the whole curve is the sum of the areas of the trapezoids for all N slices"
     ]
    },
    {
     "cell_type": "heading",
     "level": 1,
     "metadata": {},
     "source": [
      "Applying the trapezoidal rule"
     ]
    },
    {
     "cell_type": "markdown",
     "metadata": {},
     "source": [
      "Use the trapezoidal rule to calculate the integral of x^4 - 2x + 1 from [0,2]"
     ]
    },
    {
     "cell_type": "markdown",
     "metadata": {},
     "source": [
      "this is an integral we can do by hand, so we can check our work. To define the function, let's use a lambda expression ( you learned about these in advanced python of CodeCademy). It's basically just a way of definig a function of some variables in one line. For this case, it is just a function of x:\n"
     ]
    },
    {
     "cell_type": "code",
     "collapsed": false,
     "input": [
      "func = lambda x: x**4 - 2*x + 1"
     ],
     "language": "python",
     "metadata": {},
     "outputs": [],
     "prompt_number": 8
    },
    {
     "cell_type": "code",
     "collapsed": false,
     "input": [
      "N = 10\n",
      "a = 0.0\n",
      "b = 2.0\n",
      "h = (b-a) / N\n",
      "\n",
      "k = np.arange(1,N)\n",
      "I = h*(0.5*func(a) + 0.5*func(b) + func(a+k*h).sum())\n",
      "\n",
      "print \"Trapezoidal Rule Integral =\",I\n",
      "\n",
      "def trapz(func, a, b, N):\n",
      "    h = (b-a) / N\n",
      "    k = np.arange(1,N)\n",
      "    fun = lambda x: func\n",
      "    I = h*(0.5*func(a) + 0.5*func(b) + func(a + k*h).sum())\n",
      "    return I\n",
      "\n",
      "trapz(func,a,b,N)\n"
     ],
     "language": "python",
     "metadata": {},
     "outputs": [
      {
       "output_type": "stream",
       "stream": "stdout",
       "text": [
        "Trapezoidal Rule Integral = 4.50656\n"
       ]
      },
      {
       "metadata": {},
       "output_type": "pyout",
       "prompt_number": 10,
       "text": [
        "4.5065600000000003"
       ]
      }
     ],
     "prompt_number": 10
    },
    {
     "cell_type": "markdown",
     "metadata": {},
     "source": [
      "The correct answer is 4.4\n",
      "\n",
      "Our result is off by about 2%"
     ]
    },
    {
     "cell_type": "heading",
     "level": 1,
     "metadata": {},
     "source": [
      "Simpson's Rule"
     ]
    },
    {
     "cell_type": "markdown",
     "metadata": {},
     "source": [
      "The trapezoidal rule estimates the area under a curve by approximating the curve with straight-line segments. We can often get a better result if we approximate the function instead with curves of some kine. Simpson's rule uses quadratic curves. In order to specify a quadratic completely one needs three points, not just two as with a straight line. So in this method we take a pair of adjacent slices and fit a quadratic through the 3 points that mark the boundaries of those slices."
     ]
    },
    {
     "cell_type": "heading",
     "level": 1,
     "metadata": {},
     "source": [
      "Applying Simpson's Rule"
     ]
    },
    {
     "cell_type": "markdown",
     "metadata": {},
     "source": [
      "Now let's code simpson's rule to compute the integral of the same function from befor, f(x) = x^4 - 2x + 1 from [0,2]."
     ]
    },
    {
     "cell_type": "code",
     "collapsed": false,
     "input": [
      "N = 10\n",
      "a = 0.0\n",
      "b = 2.0\n",
      "h = (b-a) / N\n",
      "\n",
      "k1 = np.arange(1,N/2+1)\n",
      "k2 = np.arange(1,N/2)\n",
      "I = (1./3.)*h*(func(a) + func(b) + 4.*func(a+(2*k1-1)*h).sum() + 2.*func(a+2*k2*h).sum())\n",
      "\n",
      "print \"Simpson's Rule Integral=\" ,I"
     ],
     "language": "python",
     "metadata": {},
     "outputs": [
      {
       "output_type": "stream",
       "stream": "stdout",
       "text": [
        "Simpson's Rule Integral= 4.40042666667\n"
       ]
      }
     ],
     "prompt_number": 7
    },
    {
     "cell_type": "heading",
     "level": 1,
     "metadata": {},
     "source": [
      "scipy.integrate"
     ]
    },
    {
     "cell_type": "markdown",
     "metadata": {},
     "source": [
      "It is time to look at acipy's built in functions for integrating functions numerically. Start by importing the library."
     ]
    },
    {
     "cell_type": "code",
     "collapsed": false,
     "input": [
      "import scipy.integrate as integrate\n",
      "# Check out the help:\n",
      "# help(integrate)"
     ],
     "language": "python",
     "metadata": {},
     "outputs": [],
     "prompt_number": 8
    },
    {
     "cell_type": "markdown",
     "metadata": {},
     "source": [
      "Methods for Integrating Functions given function object.\n",
      "\n",
      "    quad          -- General purpose integration.\n",
      "    dblquad       -- General purpose double integration.\n",
      "    tplquad       -- General purpose triple integration.\n",
      "    fixed_quad    -- Integrate func(x) using Gaussian quadrature of order n.\n",
      "    quadrature    -- Integrate with given tolerance using Gaussian quadrature.\n",
      "    romberg       -- Integrate func using Romberg integration.\n",
      "\n",
      "Methods for Integrating Functions given fixed samples.\n",
      "\n",
      "    trapz         -- Use trapezoidal rule to compute integral from samples.\n",
      "    cumtrapz      -- Use trapezoidal rule to cumulatively compute integral.\n",
      "    simps         -- Use Simpson's rule to compute integral from samples.\n",
      "    romb          -- Use Romberg Integration to compute integral from (2**k + 1) evenly-spaced samples.\n",
      "\n",
      "See the special module's orthogonal polynomials (scipy.special) for Gaussian quadrature roots and weights for other weighting factors and regions.\n",
      "\n",
      "Interface to numerical integrators of ODE systems.\n",
      "\n",
      "    odeint        -- General integration of ordinary differential equations.\n",
      "    ode           -- Integrate ODE using VODE and ZVODE routines."
     ]
    },
    {
     "cell_type": "heading",
     "level": 1,
     "metadata": {},
     "source": [
      "General Integration (Quad)"
     ]
    },
    {
     "cell_type": "markdown",
     "metadata": {},
     "source": [
      "The scipy function is provided to integrate a function of one variable between two points. The points can be plus/minus infinity (np.infty) to indicate infinite limits."
     ]
    },
    {
     "cell_type": "code",
     "collapsed": false,
     "input": [
      "fun = lambda x : np.exp(-x)*np.sin(x)\n",
      "\n",
      "result, error = integrate.quad(fun, 0, 2*np.pi)\n",
      "\n",
      "print result, error"
     ],
     "language": "python",
     "metadata": {},
     "outputs": [
      {
       "output_type": "stream",
       "stream": "stdout",
       "text": [
        "0.499066278634 6.02373163193e-15\n"
       ]
      }
     ],
     "prompt_number": 9
    },
    {
     "cell_type": "markdown",
     "metadata": {},
     "source": [
      "The first argument to quad is a \"callable\" Python object (ie a function, method, or class instance). Notice that we used a lambda function in this case as the argument. The next two arguments are the limits of integration. The return value is a tuple, with the first element holding the estimated value of the integral and the second element holding an upper bound on the error."
     ]
    },
    {
     "cell_type": "markdown",
     "metadata": {},
     "source": [
      "The analytic solution to the integral is 0.499066\n",
      "so that is pretty good.\n",
      "\n",
      "Here it is again, integrated from 0 to infinity:"
     ]
    },
    {
     "cell_type": "code",
     "collapsed": false,
     "input": [
      "I = integrate.quad(fun, 0, np.infty)\n",
      "\n",
      "print I"
     ],
     "language": "python",
     "metadata": {},
     "outputs": [
      {
       "output_type": "stream",
       "stream": "stdout",
       "text": [
        "(0.5000000000000002, 1.4875911931534648e-08)\n"
       ]
      }
     ],
     "prompt_number": 11
    },
    {
     "cell_type": "markdown",
     "metadata": {},
     "source": [
      "In this case the analytic solution is exactly 1/2, so again pretty good.\n",
      "\n",
      "We can calculate the error in the result by looking at the difference between the exact result and the numerical value from quad with"
     ]
    },
    {
     "cell_type": "code",
     "collapsed": false,
     "input": [
      "print abs(I[0]-0.5)"
     ],
     "language": "python",
     "metadata": {},
     "outputs": [
      {
       "output_type": "stream",
       "stream": "stdout",
       "text": [
        "2.22044604925e-16\n"
       ]
      }
     ],
     "prompt_number": 12
    },
    {
     "cell_type": "markdown",
     "metadata": {},
     "source": [
      "In this case, the numerically computed integral is within 10^-16 of the exact result - well below the reported error bound"
     ]
    },
    {
     "cell_type": "heading",
     "level": 1,
     "metadata": {},
     "source": [
      "Integrating Array Data"
     ]
    },
    {
     "cell_type": "markdown",
     "metadata": {},
     "source": [
      "When you want to compute the integral for an array of data (such as thermistor resistance-temperature data from the Interpolation lesson), you don't have the luxury of varying your choice of N, the number of slices (unless you create an interpolated approximation to your data).\n",
      "\n",
      "There are three functions for computing integrals given only samples: trapz, simps, and romb. The trapezoidal rule approximates the function as a straight line between adjacent points while Simpson's rule approximates the function"
     ]
    }
   ],
   "metadata": {}
  }
 ]
}