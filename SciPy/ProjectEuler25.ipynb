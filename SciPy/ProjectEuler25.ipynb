{
 "metadata": {
  "name": "",
  "signature": "sha256:e7d49e2132a4eb8a54841ac68ca65ef6b5e12ee047fa787854b3af472e4cfb7d"
 },
 "nbformat": 3,
 "nbformat_minor": 0,
 "worksheets": [
  {
   "cells": [
    {
     "cell_type": "code",
     "collapsed": false,
     "input": [
      "num = 0\n",
      "sequence = [1] # Our array for storing the fibonacci numbers.\n",
      "j = 1 # Our term counting variable, initialized at 1 because our sequence array starts at 1 term.\n",
      "for i in range(1,1000000):\n",
      "    num = sequence[i-2] + sequence[i-1]\n",
      "    sequence.append(num)\n",
      "    length = len(str(num))\n",
      "    j += 1\n",
      "    if length >= 1000:\n",
      "        j += 1\n",
      "        n = sequence[i]\n",
      "        break\n",
      "        \n",
      "\n",
      "print \"The first term in the Fibonacci sequence to contain 1000 digits is term\",j\n"
     ],
     "language": "python",
     "metadata": {},
     "outputs": [
      {
       "output_type": "stream",
       "stream": "stdout",
       "text": [
        "The first term in the Fibonacci sequence to contain 1000 digits is term 4782\n"
       ]
      }
     ],
     "prompt_number": 12
    },
    {
     "cell_type": "code",
     "collapsed": false,
     "input": [
      "print range(1,10)"
     ],
     "language": "python",
     "metadata": {},
     "outputs": [
      {
       "output_type": "stream",
       "stream": "stdout",
       "text": [
        "[1, 2, 3, 4, 5, 6, 7, 8, 9]\n"
       ]
      }
     ],
     "prompt_number": 11
    },
    {
     "cell_type": "code",
     "collapsed": false,
     "input": [],
     "language": "python",
     "metadata": {},
     "outputs": []
    }
   ],
   "metadata": {}
  }
 ]
}