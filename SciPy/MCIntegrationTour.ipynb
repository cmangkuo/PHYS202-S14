{
 "metadata": {
  "name": "",
  "signature": "sha256:4015722ba1d30e06aaac2f96835123c77ea0c3aaa32121e95b58652866ba1d24"
 },
 "nbformat": 3,
 "nbformat_minor": 0,
 "worksheets": [
  {
   "cells": [
    {
     "cell_type": "heading",
     "level": 1,
     "metadata": {},
     "source": [
      "Monte Carlo Integration"
     ]
    },
    {
     "cell_type": "code",
     "collapsed": false,
     "input": [
      "%pylab inline \n",
      "import numpy as np\n",
      "import matplotlib.pyplot as plt"
     ],
     "language": "python",
     "metadata": {},
     "outputs": [
      {
       "output_type": "stream",
       "stream": "stdout",
       "text": [
        "Populating the interactive namespace from numpy and matplotlib\n"
       ]
      }
     ],
     "prompt_number": 1
    },
    {
     "cell_type": "heading",
     "level": 1,
     "metadata": {},
     "source": [
      "Introduction"
     ]
    },
    {
     "cell_type": "markdown",
     "metadata": {},
     "source": [
      "In a previous lesson we explored numerical integration by choosing points along the function and calculating/summing areas. IN this lesson we will explore an entirely different technique, one that is very useful because it easily extends to integrating functions in any number of dimensions. There are many areas of physics where we neeed to evaluate multi-dimensional integrals. For example, to find the electric field due to a surface or volume of charge.\n",
      "\n",
      "Monte Carlo methods are a class of algorithms that use random number sampling to obtain numerical results. They were pioneered by scientists working on the Manhattan Project to simulate the interactions of neutrons with matter during the development of the first atomic weapons. \"Monte Carlo\" was the code name used to disguise the work of Stanislaw Ulam and John von Neumann as they developed the first algorithms using random number sampling. The choice of that particular codename comes from the fact that the technique resembles the games of chance played in the casinos of Monte Carlo in the principality of Monaco. (Las Vegas was not yet as well known as a center of gambling.)\n",
      "\n",
      "The first application of Monte Carlo methods that we will explore is for integrating functions. In another lesson we will look at using random number sampling to simulate physical phenomena."
     ]
    },
    {
     "cell_type": "heading",
     "level": 1,
     "metadata": {},
     "source": [
      "Monte Carlo Integration"
     ]
    },
    {
     "cell_type": "markdown",
     "metadata": {},
     "source": [
      "At its essence, Monte Carlo (MC) integration uses a random sampling of points within a domain where our function is defined to estimate the area bounded by the function. It is actually easier to explain with an analogy in 2 dimensions, even though it will work in any number (1, 2, 3, ..., n) of dimensions. That's one of the reasons it is so powerful. It is also easily converted to an algorithm that a computer can execute. Another bonus."
     ]
    },
    {
     "cell_type": "markdown",
     "metadata": {},
     "source": [
      "I want to know the area of the circular dartboard. If I throw N darts randomly at the board (I'm not a very good dart player), the area of the circle can be approximated as the ratio of the number of darts within the circle, Nin to the total number of darts thrown, N=Nin+Nout, times the area of the rectangular board:\n",
      "\n",
      "    Acirc\u2243NinNAboard\n",
      "    \n",
      "In this case, count all the dots and you find that there are 40 of them, with 15 inside the dartboard and 25 in the white area of the rectangular board. The board has sides of length 4, and the radius of the circle is 1.375. Thus we can compare the exact value for the area with our approximate value:\n",
      "\n",
      "    Aboard=l\u00d7w\n",
      "\n",
      "    Aexact=\u03c0r2"
     ]
    },
    {
     "cell_type": "code",
     "collapsed": false,
     "input": [
      "l = w = 4.\n",
      "r = 1.375\n",
      "Nin = 15\n",
      "N = 40\n",
      "Aboard = l * w\n",
      "Aexact = np.pi * r**2\n",
      "Acirc = (Nin/float(N)) * Aboard\n",
      "\n",
      "print \"Aboard =\",Aboard\n",
      "print \"Aexact =\",Aexact\n",
      "print \"Acirc =\",Acirc\n",
      "print \"Error =\",(100.*(Acirc-Aexact)/Aexact)"
     ],
     "language": "python",
     "metadata": {},
     "outputs": [
      {
       "output_type": "stream",
       "stream": "stdout",
       "text": [
        "Aboard = 16.0\n",
        "Aexact = 5.93957361069\n",
        "Acirc = 6.0\n",
        "Error = 1.01735230957\n"
       ]
      }
     ],
     "prompt_number": 3
    },
    {
     "cell_type": "markdown",
     "metadata": {},
     "source": [
      "So good to about 1%. If we want to make it an even better approximation, we increase the number of darts. To improve the speed/efficiency, we can shrink the size of the rectangular board so it is just big enough for our circular dartboard to fit inside. This minimizes the number of \"wrong\" darts that get thrown.\n",
      "\n",
      "The darts were thrown \"randomly\" in this case because I am not a good dart player, but it turns out that we can also improve our efficiency by being \"selectively random\". For example, we can try to target our dart throws such that we don't get overlapping hits. We could also try to ensure that we uniformly fill the space in the box with dart throws using as few darts as possible so that we don't accidentally get too many regions with more samples in them than others. Choosing how to sample the region of interest is an interesting but complicated topic in and of itself. We won't go into detail in this course, but you can read more about it by googling \"importance sampling\".\n",
      "\n",
      "For this example, we did some of the work ourselves - throwing the darts randomly and counting the number of darts inside/outside the boundary we care about. Generally, we want to let the computer do all of the work. This method of Monte Carlo integration is known as the \"Hit or Miss\" method. Let's outline the steps we need to implement it:"
     ]
    },
    {
     "cell_type": "heading",
     "level": 1,
     "metadata": {},
     "source": [
      "Hit or Miss MC Integration"
     ]
    },
    {
     "cell_type": "markdown",
     "metadata": {},
     "source": [
      " 1. Define the function we want to integrate (it could also be an array of points)\n",
      " 2. Create the bounding box around our function within which to work\n",
      " 3. Randomly (or selectively randomly) sample points within that region\n",
      " 4. Calculate the fraction of points that fall within the function boundary\n",
      " 5. The integral is then the point fraction times the area of the bounding box."
     ]
    },
    {
     "cell_type": "markdown",
     "metadata": {},
     "source": [
      "We'll start with a simple one dimensional example and implement the most basic hit or miss method using truly random samples within our domain. Let's try to write the code for the series of steps described above.\n",
      "\n",
      "Here is the function we will work with:\n",
      "\n",
      "    f(x) = x^0.5 + sin(x)\n",
      "    \n",
      "Let's define it and plot it so we have an idea of what we are looking at (Step 1)."
     ]
    },
    {
     "cell_type": "code",
     "collapsed": false,
     "input": [
      "f = lambda x: x**(0.5) + np.sin(x)"
     ],
     "language": "python",
     "metadata": {},
     "outputs": [],
     "prompt_number": 4
    },
    {
     "cell_type": "code",
     "collapsed": false,
     "input": [
      "x = np.arange(0.,15.,0.001)"
     ],
     "language": "python",
     "metadata": {},
     "outputs": [],
     "prompt_number": 5
    },
    {
     "cell_type": "code",
     "collapsed": false,
     "input": [
      "plt.plot(x,f(x),lw=3)\n",
      "plt.ylabel(r'$x^{1/2} + \\sin(x)$', fontsize=20)\n",
      "plt.xlabel(r'$x$', fontsize=20)\n",
      "plt.xlim(0.,15.)\n",
      "\n",
      "plt.show()"
     ],
     "language": "python",
     "metadata": {},
     "outputs": [
      {
       "metadata": {},
       "output_type": "display_data",
       "png": "[encoded data removed]",
       "text": [
        "<matplotlib.figure.Figure at 0xaa30048>"
       ]
      }
     ],
     "prompt_number": 6
    },
    {
     "cell_type": "markdown",
     "metadata": {},
     "source": [
      "Suppose we want to integrate this function between the limits (1.7,12.4). We can create the bounding box (step 2) for our random sampling from these limits and the maximum value of the function within that range.\n",
      "\n",
      "We want to create a mask that will select only values within our limits of integration and then find the maximum value of the function in that range to set the box."
     ]
    },
    {
     "cell_type": "code",
     "collapsed": false,
     "input": [
      "xmin = 1.7\n",
      "xmax = 12.4\n",
      "\n",
      "#find the maximum value of f within the boundary to set ymax\n",
      "subx = x[logical_and((x > xmin),(x < xmax))]\n",
      "ymax = f(subx).max()*1.05\n",
      "ymin = 0."
     ],
     "language": "python",
     "metadata": {},
     "outputs": [],
     "prompt_number": 8
    },
    {
     "cell_type": "markdown",
     "metadata": {},
     "source": [
      "Note that the use of the logical_and function to be able to set the mask with two constraints, rather than just one."
     ]
    },
    {
     "cell_type": "code",
     "collapsed": false,
     "input": [
      "#Replot the function\n",
      "plt.plot(x,f(x),lw=3)\n",
      "plt.ylabel(r'$x^{1/2} + \\sin(x)$',fontsize=20)\n",
      "plt.xlabel(r'$x$', fontsize = 20)\n",
      "plt.xlim(0.,15.)\n",
      "\n",
      "#plot the box\n",
      "plt.plot([xmin,xmin],[ymin,ymax],color ='k',linestyle='--')#vertical left\n",
      "plt.plot([xmax,xmax],[ymin,ymax],color ='k',linestyle='--')#vertical right\n",
      "plt.plot([xmin,xmax],[ymax,ymax],color ='k',linestyle='--')#horizontal top\n",
      "\n",
      "plt.show()"
     ],
     "language": "python",
     "metadata": {},
     "outputs": [
      {
       "metadata": {},
       "output_type": "display_data",
       "png": "[encoded data removed]",
       "text": [
        "<matplotlib.figure.Figure at 0xab32320>"
       ]
      }
     ],
     "prompt_number": 9
    },
    {
     "cell_type": "markdown",
     "metadata": {},
     "source": [
      "(Step 3) is to create random sample points within our boundary. You should investigate the random library in numpy. Let's create a set of sample points along the x and y axes. The random_sample() function returns random numbers within the bounds [0.,1.). The ) means it generates numbers up to the end of the range but not equal to it. In other words, for a random sample between 0. and 1. you will sometimes get 0. but never 1., only numbers very close to it, ie: 0.9999, etc."
     ]
    },
    {
     "cell_type": "code",
     "collapsed": false,
     "input": [
      "help(random_sample)"
     ],
     "language": "python",
     "metadata": {},
     "outputs": [
      {
       "output_type": "stream",
       "stream": "stdout",
       "text": [
        "Help on built-in function random_sample:\n",
        "\n",
        "random_sample(...)\n",
        "    random_sample(size=None)\n",
        "    \n",
        "    Return random floats in the half-open interval [0.0, 1.0).\n",
        "    \n",
        "    Results are from the \"continuous uniform\" distribution over the\n",
        "    stated interval.  To sample :math:`Unif[a, b), b > a` multiply\n",
        "    the output of `random_sample` by `(b-a)` and add `a`::\n",
        "    \n",
        "      (b - a) * random_sample() + a\n",
        "    \n",
        "    Parameters\n",
        "    ----------\n",
        "    size : int or tuple of ints, optional\n",
        "        Defines the shape of the returned array of random floats. If None\n",
        "        (the default), returns a single float.\n",
        "    \n",
        "    Returns\n",
        "    -------\n",
        "    out : float or ndarray of floats\n",
        "        Array of random floats of shape `size` (unless ``size=None``, in which\n",
        "        case a single float is returned).\n",
        "    \n",
        "    Examples\n",
        "    --------\n",
        "    >>> np.random.random_sample()\n",
        "    0.47108547995356098\n",
        "    >>> type(np.random.random_sample())\n",
        "    <type 'float'>\n",
        "    >>> np.random.random_sample((5,))\n",
        "    array([ 0.30220482,  0.86820401,  0.1654503 ,  0.11659149,  0.54323428])\n",
        "    \n",
        "    Three-by-two array of random numbers from [-5, 0):\n",
        "    \n",
        "    >>> 5 * np.random.random_sample((3, 2)) - 5\n",
        "    array([[-3.99149989, -0.52338984],\n",
        "           [-2.99091858, -0.79479508],\n",
        "           [-1.23204345, -1.75224494]])\n",
        "\n"
       ]
      }
     ],
     "prompt_number": 10
    },
    {
     "cell_type": "markdown",
     "metadata": {},
     "source": [
      "To get the values within our limits, we need to sacle and translate the values into our range, as suggested in the help:"
     ]
    },
    {
     "cell_type": "code",
     "collapsed": false,
     "input": [
      "N = 10000\n",
      "samples_x = xmin + (xmax-xmin)*np.random.random_sample(N)\n",
      "samples_y = ymin + (ymax-ymin)*np.random.random_sample(N);"
     ],
     "language": "python",
     "metadata": {},
     "outputs": [],
     "prompt_number": 11
    },
    {
     "cell_type": "code",
     "collapsed": false,
     "input": [
      "#Replot the function\n",
      "plt.plot(x,f(x),lw=3)\n",
      "plt.ylabel(r'$x^{1/2} + \\sin(x)$',fontsize=20)\n",
      "plt.xlabel(r'$x$', fontsize = 20)\n",
      "plt.xlim(0.,15.)\n",
      "\n",
      "#Plotting all of them is not recommended\n",
      "#plt.plot(samples_x,samples_y,'g.')\n",
      "\n",
      "#Just show the first 500 points or it gets hard to see\n",
      "plt.plot(samples_x[1:500],samples_y[1:500],'g.')\n",
      "\n",
      "#plot the box\n",
      "plt.plot([xmin, xmin], [ymin, ymax], color='k', linestyle='--') #vertical left\n",
      "plt.plot([xmax, xmax], [ymin, ymax], color='k', linestyle='--') #vertical right\n",
      "plt.plot([xmin, xmax], [ymax, ymax], color='k', linestyle='--') #horizontal top\n",
      "\n",
      "plt.show()"
     ],
     "language": "python",
     "metadata": {},
     "outputs": [
      {
       "metadata": {},
       "output_type": "display_data",
       "png": "[encoded data removed]",
       "text": [
        "<matplotlib.figure.Figure at 0xaf59208>"
       ]
      }
     ],
     "prompt_number": 12
    },
    {
     "cell_type": "markdown",
     "metadata": {},
     "source": [
      "The fraction of points (Xi,Yi) that satisfy the condition Yi <= f(Xi) is an estimate of the ration of the integral of f(x) to the area of the rectangle.\n",
      "\n",
      "Now we just have to keep track of those. We can try a mask on samples_y"
     ]
    },
    {
     "cell_type": "code",
     "collapsed": false,
     "input": [
      "newmask = (samples_y < f(samples_x))"
     ],
     "language": "python",
     "metadata": {},
     "outputs": [],
     "prompt_number": 13
    },
    {
     "cell_type": "code",
     "collapsed": false,
     "input": [
      "newmask.sum()"
     ],
     "language": "python",
     "metadata": {},
     "outputs": [
      {
       "metadata": {},
       "output_type": "pyout",
       "prompt_number": 14,
       "text": [
        "6204"
       ]
      }
     ],
     "prompt_number": 14
    },
    {
     "cell_type": "code",
     "collapsed": false,
     "input": [
      "#Replot the function\n",
      "plt.plot(x,f(x),lw=3)\n",
      "plt.ylabel(r'$x^{1/2} + \\sin(x)$',fontsize=20)\n",
      "plt.xlabel(r'$x$', fontsize = 20)\n",
      "plt.xlim(0.,15.)\n",
      "\n",
      "#Just show the first 500 points or it gets hard to see\n",
      "plt.plot(samples_x[1:500],samples_y[1:500],'.')\n",
      "\n",
      "#Use the mask to show the ones below the function in red\n",
      "plt.plot(samples_x[newmask[:500]],samples_y[newmask[:500]],'r.')\n",
      "\n",
      "#plot the box\n",
      "plt.plot([xmin, xmin], [ymin, ymax], color='k', linestyle='--') #vertical left\n",
      "plt.plot([xmax, xmax], [ymin, ymax], color='k', linestyle='--') #vertical right\n",
      "plt.plot([xmin, xmax], [ymax, ymax], color='k', linestyle='--') #horizontal top\n",
      "\n",
      "#plt.savefig(\"MCIntegration.png\")\n",
      "plt.show()"
     ],
     "language": "python",
     "metadata": {},
     "outputs": [
      {
       "metadata": {},
       "output_type": "display_data",
       "png": "[encoded data removed]",
       "text": [
        "<matplotlib.figure.Figure at 0xab54278>"
       ]
      }
     ],
     "prompt_number": 15
    },
    {
     "cell_type": "markdown",
     "metadata": {},
     "source": [
      "Now we can compute our integral from (Step 5): the area of the rectangle times the ratio of the number of red and green dots."
     ]
    },
    {
     "cell_type": "code",
     "collapsed": false,
     "input": [
      "I = (xmax - xmin)*(ymax-ymin)*newmask.sum() / newmask.size\n",
      "print I"
     ],
     "language": "python",
     "metadata": {},
     "outputs": [
      {
       "output_type": "stream",
       "stream": "stdout",
       "text": [
        "26.6141176566\n"
       ]
      }
     ],
     "prompt_number": 16
    },
    {
     "cell_type": "heading",
     "level": 1,
     "metadata": {},
     "source": [
      "Comparing to the exact solution"
     ]
    },
    {
     "cell_type": "markdown",
     "metadata": {},
     "source": [
      "How well did we do? Let's evaluate our exact function between the two endpoints.\n",
      "\n",
      "The exact (indefinite) analytical solution to our integral is\n",
      "\n",
      "    \u222bf(x)dx= \u222bx1/2dx+\u222bsin(x)dx=  \n",
      "            (2/3)x^1.5 \u2212 cos(x)\n",
      "We can evaluate this at the two endpoints to obtain the exact solution:"
     ]
    },
    {
     "cell_type": "code",
     "collapsed": false,
     "input": [
      "Iana = lambda x:(2./3.)* x**(3./2.) - np.cos(x)\n",
      "Iexact = Iana(xmax) - Iana(xmin)\n",
      "Ierr = 100*np.abs(Iexact-I)/Iexact\n",
      "\n",
      "print \"I_exact =\",Iexact\n",
      "print \"I_hitormiss =\",I\n",
      "print \"Error on I =\", Ierr,\"%\""
     ],
     "language": "python",
     "metadata": {},
     "outputs": [
      {
       "output_type": "stream",
       "stream": "stdout",
       "text": [
        "I_exact = 26.5172145362\n",
        "I_hitormiss = 26.6141176566\n",
        "Error on I = 0.36543476436 %\n"
       ]
      }
     ],
     "prompt_number": 17
    },
    {
     "cell_type": "markdown",
     "metadata": {},
     "source": [
      "Not too bad, but how many points would it take to reduce the error below 0.001%? Lets put our work into an interact object and explore the result as a function of N."
     ]
    },
    {
     "cell_type": "code",
     "collapsed": false,
     "input": [
      "from IPython.html.widgets import interact, interactive"
     ],
     "language": "python",
     "metadata": {},
     "outputs": [],
     "prompt_number": 18
    },
    {
     "cell_type": "code",
     "collapsed": false,
     "input": [
      "def hitOrMiss(N=10000, xmin =1.7, xmax=12.4):\n",
      "    \n",
      "    #Set up the function\n",
      "    f = lambda x: x**(0.5) + np.sin(x)\n",
      "    x = np.arange(0.,15.,0.001)\n",
      "    Iana = lambda x:(2./3.)* x**(3./2.) - np.cos(x)\n",
      "    Iexact = Iana(xmax) - Iana(xmin)\n",
      "    \n",
      "    #Find the maximum value of f within the boundary to set ymax\n",
      "    subx = x[logical_and((x > xmin),(x < xmax))]\n",
      "    ymax = f(subx).max()*1.05\n",
      "    ymin = 0.\n",
      "    \n",
      "    #Here's the integration part:\n",
      "    samples_x = xmin+(xmax-xmin)*np.random.random_sample(N);\n",
      "    samples_y = ymin+(ymax-ymin)*np.random.random_sample(N);\n",
      "    \n",
      "    newmask = (samples_y < f(samples_x))\n",
      "    I = (xmax-xmin)*(ymax-ymin)*newmask.sum()/newmask.size\n",
      "    Ierr = 100*np.abs(Iexact-I)/Iexact\n",
      "    \n",
      "    #Print our results:  \n",
      "    print \"I_exact =\",Iexact\n",
      "    print \"I_hitormiss =\",I\n",
      "    print \"Error on I =\",Ierr,\"%\"\n",
      "    \n",
      "    #Plot our function\n",
      "    plt.plot(x,f(x),lw=3)\n",
      "    plt.ylabel(r'$x^{1/2} + \\sin(x)$',fontsize=20)\n",
      "    plt.xlabel(r'$x$', fontsize = 20)\n",
      "    plt.xlim(0.,15.)\n",
      "    \n",
      "    #Just show the first 500 points or it gets hard to see\n",
      "    plt.plot(samples_x[1:500],samples_y[1:500],'g.')\n",
      "    \n",
      "    #Use the mask to show the ones below the function in red\n",
      "    plt.plot(samples_x[newmask[:500]],samples_y[newmask[:500]],'r.')\n",
      "\n",
      "    #plot the box\n",
      "    plt.plot([xmin, xmin], [ymin, ymax], color='k', linestyle='--') #vertical left\n",
      "    plt.plot([xmax, xmax], [ymin, ymax], color='k', linestyle='--') #vertical right\n",
      "    plt.plot([xmin, xmax], [ymax, ymax], color='k', linestyle='--') #horizontal top\n",
      "\n",
      "    plt.show()\n",
      "    \n",
      "v = interact(hitOrMiss,N=(1000,100000,100),xmin=(0.,15.,0.001),xmax=(0.,15.,0.001))"
     ],
     "language": "python",
     "metadata": {},
     "outputs": [
      {
       "output_type": "stream",
       "stream": "stdout",
       "text": [
        "I_exact = 26.5172145362\n",
        "I_hitormiss = 26.4949018419\n",
        "Error on I = 0.084144186002 %\n"
       ]
      },
      {
       "metadata": {},
       "output_type": "display_data",
       "png": "[encoded data removed]",
       "text": [
        "<matplotlib.figure.Figure at 0x46b7748>"
       ]
      }
     ],
     "prompt_number": 20
    },
    {
     "cell_type": "markdown",
     "metadata": {},
     "source": [
      "What do you observe when you vary the number of samples?\n",
      "\n",
      "It turns out that the uncertainty in the Monte Carlo integration result depends only in part on the number of samples. It also depnds on the variance in the function. For functions with rapidly changing values ( and hence, higher variance), increasing the random samples, well, \"randomly\", doesn't really help. To improve the results we would have to be selective about our random numbers. (Importance sampling would be a useful technique here.)"
     ]
    },
    {
     "cell_type": "heading",
     "level": 1,
     "metadata": {},
     "source": [
      "Sample mean Method"
     ]
    },
    {
     "cell_type": "markdown",
     "metadata": {},
     "source": [
      "The hit or miss method is not only (nor the most efficient) way to perform Monte Carlo Integration. There is another methodl, based on the mean-value or central-limit theorem of calculus, which states that the definite integral over an interval (a,b) is determined by the average value of the integrand f(x) in the range a <= x <= b\n",
      "\n",
      "To determine this average, we sample the xi at random (instead of at regular intervals) and compute the values of f(xi). For the one-dimensional integral \u222bf(x)dx, the estimate of the integral in the sample mean method is given by\n",
      "\n",
      "    I(sub N) =(b\u2212a)\u27e8f\u27e9\n",
      "\n",
      "with \u27e8f\u27e9 the usual definition of the mean:\n",
      "\n",
      "    \u27e8f\u27e9=(1/N) \u2211f(xi) [i=1, N]\n",
      "\n",
      "The xi are random numbers distributed uniformly in the interval a\u2264xi\u2264b, and N is the number of trials. This is formally identical to the rectangular approximation using regular, evenly spaced samples xi except that the N points are chosen with random spacing.\n",
      "\n",
      "We can estimate the uncertainty in our numerical result using\n",
      "\n",
      "    uncN=(b\u2212a) sqrt( \u27e8f^2\u27e9\u2212\u27e8f\u27e9^2 / N )\n",
      "\n",
      "which is related to the standard deviation of the randomly distributed values of f(xi). The fact that the uncertainty depends on 1sqrt(N) means we would have to increase our number of samples by a factor of 100 to improve the accuracy of the result by a factor of 10.\n",
      "Since the computation time will scale with the number of samples, if higher accuracy is desired, other techniques such as importance sampling are needed. Nevertheless, for higher dimensional integrals this random sampling method does a better job than the rectangular approximation, is more efficient, and easier to implement.\n",
      "\n",
      "o calculate the integral using the sample mean method, just take the randomly sampled xi values and compute the function at all of those points f(xi), take the average \u27e8f\u27e9, and multiply by the interval (b\u2212a) . This approximates the area under the curve reasonably well.\n",
      "\n",
      "Let's write some code to compute the integral of the function f(x)=x^0.5 +sin(x) and its uncertainty using the sample mean method for N=10000."
     ]
    },
    {
     "cell_type": "code",
     "collapsed": false,
     "input": [
      "def sampleMean(N=10000, xmin=1.7, xmax=12.4):\n",
      "    \n",
      "    #Set up the function\n",
      "    f = lambda x: x**(0.5) + np.sin(x)\n",
      "    x = np.arange(0.,15.,0.001)\n",
      "    Iana = lambda x: (2./3.)*x**(3./2.) - np.cos(x)\n",
      "    Iexact = Iana(xmax)-Iana(xmin)\n",
      "    \n",
      "    #############################\n",
      "    #Here's the integration part:\n",
      "    samples_x = xmin + (xmax-xmin)*np.random.random_sample(N);\n",
      "    \n",
      "    approx = f(samples_x)\n",
      "    I = approx.mean()*(xmax-xmin)\n",
      "\n",
      "    #Numerical uncertainty\n",
      "    Iunc = (xmax-xmin)*np.sqrt( ((approx**2).mean()-(approx.mean())**2)/N )\n",
      "\n",
      "    #Comparison with exact result\n",
      "    Ierr = 100*np.abs(Iexact-I)/Iexact\n",
      "    #############################\n",
      "    \n",
      "    #find the maximum value of f within the boundary to set ymax\n",
      "    ymax = approx.max()\n",
      "    ymin = 0.\n",
      "    \n",
      "    #Print our results\n",
      "    print \"I_exact =\", Iexact\n",
      "    print \"I_samplemean =\", I, \" +/- \",Iunc\n",
      "    print \"Error on I =\", Ierr, \"%\"\n",
      "\n",
      "    #Plot our function\n",
      "    plt.plot(x,f(x),lw=3)\n",
      "    plt.ylabel(r'$x^{1/2} + \\sin(x)$',fontsize=20)\n",
      "    plt.xlabel(r'$x$', fontsize = 20)\n",
      "    plt.xlim(0.,15.)\n",
      "\n",
      "    #plot the box\n",
      "    plt.plot([xmin, xmin], [ymin, ymax], color='k', linestyle='--') #vertical left\n",
      "    plt.plot([xmax, xmax], [ymin, ymax], color='k', linestyle='--') #vertical right\n",
      "    plt.plot([xmin, xmax], [ymax, ymax], color='k', linestyle='--') #horizontal top\n",
      "\n",
      "    #Plot the average value of the function from the samples on the same graph for comparison:\n",
      "    plt.plot((xmin,xmax),(approx.mean(),approx.mean()),'r-',label=\"Average value of function at sample points\")\n",
      "    plt.legend(loc=\"upper left\")\n",
      "    \n",
      "    plt.show()\n",
      "    \n",
      "v2 = interact(sampleMean,N=(1000,100000,100),xmin=(0.,15.,0.001),xmax=(0.,15.,0.001))\n"
     ],
     "language": "python",
     "metadata": {},
     "outputs": [
      {
       "output_type": "stream",
       "stream": "stdout",
       "text": [
        "I_exact = 27.7926647362\n",
        "I_samplemean = 27.7865848378  +/-  0.0623791524626\n",
        "Error on I = 0.0218759101963 %\n"
       ]
      },
      {
       "metadata": {},
       "output_type": "display_data",
       "png": "[encoded data removed]",
       "text": [
        "<matplotlib.figure.Figure at 0xab4bf28>"
       ]
      }
     ],
     "prompt_number": 21
    },
    {
     "cell_type": "markdown",
     "metadata": {},
     "source": [
      "The area under the average is approximately equal to the area under the curve. The uncertainty is still controlled by the variance of the function, but notice that we now have to sample half as many numbers to get a result that is nearly equivalent, if not a little better than our \"hit-or-miss\" method. This makes the sample mean method much more advantageous. Play with the xmin and xmax sliders to see how the function average and the boundary box change. For example, let xmin = ~7 and xmax = ~9. How do the estimated uncertainty and percent error compare when the function has smaller variance?"
     ]
    },
    {
     "cell_type": "heading",
     "level": 1,
     "metadata": {},
     "source": [
      "Multi-dimensional Integrals"
     ]
    },
    {
     "cell_type": "markdown",
     "metadata": {},
     "source": [
      "Many problems in physics involve averaging over many variables. For example, suppose we know the position and velocity dependence of the total energy of ten interacting particles. In three dimensions each particle has three velocity components and three position components. Hence the total energy is a function of 60 variables, and a calculation of the average energy per particle involves computing a d = 60 dimensional integral. (More accurately, the total energy is a function of 60 \u2212 6 = 54 variables if we use center of mass and relative coordinates.) If we divide each coordinate into p intervals, there would be p^60 points to sum. Clearly, standard numerical methods such as Simpson\u2019s rule would be impractical for this example.\n",
      "\n",
      "Because the computational time is roughly proportional to N in both the classical and Monte Carlo methods, for low dimensions, the classical numerical methods such as Simpson\u2019s rule are preferable to Monte Carlo methods unless the domain of integration is very complicated. However, the error in the conventional numerical methods increases with dimension, so Monte Carlo methods are essential for higher dimensional integrals.\n",
      "\n",
      "The general method for evaluating multidimensional integrals such as\n",
      "\n",
      "    I=\u222b\u222b\u222bf(x,y,z)dxdydz\n",
      "\n",
      "is the same as before. Form a volume that encloses the region of interest and randomly sample space points within the volume. Compute the average value of the function at each of those points and multiply by the total volume to get the estimate of the integral.\n",
      "\n",
      "For example, in 3 dimensions, we can solve\n",
      "\n",
      "    \u222bdx[0,9/10] \u222bdy[0,1] \u222bdz[0,11/10] \n",
      "            (4\u2212x2\u2212y2\u2212z2)\n",
      "\n",
      "which has exact solution 14817/5000=2.9634.\n",
      "\n",
      "Let's look at the evolution of the uncertainty as we increase the number of samples."
     ]
    },
    {
     "cell_type": "code",
     "collapsed": false,
     "input": [
      "fxyz = lambda x,y,z: 4. - x**2 - y**2 - z**2\n",
      "xa=0.; xb=9./10.\n",
      "ya=0.; yb=1.\n",
      "za=0.; zb=11./10.\n",
      "\n",
      "i = (10,100,1000,10000,100000,1000000)\n",
      "for N in i:\n",
      "    x = (xb-xa)*np.random.random_sample(N)\n",
      "    y = (yb-ya)*np.random.random_sample(N)\n",
      "    z = (zb-za)*np.random.random_sample(N)\n",
      "    \n",
      "    I = (xb-xa)*(yb-ya)*(zb-za)*fxyz(x,y,z).mean()\n",
      "    err = (xb-xa)*(yb-ya)*(zb-za)*np.sqrt(((fxyz(x,y,z)**2).mean() - (fxyz(x,y,z).mean())**2)/N)\n",
      "    exact = 14817./5000\n",
      "    \n",
      "    print \"Exact =\",exact, \"I =\",I, \"+/-\",err,\"percentErr=\", 100.*np.abs(I-exact)/exact"
     ],
     "language": "python",
     "metadata": {},
     "outputs": [
      {
       "output_type": "stream",
       "stream": "stdout",
       "text": [
        "Exact = 2.9634 I = 3.06910935258 +/- 0.130799953906 percentErr= 3.56716449289\n",
        "Exact = 2.9634 I = 2.96773946957 +/- 0.0545233998566 percentErr= 0.146435498909\n",
        "Exact = 2.9634 I = 2.95558595143 +/- 0.0164883764002 percentErr= 0.263685245524\n",
        "Exact = 2.9634 I = 2.96354061882 +/- 0.00513816073399 percentErr= 0.00474518518156\n",
        "Exact = 2.9634 I = 2.96146640705 +/- 0.00165394948549 percentErr= 0.0652491377615\n",
        "Exact ="
       ]
      },
      {
       "output_type": "stream",
       "stream": "stdout",
       "text": [
        " 2.9634 I = 2.96309950442 +/- 0.000521916882824 percentErr= 0.0101402301367\n"
       ]
      }
     ],
     "prompt_number": 22
    },
    {
     "cell_type": "markdown",
     "metadata": {},
     "source": [
      "The advantages for this method of integration are\n",
      "\n",
      " 1. The N-dependent part of the error stays the same (~1 / sqrt(N))\n",
      " 2. It is highly efficient because we only need to compute the mean and variance once for the whole function, instead of for each dimension individually.\n",
      " \n",
      "Let's try one in higher dimensions. We'll need more symbols to represent our growing number of coordinates so let's use the standard subscript notation xbar = (Xi) for i = 1,2,...n.\n",
      "\n",
      "\u222b7/10,0 dx1 \u222b4/5,0 dx2 \u222b9/10,0 dx3 \u222b1,0 dx4 \u222b11/10,0 dx5 (6\u2212x21\u2212x22\u2212x23\u2212x24\u2212x25)\n",
      "\n",
      "which has the exact solution 63987/25000 = 2.55948"
     ]
    },
    {
     "cell_type": "code",
     "collapsed": false,
     "input": [
      "func5D = lambda x1,x2,x3,x4,x5: 6 -x1**2 - x2**2 - x3**2 - x4**2 - x5**2\n",
      "\n",
      "L =7./10; W = 4./5; H = 9./10; P = 1.; Q =11./10\n",
      "\n",
      "exact = 63987./25000\n",
      "\n",
      "for N in (10,100,1000,10000,100000,1000000):\n",
      "    x1= L*np.random.random_sample(N)\n",
      "    x2= W*np.random.random_sample(N)\n",
      "    x3= H*np.random.random_sample(N)\n",
      "    x4= P*np.random.random_sample(N)\n",
      "    x5= Q*np.random.random_sample(N)\n",
      "    \n",
      "    I=(L*W*H*P*Q)*func5D(x1,x2,x3,x4,x5).mean()\n",
      "    unc=L*W*H*P*Q*np.sqrt((func5D(x1,x2,x3,x4,x5)**2).mean() - (func5D(x1,x2,x3,x4,x5).mean())**2)\n",
      "    err=100*np.abs(I-exact)/exact\n",
      "    \n",
      "    print \"Integral =%.f5, +/- %.6f, percent err = %.3f, N = %d\"%(I,unc,err,N)"
     ],
     "language": "python",
     "metadata": {},
     "outputs": [
      {
       "output_type": "stream",
       "stream": "stdout",
       "text": [
        "Integral =35, +/- 0.230073, percent err = 6.763, N = 10\n",
        "Integral =35, +/- 0.289022, percent err = 1.359, N = 100\n",
        "Integral =35, +/- 0.324305, percent err = 0.523, N = 1000\n",
        "Integral =35, +/- 0.320322, percent err = 0.092, N = 10000\n",
        "Integral =35, +/- 0.322122, percent err = 0.078, N = 100000\n",
        "Integral =35, +/- 0.321035, percent err = 0.005, N = 1000000"
       ]
      },
      {
       "output_type": "stream",
       "stream": "stdout",
       "text": [
        "\n"
       ]
      }
     ],
     "prompt_number": 24
    },
    {
     "cell_type": "markdown",
     "metadata": {},
     "source": [
      "And finally for a function with no exact solution:\n",
      "\n",
      "    \u222b7/10,0 dx1 \u222b4/5,0 dx2 \u222b9/10,0 dx3 \u222b1,0 dx4\n",
      "    \u222b11/10,0 dx5  sqrt(6\u2212x21\u2212x22\u2212x23\u2212x24\u2212x25)"
     ]
    },
    {
     "cell_type": "code",
     "collapsed": false,
     "input": [
      "func5D = lambda x1,x2,x3,x4,x5: np.sqrt(6 - x1**2 - x2**2 - x3**2 - x4**2 - x5**2)\n",
      "\n",
      "L=7./10\n",
      "W=4./5\n",
      "H=9./10\n",
      "P=1.\n",
      "Q=11./10\n",
      "\n",
      "for N in (10,100,1000,10000,100000,1000000):\n",
      "    x1 = L*np.random.random_sample(N)\n",
      "    x2 = W*np.random.random_sample(N)\n",
      "    x3 = H*np.random.random_sample(N)\n",
      "    x4 = P*np.random.random_sample(N)\n",
      "    x5 = Q*np.random.random_sample(N)\n",
      "\n",
      "    I = (L*W*H*P*Q)*func5D(x1,x2,x3,x4,x5).mean()\n",
      "    unc = L*W*H*P*Q*np.sqrt((func5D(x1,x2,x3,x4,x5)**2).mean() - (func5D(x1,x2,x3,x4,x5).mean())**2)\n",
      "    \n",
      "    print \"Integral=%.5f, +/- %.6f, N = %d\"%(I,unc,N)"
     ],
     "language": "python",
     "metadata": {},
     "outputs": [
      {
       "output_type": "stream",
       "stream": "stdout",
       "text": [
        "Integral=1.13267, +/- 0.104067, N = 10\n",
        "Integral=1.19675, +/- 0.068056, N = 100\n",
        "Integral=1.18330, +/- 0.077014, N = 1000\n",
        "Integral=1.18866, +/- 0.075903, N = 10000\n",
        "Integral=1.18910, +/- 0.075821, N = 100000\n",
        "Integral=1.18873, +/- 0.076062, N = 1000000"
       ]
      },
      {
       "output_type": "stream",
       "stream": "stdout",
       "text": [
        "\n"
       ]
      }
     ],
     "prompt_number": 26
    },
    {
     "cell_type": "markdown",
     "metadata": {},
     "source": [
      "The solution converges more quickly, suggesting that in this case the smoothness of the function dominates the uncertainty rather than the sample size."
     ]
    },
    {
     "cell_type": "code",
     "collapsed": false,
     "input": [],
     "language": "python",
     "metadata": {},
     "outputs": []
    }
   ],
   "metadata": {}
  }
 ]
}