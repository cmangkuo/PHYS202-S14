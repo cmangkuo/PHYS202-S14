{
 "metadata": {
  "name": "",
  "signature": "sha256:dc0d6270a7a9de7d17be107de46f3bd4e1196c045182a3b39d3f62e861bcefb4"
 },
 "nbformat": 3,
 "nbformat_minor": 0,
 "worksheets": [
  {
   "cells": [
    {
     "cell_type": "heading",
     "level": 1,
     "metadata": {},
     "source": [
      "Midterm"
     ]
    },
    {
     "cell_type": "heading",
     "level": 1,
     "metadata": {},
     "source": [
      "Question 1"
     ]
    },
    {
     "cell_type": "markdown",
     "metadata": {},
     "source": [
      "\n",
      "In Robert McCloskey\u2019s book Make Way for Ducklings, the names of the ducklings are Jack, Kack, Lack, Mack, Nack, Ouack, Pack, and Quack. This loop outputs these names in order:\n"
     ]
    },
    {
     "cell_type": "code",
     "collapsed": false,
     "input": [
      "prefixes = 'JKLMNOPQ' \n",
      "suffix = 'ack'\n",
      "for letter in prefixes: \n",
      "    print letter + suffix"
     ],
     "language": "python",
     "metadata": {},
     "outputs": [
      {
       "output_type": "stream",
       "stream": "stdout",
       "text": [
        "Jack\n",
        "Kack\n",
        "Lack\n",
        "Mack\n",
        "Nack\n",
        "Oack\n",
        "Pack\n",
        "Qack\n"
       ]
      }
     ],
     "prompt_number": 1
    },
    {
     "cell_type": "markdown",
     "metadata": {},
     "source": [
      "Of course, that\u2019s not quite right because \u201cOuack\u201d and \u201cQuack\u201d are misspelled.\n",
      "Modify the program to fix this error."
     ]
    },
    {
     "cell_type": "code",
     "collapsed": false,
     "input": [
      "#Implement your solution here\n",
      "prefixes = 'JKLMNOPQ' \n",
      "suffix = 'ack'\n",
      "for letter in prefixes:\n",
      "    if letter == \"Q\" or letter == \"O\":\n",
      "        letter += \"u\"\n",
      "    print letter + suffix"
     ],
     "language": "python",
     "metadata": {},
     "outputs": [
      {
       "output_type": "stream",
       "stream": "stdout",
       "text": [
        "Jack\n",
        "Kack\n",
        "Lack\n",
        "Mack\n",
        "Nack\n",
        "Ouack\n",
        "Pack\n",
        "Quack\n"
       ]
      }
     ],
     "prompt_number": 2
    },
    {
     "cell_type": "heading",
     "level": 1,
     "metadata": {},
     "source": [
      "Question 2"
     ]
    },
    {
     "cell_type": "markdown",
     "metadata": {},
     "source": [
      "Use ipythonblocks to create an 8x8 grid with the first initial of your last name embedded in it in a different color. Use slices and/or loops to set the values rather than setting each block by hand. Here is an example:\n",
      " "
     ]
    },
    {
     "cell_type": "code",
     "collapsed": false,
     "input": [
      "from ipythonblocks import BlockGrid"
     ],
     "language": "python",
     "metadata": {},
     "outputs": [],
     "prompt_number": 27
    },
    {
     "cell_type": "code",
     "collapsed": false,
     "input": [
      "grid = BlockGrid(8,8, fill = (123,234,123))"
     ],
     "language": "python",
     "metadata": {},
     "outputs": [],
     "prompt_number": 28
    },
    {
     "cell_type": "code",
     "collapsed": false,
     "input": [
      "grid"
     ],
     "language": "python",
     "metadata": {},
     "outputs": [
      {
       "html": [
        "<style type=\"text/css\">table.blockgrid {border: none;} .blockgrid tr {border: none;} .blockgrid td {padding: 0px;} #blocksfc38ac21-e62c-4cc8-bfbe-9f38dce37014 td {border: 1px solid white;}</style><table id=\"blocksfc38ac21-e62c-4cc8-bfbe-9f38dce37014\" class=\"blockgrid\"><tbody><tr><td title=\"Index: [0, 0]&#10;Color: (123, 234, 123)\" style=\"width: 20px; height: 20px;background-color: rgb(123, 234, 123);\"></td><td title=\"Index: [0, 1]&#10;Color: (123, 234, 123)\" style=\"width: 20px; height: 20px;background-color: rgb(123, 234, 123);\"></td><td title=\"Index: [0, 2]&#10;Color: (123, 234, 123)\" style=\"width: 20px; height: 20px;background-color: rgb(123, 234, 123);\"></td><td title=\"Index: [0, 3]&#10;Color: (123, 234, 123)\" style=\"width: 20px; height: 20px;background-color: rgb(123, 234, 123);\"></td><td title=\"Index: [0, 4]&#10;Color: (123, 234, 123)\" style=\"width: 20px; height: 20px;background-color: rgb(123, 234, 123);\"></td><td title=\"Index: [0, 5]&#10;Color: (123, 234, 123)\" style=\"width: 20px; height: 20px;background-color: rgb(123, 234, 123);\"></td><td title=\"Index: [0, 6]&#10;Color: (123, 234, 123)\" style=\"width: 20px; height: 20px;background-color: rgb(123, 234, 123);\"></td><td title=\"Index: [0, 7]&#10;Color: (123, 234, 123)\" style=\"width: 20px; height: 20px;background-color: rgb(123, 234, 123);\"></td></tr><tr><td title=\"Index: [1, 0]&#10;Color: (123, 234, 123)\" style=\"width: 20px; height: 20px;background-color: rgb(123, 234, 123);\"></td><td title=\"Index: [1, 1]&#10;Color: (123, 234, 123)\" style=\"width: 20px; height: 20px;background-color: rgb(123, 234, 123);\"></td><td title=\"Index: [1, 2]&#10;Color: (123, 234, 123)\" style=\"width: 20px; height: 20px;background-color: rgb(123, 234, 123);\"></td><td title=\"Index: [1, 3]&#10;Color: (123, 234, 123)\" style=\"width: 20px; height: 20px;background-color: rgb(123, 234, 123);\"></td><td title=\"Index: [1, 4]&#10;Color: (123, 234, 123)\" style=\"width: 20px; height: 20px;background-color: rgb(123, 234, 123);\"></td><td title=\"Index: [1, 5]&#10;Color: (123, 234, 123)\" style=\"width: 20px; height: 20px;background-color: rgb(123, 234, 123);\"></td><td title=\"Index: [1, 6]&#10;Color: (123, 234, 123)\" style=\"width: 20px; height: 20px;background-color: rgb(123, 234, 123);\"></td><td title=\"Index: [1, 7]&#10;Color: (123, 234, 123)\" style=\"width: 20px; height: 20px;background-color: rgb(123, 234, 123);\"></td></tr><tr><td title=\"Index: [2, 0]&#10;Color: (123, 234, 123)\" style=\"width: 20px; height: 20px;background-color: rgb(123, 234, 123);\"></td><td title=\"Index: [2, 1]&#10;Color: (123, 234, 123)\" style=\"width: 20px; height: 20px;background-color: rgb(123, 234, 123);\"></td><td title=\"Index: [2, 2]&#10;Color: (123, 234, 123)\" style=\"width: 20px; height: 20px;background-color: rgb(123, 234, 123);\"></td><td title=\"Index: [2, 3]&#10;Color: (123, 234, 123)\" style=\"width: 20px; height: 20px;background-color: rgb(123, 234, 123);\"></td><td title=\"Index: [2, 4]&#10;Color: (123, 234, 123)\" style=\"width: 20px; height: 20px;background-color: rgb(123, 234, 123);\"></td><td title=\"Index: [2, 5]&#10;Color: (123, 234, 123)\" style=\"width: 20px; height: 20px;background-color: rgb(123, 234, 123);\"></td><td title=\"Index: [2, 6]&#10;Color: (123, 234, 123)\" style=\"width: 20px; height: 20px;background-color: rgb(123, 234, 123);\"></td><td title=\"Index: [2, 7]&#10;Color: (123, 234, 123)\" style=\"width: 20px; height: 20px;background-color: rgb(123, 234, 123);\"></td></tr><tr><td title=\"Index: [3, 0]&#10;Color: (123, 234, 123)\" style=\"width: 20px; height: 20px;background-color: rgb(123, 234, 123);\"></td><td title=\"Index: [3, 1]&#10;Color: (123, 234, 123)\" style=\"width: 20px; height: 20px;background-color: rgb(123, 234, 123);\"></td><td title=\"Index: [3, 2]&#10;Color: (123, 234, 123)\" style=\"width: 20px; height: 20px;background-color: rgb(123, 234, 123);\"></td><td title=\"Index: [3, 3]&#10;Color: (123, 234, 123)\" style=\"width: 20px; height: 20px;background-color: rgb(123, 234, 123);\"></td><td title=\"Index: [3, 4]&#10;Color: (123, 234, 123)\" style=\"width: 20px; height: 20px;background-color: rgb(123, 234, 123);\"></td><td title=\"Index: [3, 5]&#10;Color: (123, 234, 123)\" style=\"width: 20px; height: 20px;background-color: rgb(123, 234, 123);\"></td><td title=\"Index: [3, 6]&#10;Color: (123, 234, 123)\" style=\"width: 20px; height: 20px;background-color: rgb(123, 234, 123);\"></td><td title=\"Index: [3, 7]&#10;Color: (123, 234, 123)\" style=\"width: 20px; height: 20px;background-color: rgb(123, 234, 123);\"></td></tr><tr><td title=\"Index: [4, 0]&#10;Color: (123, 234, 123)\" style=\"width: 20px; height: 20px;background-color: rgb(123, 234, 123);\"></td><td title=\"Index: [4, 1]&#10;Color: (123, 234, 123)\" style=\"width: 20px; height: 20px;background-color: rgb(123, 234, 123);\"></td><td title=\"Index: [4, 2]&#10;Color: (123, 234, 123)\" style=\"width: 20px; height: 20px;background-color: rgb(123, 234, 123);\"></td><td title=\"Index: [4, 3]&#10;Color: (123, 234, 123)\" style=\"width: 20px; height: 20px;background-color: rgb(123, 234, 123);\"></td><td title=\"Index: [4, 4]&#10;Color: (123, 234, 123)\" style=\"width: 20px; height: 20px;background-color: rgb(123, 234, 123);\"></td><td title=\"Index: [4, 5]&#10;Color: (123, 234, 123)\" style=\"width: 20px; height: 20px;background-color: rgb(123, 234, 123);\"></td><td title=\"Index: [4, 6]&#10;Color: (123, 234, 123)\" style=\"width: 20px; height: 20px;background-color: rgb(123, 234, 123);\"></td><td title=\"Index: [4, 7]&#10;Color: (123, 234, 123)\" style=\"width: 20px; height: 20px;background-color: rgb(123, 234, 123);\"></td></tr><tr><td title=\"Index: [5, 0]&#10;Color: (123, 234, 123)\" style=\"width: 20px; height: 20px;background-color: rgb(123, 234, 123);\"></td><td title=\"Index: [5, 1]&#10;Color: (123, 234, 123)\" style=\"width: 20px; height: 20px;background-color: rgb(123, 234, 123);\"></td><td title=\"Index: [5, 2]&#10;Color: (123, 234, 123)\" style=\"width: 20px; height: 20px;background-color: rgb(123, 234, 123);\"></td><td title=\"Index: [5, 3]&#10;Color: (123, 234, 123)\" style=\"width: 20px; height: 20px;background-color: rgb(123, 234, 123);\"></td><td title=\"Index: [5, 4]&#10;Color: (123, 234, 123)\" style=\"width: 20px; height: 20px;background-color: rgb(123, 234, 123);\"></td><td title=\"Index: [5, 5]&#10;Color: (123, 234, 123)\" style=\"width: 20px; height: 20px;background-color: rgb(123, 234, 123);\"></td><td title=\"Index: [5, 6]&#10;Color: (123, 234, 123)\" style=\"width: 20px; height: 20px;background-color: rgb(123, 234, 123);\"></td><td title=\"Index: [5, 7]&#10;Color: (123, 234, 123)\" style=\"width: 20px; height: 20px;background-color: rgb(123, 234, 123);\"></td></tr><tr><td title=\"Index: [6, 0]&#10;Color: (123, 234, 123)\" style=\"width: 20px; height: 20px;background-color: rgb(123, 234, 123);\"></td><td title=\"Index: [6, 1]&#10;Color: (123, 234, 123)\" style=\"width: 20px; height: 20px;background-color: rgb(123, 234, 123);\"></td><td title=\"Index: [6, 2]&#10;Color: (123, 234, 123)\" style=\"width: 20px; height: 20px;background-color: rgb(123, 234, 123);\"></td><td title=\"Index: [6, 3]&#10;Color: (123, 234, 123)\" style=\"width: 20px; height: 20px;background-color: rgb(123, 234, 123);\"></td><td title=\"Index: [6, 4]&#10;Color: (123, 234, 123)\" style=\"width: 20px; height: 20px;background-color: rgb(123, 234, 123);\"></td><td title=\"Index: [6, 5]&#10;Color: (123, 234, 123)\" style=\"width: 20px; height: 20px;background-color: rgb(123, 234, 123);\"></td><td title=\"Index: [6, 6]&#10;Color: (123, 234, 123)\" style=\"width: 20px; height: 20px;background-color: rgb(123, 234, 123);\"></td><td title=\"Index: [6, 7]&#10;Color: (123, 234, 123)\" style=\"width: 20px; height: 20px;background-color: rgb(123, 234, 123);\"></td></tr><tr><td title=\"Index: [7, 0]&#10;Color: (123, 234, 123)\" style=\"width: 20px; height: 20px;background-color: rgb(123, 234, 123);\"></td><td title=\"Index: [7, 1]&#10;Color: (123, 234, 123)\" style=\"width: 20px; height: 20px;background-color: rgb(123, 234, 123);\"></td><td title=\"Index: [7, 2]&#10;Color: (123, 234, 123)\" style=\"width: 20px; height: 20px;background-color: rgb(123, 234, 123);\"></td><td title=\"Index: [7, 3]&#10;Color: (123, 234, 123)\" style=\"width: 20px; height: 20px;background-color: rgb(123, 234, 123);\"></td><td title=\"Index: [7, 4]&#10;Color: (123, 234, 123)\" style=\"width: 20px; height: 20px;background-color: rgb(123, 234, 123);\"></td><td title=\"Index: [7, 5]&#10;Color: (123, 234, 123)\" style=\"width: 20px; height: 20px;background-color: rgb(123, 234, 123);\"></td><td title=\"Index: [7, 6]&#10;Color: (123, 234, 123)\" style=\"width: 20px; height: 20px;background-color: rgb(123, 234, 123);\"></td><td title=\"Index: [7, 7]&#10;Color: (123, 234, 123)\" style=\"width: 20px; height: 20px;background-color: rgb(123, 234, 123);\"></td></tr></tbody></table>"
       ],
       "metadata": {},
       "output_type": "pyout",
       "prompt_number": 29,
       "text": [
        "<ipythonblocks.ipythonblocks.BlockGrid at 0x10640aa10>"
       ]
      }
     ],
     "prompt_number": 29
    },
    {
     "cell_type": "code",
     "collapsed": false,
     "input": [
      "from ipythonblocks import colors"
     ],
     "language": "python",
     "metadata": {},
     "outputs": [],
     "prompt_number": 30
    },
    {
     "cell_type": "code",
     "collapsed": false,
     "input": [
      "grid[:,0] = colors['Aqua']\n",
      "grid[:,7] = colors['Aqua']\n",
      "grid[0,1] = colors['Aqua']\n",
      "grid[1,2] = colors['Aqua']\n",
      "grid[2,3] = colors['Aqua']\n",
      "grid[2,4] = colors['Aqua']\n",
      "grid[1,5] = colors['Aqua']\n",
      "grid[0,6] = colors['Aqua']\n",
      "grid"
     ],
     "language": "python",
     "metadata": {},
     "outputs": [
      {
       "html": [
        "<style type=\"text/css\">table.blockgrid {border: none;} .blockgrid tr {border: none;} .blockgrid td {padding: 0px;} #blocksa9d38e80-be4b-4bdd-9514-63dc302c2de7 td {border: 1px solid white;}</style><table id=\"blocksa9d38e80-be4b-4bdd-9514-63dc302c2de7\" class=\"blockgrid\"><tbody><tr><td title=\"Index: [0, 0]&#10;Color: (0, 255, 255)\" style=\"width: 20px; height: 20px;background-color: rgb(0, 255, 255);\"></td><td title=\"Index: [0, 1]&#10;Color: (0, 255, 255)\" style=\"width: 20px; height: 20px;background-color: rgb(0, 255, 255);\"></td><td title=\"Index: [0, 2]&#10;Color: (123, 234, 123)\" style=\"width: 20px; height: 20px;background-color: rgb(123, 234, 123);\"></td><td title=\"Index: [0, 3]&#10;Color: (123, 234, 123)\" style=\"width: 20px; height: 20px;background-color: rgb(123, 234, 123);\"></td><td title=\"Index: [0, 4]&#10;Color: (123, 234, 123)\" style=\"width: 20px; height: 20px;background-color: rgb(123, 234, 123);\"></td><td title=\"Index: [0, 5]&#10;Color: (123, 234, 123)\" style=\"width: 20px; height: 20px;background-color: rgb(123, 234, 123);\"></td><td title=\"Index: [0, 6]&#10;Color: (0, 255, 255)\" style=\"width: 20px; height: 20px;background-color: rgb(0, 255, 255);\"></td><td title=\"Index: [0, 7]&#10;Color: (0, 255, 255)\" style=\"width: 20px; height: 20px;background-color: rgb(0, 255, 255);\"></td></tr><tr><td title=\"Index: [1, 0]&#10;Color: (0, 255, 255)\" style=\"width: 20px; height: 20px;background-color: rgb(0, 255, 255);\"></td><td title=\"Index: [1, 1]&#10;Color: (123, 234, 123)\" style=\"width: 20px; height: 20px;background-color: rgb(123, 234, 123);\"></td><td title=\"Index: [1, 2]&#10;Color: (0, 255, 255)\" style=\"width: 20px; height: 20px;background-color: rgb(0, 255, 255);\"></td><td title=\"Index: [1, 3]&#10;Color: (123, 234, 123)\" style=\"width: 20px; height: 20px;background-color: rgb(123, 234, 123);\"></td><td title=\"Index: [1, 4]&#10;Color: (123, 234, 123)\" style=\"width: 20px; height: 20px;background-color: rgb(123, 234, 123);\"></td><td title=\"Index: [1, 5]&#10;Color: (0, 255, 255)\" style=\"width: 20px; height: 20px;background-color: rgb(0, 255, 255);\"></td><td title=\"Index: [1, 6]&#10;Color: (123, 234, 123)\" style=\"width: 20px; height: 20px;background-color: rgb(123, 234, 123);\"></td><td title=\"Index: [1, 7]&#10;Color: (0, 255, 255)\" style=\"width: 20px; height: 20px;background-color: rgb(0, 255, 255);\"></td></tr><tr><td title=\"Index: [2, 0]&#10;Color: (0, 255, 255)\" style=\"width: 20px; height: 20px;background-color: rgb(0, 255, 255);\"></td><td title=\"Index: [2, 1]&#10;Color: (123, 234, 123)\" style=\"width: 20px; height: 20px;background-color: rgb(123, 234, 123);\"></td><td title=\"Index: [2, 2]&#10;Color: (123, 234, 123)\" style=\"width: 20px; height: 20px;background-color: rgb(123, 234, 123);\"></td><td title=\"Index: [2, 3]&#10;Color: (0, 255, 255)\" style=\"width: 20px; height: 20px;background-color: rgb(0, 255, 255);\"></td><td title=\"Index: [2, 4]&#10;Color: (0, 255, 255)\" style=\"width: 20px; height: 20px;background-color: rgb(0, 255, 255);\"></td><td title=\"Index: [2, 5]&#10;Color: (123, 234, 123)\" style=\"width: 20px; height: 20px;background-color: rgb(123, 234, 123);\"></td><td title=\"Index: [2, 6]&#10;Color: (123, 234, 123)\" style=\"width: 20px; height: 20px;background-color: rgb(123, 234, 123);\"></td><td title=\"Index: [2, 7]&#10;Color: (0, 255, 255)\" style=\"width: 20px; height: 20px;background-color: rgb(0, 255, 255);\"></td></tr><tr><td title=\"Index: [3, 0]&#10;Color: (0, 255, 255)\" style=\"width: 20px; height: 20px;background-color: rgb(0, 255, 255);\"></td><td title=\"Index: [3, 1]&#10;Color: (123, 234, 123)\" style=\"width: 20px; height: 20px;background-color: rgb(123, 234, 123);\"></td><td title=\"Index: [3, 2]&#10;Color: (123, 234, 123)\" style=\"width: 20px; height: 20px;background-color: rgb(123, 234, 123);\"></td><td title=\"Index: [3, 3]&#10;Color: (123, 234, 123)\" style=\"width: 20px; height: 20px;background-color: rgb(123, 234, 123);\"></td><td title=\"Index: [3, 4]&#10;Color: (123, 234, 123)\" style=\"width: 20px; height: 20px;background-color: rgb(123, 234, 123);\"></td><td title=\"Index: [3, 5]&#10;Color: (123, 234, 123)\" style=\"width: 20px; height: 20px;background-color: rgb(123, 234, 123);\"></td><td title=\"Index: [3, 6]&#10;Color: (123, 234, 123)\" style=\"width: 20px; height: 20px;background-color: rgb(123, 234, 123);\"></td><td title=\"Index: [3, 7]&#10;Color: (0, 255, 255)\" style=\"width: 20px; height: 20px;background-color: rgb(0, 255, 255);\"></td></tr><tr><td title=\"Index: [4, 0]&#10;Color: (0, 255, 255)\" style=\"width: 20px; height: 20px;background-color: rgb(0, 255, 255);\"></td><td title=\"Index: [4, 1]&#10;Color: (123, 234, 123)\" style=\"width: 20px; height: 20px;background-color: rgb(123, 234, 123);\"></td><td title=\"Index: [4, 2]&#10;Color: (123, 234, 123)\" style=\"width: 20px; height: 20px;background-color: rgb(123, 234, 123);\"></td><td title=\"Index: [4, 3]&#10;Color: (123, 234, 123)\" style=\"width: 20px; height: 20px;background-color: rgb(123, 234, 123);\"></td><td title=\"Index: [4, 4]&#10;Color: (123, 234, 123)\" style=\"width: 20px; height: 20px;background-color: rgb(123, 234, 123);\"></td><td title=\"Index: [4, 5]&#10;Color: (123, 234, 123)\" style=\"width: 20px; height: 20px;background-color: rgb(123, 234, 123);\"></td><td title=\"Index: [4, 6]&#10;Color: (123, 234, 123)\" style=\"width: 20px; height: 20px;background-color: rgb(123, 234, 123);\"></td><td title=\"Index: [4, 7]&#10;Color: (0, 255, 255)\" style=\"width: 20px; height: 20px;background-color: rgb(0, 255, 255);\"></td></tr><tr><td title=\"Index: [5, 0]&#10;Color: (0, 255, 255)\" style=\"width: 20px; height: 20px;background-color: rgb(0, 255, 255);\"></td><td title=\"Index: [5, 1]&#10;Color: (123, 234, 123)\" style=\"width: 20px; height: 20px;background-color: rgb(123, 234, 123);\"></td><td title=\"Index: [5, 2]&#10;Color: (123, 234, 123)\" style=\"width: 20px; height: 20px;background-color: rgb(123, 234, 123);\"></td><td title=\"Index: [5, 3]&#10;Color: (123, 234, 123)\" style=\"width: 20px; height: 20px;background-color: rgb(123, 234, 123);\"></td><td title=\"Index: [5, 4]&#10;Color: (123, 234, 123)\" style=\"width: 20px; height: 20px;background-color: rgb(123, 234, 123);\"></td><td title=\"Index: [5, 5]&#10;Color: (123, 234, 123)\" style=\"width: 20px; height: 20px;background-color: rgb(123, 234, 123);\"></td><td title=\"Index: [5, 6]&#10;Color: (123, 234, 123)\" style=\"width: 20px; height: 20px;background-color: rgb(123, 234, 123);\"></td><td title=\"Index: [5, 7]&#10;Color: (0, 255, 255)\" style=\"width: 20px; height: 20px;background-color: rgb(0, 255, 255);\"></td></tr><tr><td title=\"Index: [6, 0]&#10;Color: (0, 255, 255)\" style=\"width: 20px; height: 20px;background-color: rgb(0, 255, 255);\"></td><td title=\"Index: [6, 1]&#10;Color: (123, 234, 123)\" style=\"width: 20px; height: 20px;background-color: rgb(123, 234, 123);\"></td><td title=\"Index: [6, 2]&#10;Color: (123, 234, 123)\" style=\"width: 20px; height: 20px;background-color: rgb(123, 234, 123);\"></td><td title=\"Index: [6, 3]&#10;Color: (123, 234, 123)\" style=\"width: 20px; height: 20px;background-color: rgb(123, 234, 123);\"></td><td title=\"Index: [6, 4]&#10;Color: (123, 234, 123)\" style=\"width: 20px; height: 20px;background-color: rgb(123, 234, 123);\"></td><td title=\"Index: [6, 5]&#10;Color: (123, 234, 123)\" style=\"width: 20px; height: 20px;background-color: rgb(123, 234, 123);\"></td><td title=\"Index: [6, 6]&#10;Color: (123, 234, 123)\" style=\"width: 20px; height: 20px;background-color: rgb(123, 234, 123);\"></td><td title=\"Index: [6, 7]&#10;Color: (0, 255, 255)\" style=\"width: 20px; height: 20px;background-color: rgb(0, 255, 255);\"></td></tr><tr><td title=\"Index: [7, 0]&#10;Color: (0, 255, 255)\" style=\"width: 20px; height: 20px;background-color: rgb(0, 255, 255);\"></td><td title=\"Index: [7, 1]&#10;Color: (123, 234, 123)\" style=\"width: 20px; height: 20px;background-color: rgb(123, 234, 123);\"></td><td title=\"Index: [7, 2]&#10;Color: (123, 234, 123)\" style=\"width: 20px; height: 20px;background-color: rgb(123, 234, 123);\"></td><td title=\"Index: [7, 3]&#10;Color: (123, 234, 123)\" style=\"width: 20px; height: 20px;background-color: rgb(123, 234, 123);\"></td><td title=\"Index: [7, 4]&#10;Color: (123, 234, 123)\" style=\"width: 20px; height: 20px;background-color: rgb(123, 234, 123);\"></td><td title=\"Index: [7, 5]&#10;Color: (123, 234, 123)\" style=\"width: 20px; height: 20px;background-color: rgb(123, 234, 123);\"></td><td title=\"Index: [7, 6]&#10;Color: (123, 234, 123)\" style=\"width: 20px; height: 20px;background-color: rgb(123, 234, 123);\"></td><td title=\"Index: [7, 7]&#10;Color: (0, 255, 255)\" style=\"width: 20px; height: 20px;background-color: rgb(0, 255, 255);\"></td></tr></tbody></table>"
       ],
       "metadata": {},
       "output_type": "pyout",
       "prompt_number": 32,
       "text": [
        "<ipythonblocks.ipythonblocks.BlockGrid at 0x10640aa10>"
       ]
      }
     ],
     "prompt_number": 32
    },
    {
     "cell_type": "heading",
     "level": 1,
     "metadata": {},
     "source": [
      "Question 3"
     ]
    },
    {
     "cell_type": "markdown",
     "metadata": {},
     "source": [
      "\"99 Bottles of Beer\" is a traditional song in the United States and Canada. It is popular to sing on long trips, as it has a very repetitive format which is easy to memorize, and can take a long time to sing. The song's simple lyrics are as follows:\n",
      "\n",
      "99 bottles of beer on the wall, 99 bottles of beer.  \n",
      "Take one down, pass it around, 98 bottles of beer on the wall.\n",
      "\n",
      "The same verse is repeated, each time with one fewer bottle. The song is completed when the singer or singers reach zero.\n",
      "Your task here is to write a program capable of generating all the verses of the song."
     ]
    },
    {
     "cell_type": "code",
     "collapsed": false,
     "input": [
      "def bottles_of_beer(n):\n",
      "    for i in range (0,n):\n",
      "        w = n-i\n",
      "        x = w - 1\n",
      "        print w ,\"bottles of beer on the wall, \" ,w ,\"bottles of beer.\"\n",
      "        print \"Take one down, pass it around, \" ,x , \"bottles of beer on the wall.\""
     ],
     "language": "python",
     "metadata": {},
     "outputs": [],
     "prompt_number": 8
    },
    {
     "cell_type": "code",
     "collapsed": false,
     "input": [
      "bottles_of_beer(2)"
     ],
     "language": "python",
     "metadata": {},
     "outputs": [
      {
       "output_type": "stream",
       "stream": "stdout",
       "text": [
        "2 bottles of beer on the wall,  2 bottles of beer.\n",
        "Take one down, pass it around,  1 bottles of beer on the wall.\n",
        "1 bottles of beer on the wall,  1 bottles of beer.\n",
        "Take one down, pass it around,  0 bottles of beer on the wall.\n"
       ]
      }
     ],
     "prompt_number": 9
    },
    {
     "cell_type": "code",
     "collapsed": false,
     "input": [
      "bottles_of_beer (99)"
     ],
     "language": "python",
     "metadata": {},
     "outputs": [
      {
       "output_type": "stream",
       "stream": "stdout",
       "text": [
        "99 bottles of beer on the wall,  99 bottles of beer.\n",
        "Take one down, pass it around,  98 bottles of beer on the wall.\n",
        "98 bottles of beer on the wall,  98 bottles of beer.\n",
        "Take one down, pass it around,  97 bottles of beer on the wall.\n",
        "97 bottles of beer on the wall,  97 bottles of beer.\n",
        "Take one down, pass it around,  96 bottles of beer on the wall.\n",
        "96 bottles of beer on the wall,  96 bottles of beer.\n",
        "Take one down, pass it around,  95 bottles of beer on the wall.\n",
        "95 bottles of beer on the wall,  95 bottles of beer.\n",
        "Take one down, pass it around,  94 bottles of beer on the wall.\n",
        "94 bottles of beer on the wall,  94 bottles of beer.\n",
        "Take one down, pass it around,  93 bottles of beer on the wall.\n",
        "93 bottles of beer on the wall,  93 bottles of beer.\n",
        "Take one down, pass it around,  92 bottles of beer on the wall.\n",
        "92 bottles of beer on the wall,  92 bottles of beer.\n",
        "Take one down, pass it around,  91 bottles of beer on the wall.\n",
        "91 bottles of beer on the wall,  91 bottles of beer.\n",
        "Take one down, pass it around,  90 bottles of beer on the wall.\n",
        "90 bottles of beer on the wall,  90 bottles of beer.\n",
        "Take one down, pass it around,  89 bottles of beer on the wall.\n",
        "89 bottles of beer on the wall,  89 bottles of beer.\n",
        "Take one down, pass it around,  88 bottles of beer on the wall.\n",
        "88 bottles of beer on the wall,  88 bottles of beer.\n",
        "Take one down, pass it around,  87 bottles of beer on the wall.\n",
        "87 bottles of beer on the wall,  87 bottles of beer.\n",
        "Take one down, pass it around,  86 bottles of beer on the wall.\n",
        "86 bottles of beer on the wall,  86 bottles of beer.\n",
        "Take one down, pass it around,  85 bottles of beer on the wall.\n",
        "85 bottles of beer on the wall,  85 bottles of beer.\n",
        "Take one down, pass it around,  84 bottles of beer on the wall.\n",
        "84 bottles of beer on the wall,  84 bottles of beer.\n",
        "Take one down, pass it around,  83 bottles of beer on the wall.\n",
        "83 bottles of beer on the wall,  83 bottles of beer.\n",
        "Take one down, pass it around,  82 bottles of beer on the wall.\n",
        "82 bottles of beer on the wall,  82 bottles of beer.\n",
        "Take one down, pass it around,  81 bottles of beer on the wall.\n",
        "81 bottles of beer on the wall,  81 bottles of beer.\n",
        "Take one down, pass it around,  80 bottles of beer on the wall.\n",
        "80 bottles of beer on the wall,  80 bottles of beer.\n",
        "Take one down, pass it around,  79 bottles of beer on the wall.\n",
        "79 bottles of beer on the wall,  79 bottles of beer.\n",
        "Take one down, pass it around,  78 bottles of beer on the wall.\n",
        "78 bottles of beer on the wall,  78 bottles of beer.\n",
        "Take one down, pass it around,  77 bottles of beer on the wall.\n",
        "77 bottles of beer on the wall,  77 bottles of beer.\n",
        "Take one down, pass it around,  76 bottles of beer on the wall.\n",
        "76 bottles of beer on the wall,  76 bottles of beer.\n",
        "Take one down, pass it around,  75 bottles of beer on the wall.\n",
        "75 bottles of beer on the wall,  75 bottles of beer.\n",
        "Take one down, pass it around,  74 bottles of beer on the wall.\n",
        "74 bottles of beer on the wall,  74 bottles of beer.\n",
        "Take one down, pass it around,  73 bottles of beer on the wall.\n",
        "73 bottles of beer on the wall,  73 bottles of beer.\n",
        "Take one down, pass it around,  72 bottles of beer on the wall.\n",
        "72 bottles of beer on the wall,  72 bottles of beer.\n",
        "Take one down, pass it around,  71 bottles of beer on the wall.\n",
        "71 bottles of beer on the wall,  71 bottles of beer.\n",
        "Take one down, pass it around,  70 bottles of beer on the wall.\n",
        "70 bottles of beer on the wall,  70 bottles of beer.\n",
        "Take one down, pass it around,  69 bottles of beer on the wall.\n",
        "69 bottles of beer on the wall,  69 bottles of beer.\n",
        "Take one down, pass it around,  68 bottles of beer on the wall.\n",
        "68 bottles of beer on the wall,  68 bottles of beer.\n",
        "Take one down, pass it around,  67 bottles of beer on the wall.\n",
        "67 bottles of beer on the wall,  67 bottles of beer.\n",
        "Take one down, pass it around,  66 bottles of beer on the wall.\n",
        "66 bottles of beer on the wall,  66 bottles of beer.\n",
        "Take one down, pass it around,  65 bottles of beer on the wall.\n",
        "65 bottles of beer on the wall,  65 bottles of beer.\n",
        "Take one down, pass it around,  64 bottles of beer on the wall.\n",
        "64 bottles of beer on the wall,  64 bottles of beer.\n",
        "Take one down, pass it around,  63 bottles of beer on the wall.\n",
        "63 bottles of beer on the wall,  63 bottles of beer.\n",
        "Take one down, pass it around,  62 bottles of beer on the wall.\n",
        "62 bottles of beer on the wall,  62 bottles of beer.\n",
        "Take one down, pass it around,  61 bottles of beer on the wall.\n",
        "61 bottles of beer on the wall,  61 bottles of beer.\n",
        "Take one down, pass it around,  60 bottles of beer on the wall.\n",
        "60 bottles of beer on the wall,  60 bottles of beer.\n",
        "Take one down, pass it around,  59 bottles of beer on the wall.\n",
        "59 bottles of beer on the wall,  59 bottles of beer.\n",
        "Take one down, pass it around,  58 bottles of beer on the wall.\n",
        "58 bottles of beer on the wall,  58 bottles of beer.\n",
        "Take one down, pass it around,  57 bottles of beer on the wall.\n",
        "57 bottles of beer on the wall,  57 bottles of beer.\n",
        "Take one down, pass it around,  56 bottles of beer on the wall.\n",
        "56 bottles of beer on the wall,  56 bottles of beer.\n",
        "Take one down, pass it around,  55 bottles of beer on the wall.\n",
        "55 bottles of beer on the wall,  55 bottles of beer.\n",
        "Take one down, pass it around,  54 bottles of beer on the wall.\n",
        "54 bottles of beer on the wall,  54 bottles of beer.\n",
        "Take one down, pass it around,  53 bottles of beer on the wall.\n",
        "53 bottles of beer on the wall,  53 bottles of beer.\n",
        "Take one down, pass it around,  52 bottles of beer on the wall.\n",
        "52 bottles of beer on the wall,  52 bottles of beer.\n",
        "Take one down, pass it around,  51 bottles of beer on the wall.\n",
        "51 bottles of beer on the wall,  51 bottles of beer.\n",
        "Take one down, pass it around,  50 bottles of beer on the wall.\n",
        "50 bottles of beer on the wall,  50 bottles of beer.\n",
        "Take one down, pass it around,  49 bottles of beer on the wall.\n",
        "49 bottles of beer on the wall,  49 bottles of beer.\n",
        "Take one down, pass it around,  48 bottles of beer on the wall.\n",
        "48 bottles of beer on the wall,  48 bottles of beer.\n",
        "Take one down, pass it around,  47 bottles of beer on the wall.\n",
        "47 bottles of beer on the wall,  47 bottles of beer.\n",
        "Take one down, pass it around,  46 bottles of beer on the wall.\n",
        "46 bottles of beer on the wall,  46 bottles of beer.\n",
        "Take one down, pass it around,  45 bottles of beer on the wall.\n",
        "45 bottles of beer on the wall,  45 bottles of beer.\n",
        "Take one down, pass it around,  44 bottles of beer on the wall.\n",
        "44 bottles of beer on the wall,  44 bottles of beer.\n",
        "Take one down, pass it around,  43 bottles of beer on the wall.\n",
        "43 bottles of beer on the wall,  43 bottles of beer.\n",
        "Take one down, pass it around,  42 bottles of beer on the wall.\n",
        "42 bottles of beer on the wall,  42 bottles of beer.\n",
        "Take one down, pass it around,  41 bottles of beer on the wall.\n",
        "41 bottles of beer on the wall,  41 bottles of beer.\n",
        "Take one down, pass it around,  40 bottles of beer on the wall.\n",
        "40 bottles of beer on the wall,  40 bottles of beer.\n",
        "Take one down, pass it around,  39 bottles of beer on the wall.\n",
        "39 bottles of beer on the wall,  39 bottles of beer.\n",
        "Take one down, pass it around,  38 bottles of beer on the wall.\n",
        "38 bottles of beer on the wall,  38 bottles of beer.\n",
        "Take one down, pass it around,  37 bottles of beer on the wall.\n",
        "37 bottles of beer on the wall,  37 bottles of beer.\n",
        "Take one down, pass it around,  36 bottles of beer on the wall.\n",
        "36 bottles of beer on the wall,  36 bottles of beer.\n",
        "Take one down, pass it around,  35 bottles of beer on the wall.\n",
        "35 bottles of beer on the wall,  35 bottles of beer.\n",
        "Take one down, pass it around,  34 bottles of beer on the wall.\n",
        "34 bottles of beer on the wall,  34 bottles of beer.\n",
        "Take one down, pass it around,  33 bottles of beer on the wall.\n",
        "33 bottles of beer on the wall,  33 bottles of beer.\n",
        "Take one down, pass it around,  32 bottles of beer on the wall.\n",
        "32 bottles of beer on the wall,  32 bottles of beer.\n",
        "Take one down, pass it around,  31 bottles of beer on the wall.\n",
        "31 bottles of beer on the wall,  31 bottles of beer.\n",
        "Take one down, pass it around,  30 bottles of beer on the wall.\n",
        "30 bottles of beer on the wall,  30 bottles of beer.\n",
        "Take one down, pass it around,  29 bottles of beer on the wall.\n",
        "29 bottles of beer on the wall,  29 bottles of beer.\n",
        "Take one down, pass it around,  28 bottles of beer on the wall.\n",
        "28 bottles of beer on the wall,  28 bottles of beer.\n",
        "Take one down, pass it around,  27 bottles of beer on the wall.\n",
        "27 bottles of beer on the wall,  27 bottles of beer.\n",
        "Take one down, pass it around,  26 bottles of beer on the wall.\n",
        "26 bottles of beer on the wall,  26 bottles of beer.\n",
        "Take one down, pass it around,  25 bottles of beer on the wall.\n",
        "25 bottles of beer on the wall,  25 bottles of beer.\n",
        "Take one down, pass it around,  24 bottles of beer on the wall.\n",
        "24 bottles of beer on the wall,  24 bottles of beer.\n",
        "Take one down, pass it around,  23 bottles of beer on the wall.\n",
        "23 bottles of beer on the wall,  23 bottles of beer.\n",
        "Take one down, pass it around,  22 bottles of beer on the wall.\n",
        "22 bottles of beer on the wall,  22 bottles of beer.\n",
        "Take one down, pass it around,  21 bottles of beer on the wall.\n",
        "21 bottles of beer on the wall,  21 bottles of beer.\n",
        "Take one down, pass it around,  20 bottles of beer on the wall.\n",
        "20 bottles of beer on the wall,  20 bottles of beer.\n",
        "Take one down, pass it around,  19 bottles of beer on the wall.\n",
        "19 bottles of beer on the wall,  19 bottles of beer.\n",
        "Take one down, pass it around,  18 bottles of beer on the wall.\n",
        "18 bottles of beer on the wall,  18 bottles of beer.\n",
        "Take one down, pass it around,  17 bottles of beer on the wall.\n",
        "17 bottles of beer on the wall,  17 bottles of beer.\n",
        "Take one down, pass it around,  16 bottles of beer on the wall.\n",
        "16 bottles of beer on the wall,  16 bottles of beer.\n",
        "Take one down, pass it around,  15 bottles of beer on the wall.\n",
        "15 bottles of beer on the wall,  15 bottles of beer.\n",
        "Take one down, pass it around,  14 bottles of beer on the wall.\n",
        "14 bottles of beer on the wall,  14 bottles of beer.\n",
        "Take one down, pass it around,  13 bottles of beer on the wall.\n",
        "13 bottles of beer on the wall,  13 bottles of beer.\n",
        "Take one down, pass it around,  12 bottles of beer on the wall.\n",
        "12 bottles of beer on the wall,  12 bottles of beer.\n",
        "Take one down, pass it around,  11 bottles of beer on the wall.\n",
        "11 bottles of beer on the wall,  11 bottles of beer.\n",
        "Take one down, pass it around,  10 bottles of beer on the wall.\n",
        "10 bottles of beer on the wall,  10 bottles of beer.\n",
        "Take one down, pass it around,  9 bottles of beer on the wall.\n",
        "9 bottles of beer on the wall,  9 bottles of beer.\n",
        "Take one down, pass it around,  8 bottles of beer on the wall.\n",
        "8 bottles of beer on the wall,  8 bottles of beer.\n",
        "Take one down, pass it around,  7 bottles of beer on the wall.\n",
        "7 bottles of beer on the wall,  7 bottles of beer.\n",
        "Take one down, pass it around,  6 bottles of beer on the wall.\n",
        "6 bottles of beer on the wall,  6 bottles of beer.\n",
        "Take one down, pass it around,  5 bottles of beer on the wall.\n",
        "5 bottles of beer on the wall,  5 bottles of beer.\n",
        "Take one down, pass it around,  4 bottles of beer on the wall.\n",
        "4 bottles of beer on the wall,  4 bottles of beer.\n",
        "Take one down, pass it around,  3 bottles of beer on the wall.\n",
        "3 bottles of beer on the wall,  3 bottles of beer.\n",
        "Take one down, pass it around,  2 bottles of beer on the wall.\n",
        "2 bottles of beer on the wall,  2 bottles of beer.\n",
        "Take one down, pass it around,  1 bottles of beer on the wall.\n",
        "1 bottles of beer on the wall,  1 bottles of beer.\n",
        "Take one down, pass it around,  0 bottles of beer on the wall.\n"
       ]
      }
     ],
     "prompt_number": 10
    },
    {
     "cell_type": "heading",
     "level": 1,
     "metadata": {},
     "source": [
      "Question 4"
     ]
    },
    {
     "cell_type": "markdown",
     "metadata": {},
     "source": [
      "Plot a simple graph of a sine function in the range 0 to 3 with a step size of 0.1.\n",
      "\n",
      "Make the line red.\n",
      "\n",
      "Add green diamond-shaped markers with size of 7.\n",
      "\n",
      "Include legible axis labels.\n",
      "\n",
      "Add a legend and a grid to the plot."
     ]
    },
    {
     "cell_type": "code",
     "collapsed": false,
     "input": [
      "%pylab inline\n",
      "from mpl_toolkits.mplot3d import Axes3D"
     ],
     "language": "python",
     "metadata": {},
     "outputs": [
      {
       "output_type": "stream",
       "stream": "stdout",
       "text": [
        "Populating the interactive namespace from numpy and matplotlib\n"
       ]
      },
      {
       "output_type": "stream",
       "stream": "stderr",
       "text": [
        "WARNING: pylab import has clobbered these variables: ['colors', 'grid']\n",
        "`%matplotlib` prevents importing * from pylab and numpy\n"
       ]
      }
     ],
     "prompt_number": 11
    },
    {
     "cell_type": "code",
     "collapsed": false,
     "input": [
      "dx = 0.1\n",
      "dy = 0.1\n",
      "x = np.arange(0,3, dx)\n",
      "y = np.sin(x)"
     ],
     "language": "python",
     "metadata": {},
     "outputs": [],
     "prompt_number": 12
    },
    {
     "cell_type": "code",
     "collapsed": false,
     "input": [
      "plt.plot (x,y)\n",
      "plt.show()"
     ],
     "language": "python",
     "metadata": {},
     "outputs": [
      {
       "metadata": {},
       "output_type": "display_data",
       "png": "[encoded data removed]",
       "text": [
        "<matplotlib.figure.Figure at 0x10655f310>"
       ]
      }
     ],
     "prompt_number": 13
    },
    {
     "cell_type": "code",
     "collapsed": false,
     "input": [
      "plt.plot(x,y, color = \"red\", linewidth = 2.5, linestyle = \"-\")"
     ],
     "language": "python",
     "metadata": {},
     "outputs": [
      {
       "metadata": {},
       "output_type": "pyout",
       "prompt_number": 14,
       "text": [
        "[<matplotlib.lines.Line2D at 0x106398250>]"
       ]
      },
      {
       "metadata": {},
       "output_type": "display_data",
       "png": "[encoded data removed]",
       "text": [
        "<matplotlib.figure.Figure at 0x1065903d0>"
       ]
      }
     ],
     "prompt_number": 14
    },
    {
     "cell_type": "code",
     "collapsed": false,
     "input": [],
     "language": "python",
     "metadata": {},
     "outputs": [],
     "prompt_number": 14
    },
    {
     "cell_type": "code",
     "collapsed": false,
     "input": [
      "plt.plot(x,y, color = 'red', linewidth = 2.5, linestyle = '-', label = 'sine')\n",
      "plt.plot(x,y, 'd' ,markersize = 5, color = 'green')\n",
      "plt.legend (loc = 'upper left')"
     ],
     "language": "python",
     "metadata": {},
     "outputs": [
      {
       "metadata": {},
       "output_type": "pyout",
       "prompt_number": 15,
       "text": [
        "<matplotlib.legend.Legend at 0x1063c27d0>"
       ]
      },
      {
       "metadata": {},
       "output_type": "display_data",
       "png": "[encoded data removed]",
       "text": [
        "<matplotlib.figure.Figure at 0x106587390>"
       ]
      }
     ],
     "prompt_number": 15
    },
    {
     "cell_type": "heading",
     "level": 1,
     "metadata": {},
     "source": [
      "Question 5"
     ]
    },
    {
     "cell_type": "markdown",
     "metadata": {},
     "source": [
      "Create a 100x5 NumPy array called arr of random floating point numbers between 10.7 and 36.2.\n",
      "\n",
      "Write the array to a file called numbers.txt as 5 columns separated by 2 spaces and formatted with 3 places after the decimal.\n",
      "\n",
      "Include a 3-line header that lists the date and time on line 2 (hint: try !date).\n",
      "\n",
      "\n",
      "Show the first 10 lines of the file using the !head command.\n",
      "\n",
      "Read the data back in from the file to a new floating point NumPy array called arr2 and use a slice to print the first ten lines of the array."
     ]
    },
    {
     "cell_type": "code",
     "collapsed": false,
     "input": [
      "import numpy as np\n",
      "np.set_printoptions(precision = 2)"
     ],
     "language": "python",
     "metadata": {},
     "outputs": [],
     "prompt_number": 16
    },
    {
     "cell_type": "code",
     "collapsed": false,
     "input": [
      "arr = np.random.uniform(10.7,36.2,[100,5])\n",
      "arr"
     ],
     "language": "python",
     "metadata": {},
     "outputs": [
      {
       "metadata": {},
       "output_type": "pyout",
       "prompt_number": 17,
       "text": [
        "array([[ 27.21,  33.38,  23.87,  21.56,  15.58],\n",
        "       [ 34.44,  31.76,  20.15,  34.14,  18.68],\n",
        "       [ 11.65,  11.91,  34.54,  20.78,  31.13],\n",
        "       [ 30.72,  33.75,  28.23,  32.58,  20.57],\n",
        "       [ 28.53,  18.84,  24.21,  28.45,  34.42],\n",
        "       [ 17.28,  23.7 ,  32.93,  23.37,  25.21],\n",
        "       [ 13.13,  33.14,  28.55,  35.41,  14.94],\n",
        "       [ 35.88,  28.59,  33.67,  24.85,  34.21],\n",
        "       [ 16.8 ,  19.63,  11.25,  34.65,  23.09],\n",
        "       [ 35.05,  24.1 ,  12.54,  21.43,  19.77],\n",
        "       [ 14.52,  18.84,  17.94,  22.47,  28.42],\n",
        "       [ 25.26,  34.01,  32.71,  34.13,  27.17],\n",
        "       [ 15.67,  34.78,  22.88,  14.73,  20.54],\n",
        "       [ 33.09,  17.15,  35.69,  20.13,  16.55],\n",
        "       [ 34.43,  16.43,  31.9 ,  15.09,  16.63],\n",
        "       [ 24.59,  35.59,  30.56,  31.24,  30.04],\n",
        "       [ 22.81,  26.68,  18.74,  23.21,  29.57],\n",
        "       [ 18.7 ,  33.55,  27.91,  28.35,  30.46],\n",
        "       [ 19.39,  20.45,  25.94,  19.75,  35.28],\n",
        "       [ 17.7 ,  22.16,  11.25,  34.26,  15.88],\n",
        "       [ 24.22,  35.61,  20.45,  21.1 ,  12.39],\n",
        "       [ 28.99,  25.52,  31.04,  21.12,  23.78],\n",
        "       [ 19.51,  29.65,  22.15,  29.64,  30.68],\n",
        "       [ 29.08,  18.04,  25.59,  25.97,  22.03],\n",
        "       [ 16.49,  19.17,  15.69,  18.52,  10.73],\n",
        "       [ 25.66,  12.97,  35.14,  20.57,  16.74],\n",
        "       [ 28.76,  22.14,  25.03,  10.91,  26.45],\n",
        "       [ 35.02,  34.89,  26.1 ,  24.74,  20.44],\n",
        "       [ 12.41,  10.82,  24.74,  22.3 ,  19.92],\n",
        "       [ 16.76,  29.02,  29.55,  11.6 ,  28.13],\n",
        "       [ 18.24,  17.12,  34.26,  16.73,  28.57],\n",
        "       [ 29.76,  12.72,  33.73,  20.48,  25.26],\n",
        "       [ 21.46,  36.15,  28.88,  25.41,  34.21],\n",
        "       [ 10.89,  10.88,  12.49,  33.49,  11.49],\n",
        "       [ 19.76,  23.37,  11.35,  12.59,  33.03],\n",
        "       [ 27.03,  25.9 ,  26.42,  32.78,  31.95],\n",
        "       [ 29.43,  13.14,  25.78,  10.82,  30.36],\n",
        "       [ 29.45,  25.32,  16.69,  30.84,  12.6 ],\n",
        "       [ 16.11,  26.16,  21.1 ,  20.31,  18.74],\n",
        "       [ 11.18,  28.12,  35.44,  29.45,  23.14],\n",
        "       [ 30.39,  32.77,  13.79,  34.22,  32.  ],\n",
        "       [ 18.99,  32.37,  33.78,  33.55,  35.24],\n",
        "       [ 33.51,  27.41,  32.32,  31.8 ,  12.04],\n",
        "       [ 30.57,  27.97,  35.38,  34.91,  17.94],\n",
        "       [ 32.93,  17.24,  14.9 ,  12.99,  12.57],\n",
        "       [ 31.76,  29.48,  19.96,  30.68,  21.86],\n",
        "       [ 20.05,  26.74,  19.62,  12.77,  31.47],\n",
        "       [ 32.22,  19.46,  16.14,  10.72,  13.72],\n",
        "       [ 25.51,  28.31,  29.19,  25.51,  14.09],\n",
        "       [ 24.71,  15.25,  19.25,  17.5 ,  11.65],\n",
        "       [ 24.38,  34.22,  14.65,  16.31,  21.14],\n",
        "       [ 32.99,  21.9 ,  18.36,  20.12,  22.37],\n",
        "       [ 17.24,  22.11,  30.91,  19.31,  16.21],\n",
        "       [ 30.4 ,  13.36,  31.49,  30.93,  25.99],\n",
        "       [ 22.58,  11.47,  23.73,  12.57,  28.57],\n",
        "       [ 14.86,  17.59,  27.03,  30.82,  17.36],\n",
        "       [ 31.99,  18.85,  21.28,  26.62,  29.05],\n",
        "       [ 18.66,  25.03,  31.85,  13.36,  32.97],\n",
        "       [ 15.73,  12.05,  19.31,  19.15,  29.02],\n",
        "       [ 29.21,  12.88,  32.07,  33.63,  31.71],\n",
        "       [ 15.53,  28.48,  12.11,  14.19,  33.47],\n",
        "       [ 19.37,  22.81,  11.86,  15.05,  18.93],\n",
        "       [ 12.92,  35.32,  17.8 ,  20.67,  27.17],\n",
        "       [ 12.57,  26.08,  11.89,  22.77,  17.47],\n",
        "       [ 34.78,  26.93,  19.88,  27.67,  35.8 ],\n",
        "       [ 15.99,  29.99,  19.36,  24.65,  32.27],\n",
        "       [ 26.44,  21.86,  28.56,  13.16,  30.19],\n",
        "       [ 20.74,  30.55,  10.9 ,  27.54,  15.86],\n",
        "       [ 22.52,  11.64,  23.63,  16.18,  22.87],\n",
        "       [ 13.7 ,  21.43,  32.86,  22.74,  33.86],\n",
        "       [ 16.86,  35.77,  12.  ,  34.09,  15.07],\n",
        "       [ 21.91,  15.06,  25.85,  17.14,  13.63],\n",
        "       [ 12.56,  19.15,  29.44,  26.13,  22.89],\n",
        "       [ 29.88,  14.18,  16.02,  33.6 ,  26.49],\n",
        "       [ 30.42,  18.37,  16.26,  18.17,  30.52],\n",
        "       [ 30.55,  30.67,  22.47,  29.17,  31.92],\n",
        "       [ 12.71,  13.99,  19.8 ,  18.99,  35.65],\n",
        "       [ 16.63,  12.29,  33.26,  35.98,  15.57],\n",
        "       [ 23.02,  22.22,  29.07,  24.45,  34.77],\n",
        "       [ 12.59,  12.58,  16.87,  30.96,  18.64],\n",
        "       [ 15.29,  21.43,  27.85,  22.59,  30.78],\n",
        "       [ 32.1 ,  16.39,  13.2 ,  34.26,  24.81],\n",
        "       [ 34.6 ,  20.71,  31.2 ,  28.1 ,  14.31],\n",
        "       [ 21.44,  35.84,  20.18,  19.06,  30.23],\n",
        "       [ 30.68,  17.7 ,  31.54,  21.83,  28.74],\n",
        "       [ 14.56,  20.13,  25.62,  29.4 ,  14.58],\n",
        "       [ 29.46,  27.54,  19.21,  13.33,  23.52],\n",
        "       [ 15.85,  25.87,  14.87,  19.59,  32.15],\n",
        "       [ 16.93,  12.27,  13.71,  26.75,  26.96],\n",
        "       [ 29.74,  23.79,  14.51,  29.51,  35.52],\n",
        "       [ 16.56,  11.16,  29.32,  29.58,  34.02],\n",
        "       [ 15.32,  12.91,  22.62,  14.04,  16.6 ],\n",
        "       [ 31.25,  22.1 ,  35.89,  18.48,  18.8 ],\n",
        "       [ 31.13,  26.86,  12.88,  29.9 ,  15.75],\n",
        "       [ 15.87,  29.93,  11.58,  29.61,  25.67],\n",
        "       [ 33.21,  32.12,  25.64,  30.76,  26.15],\n",
        "       [ 32.95,  36.13,  27.55,  21.78,  20.45],\n",
        "       [ 18.95,  31.25,  29.14,  20.55,  22.36],\n",
        "       [ 30.2 ,  34.08,  17.76,  16.86,  21.68],\n",
        "       [ 20.89,  31.04,  24.69,  19.92,  31.74]])"
       ]
      }
     ],
     "prompt_number": 17
    },
    {
     "cell_type": "code",
     "collapsed": false,
     "input": [
      "date = !date\n",
      "date = str(date)\n",
      "arr2 = np.zeros(500).reshape(100,5)\n",
      "np.savetxt('numbers.txt', arr, fmt = ('%5.3f'), header = date)\n"
     ],
     "language": "python",
     "metadata": {},
     "outputs": [],
     "prompt_number": 18
    },
    {
     "cell_type": "code",
     "collapsed": false,
     "input": [
      "!cat numbers.txt"
     ],
     "language": "python",
     "metadata": {},
     "outputs": [
      {
       "output_type": "stream",
       "stream": "stdout",
       "text": [
        "# ['Tue Apr 29 15:45:37 PDT 2014']\r\n",
        "27.208 33.380 23.868 21.558 15.578\r\n",
        "34.441 31.757 20.152 34.143 18.681\r\n",
        "11.651 11.913 34.535 20.780 31.133\r\n",
        "30.725 33.746 28.229 32.579 20.573\r\n",
        "28.526 18.841 24.211 28.445 34.418\r\n",
        "17.278 23.697 32.927 23.366 25.206\r\n",
        "13.129 33.137 28.553 35.406 14.939\r\n",
        "35.877 28.593 33.665 24.848 34.206\r\n",
        "16.802 19.630 11.251 34.646 23.088\r\n",
        "35.054 24.102 12.544 21.428 19.767\r\n",
        "14.519 18.839 17.943 22.466 28.421\r\n",
        "25.260 34.010 32.711 34.135 27.172\r\n",
        "15.672 34.777 22.876 14.734 20.543\r\n",
        "33.089 17.154 35.690 20.127 16.547\r\n",
        "34.431 16.435 31.898 15.088 16.632\r\n",
        "24.591 35.594 30.560 31.244 30.044\r\n",
        "22.807 26.683 18.737 23.205 29.572\r\n",
        "18.702 33.545 27.912 28.350 30.459\r\n",
        "19.392 20.447 25.938 19.748 35.277\r\n",
        "17.697 22.160 11.246 34.258 15.879\r\n",
        "24.215 35.609 20.446 21.105 12.390\r\n",
        "28.990 25.522 31.042 21.123 23.778\r\n",
        "19.515 29.652 22.151 29.642 30.679\r\n",
        "29.082 18.044 25.595 25.970 22.025\r\n",
        "16.485 19.170 15.686 18.523 10.727\r\n",
        "25.657 12.967 35.139 20.568 16.742\r\n",
        "28.755 22.142 25.031 10.910 26.451\r\n",
        "35.016 34.887 26.102 24.741 20.445\r\n",
        "12.406 10.817 24.740 22.301 19.921\r\n",
        "16.764 29.015 29.551 11.602 28.132\r\n",
        "18.240 17.117 34.260 16.726 28.575\r\n",
        "29.758 12.721 33.729 20.481 25.261\r\n",
        "21.459 36.151 28.876 25.412 34.208\r\n",
        "10.892 10.877 12.495 33.493 11.487\r\n",
        "19.760 23.369 11.350 12.588 33.027\r\n",
        "27.032 25.897 26.419 32.782 31.954\r\n",
        "29.426 13.136 25.779 10.824 30.363\r\n",
        "29.455 25.324 16.687 30.842 12.604\r\n",
        "16.111 26.160 21.101 20.311 18.736\r\n",
        "11.183 28.119 35.442 29.448 23.144\r\n",
        "30.389 32.765 13.787 34.224 31.996\r\n",
        "18.986 32.370 33.779 33.547 35.241\r\n",
        "33.512 27.410 32.323 31.796 12.039\r\n",
        "30.575 27.973 35.378 34.908 17.941\r\n",
        "32.928 17.241 14.903 12.986 12.572\r\n",
        "31.761 29.482 19.958 30.678 21.862\r\n",
        "20.054 26.736 19.619 12.769 31.473\r\n",
        "32.219 19.464 16.141 10.720 13.716\r\n",
        "25.511 28.310 29.193 25.505 14.086\r\n",
        "24.713 15.253 19.249 17.496 11.647\r\n",
        "24.385 34.223 14.649 16.309 21.136\r\n",
        "32.991 21.901 18.355 20.123 22.367\r\n",
        "17.235 22.110 30.907 19.306 16.207\r\n",
        "30.399 13.362 31.495 30.931 25.991\r\n",
        "22.581 11.470 23.727 12.572 28.567\r\n",
        "14.859 17.586 27.032 30.816 17.359\r\n",
        "31.991 18.855 21.284 26.624 29.045\r\n",
        "18.655 25.028 31.846 13.364 32.969\r\n",
        "15.730 12.049 19.308 19.148 29.020\r\n",
        "29.205 12.883 32.067 33.631 31.710\r\n",
        "15.529 28.480 12.107 14.192 33.472\r\n",
        "19.366 22.810 11.864 15.045 18.926\r\n",
        "12.922 35.324 17.798 20.671 27.168\r\n",
        "12.573 26.084 11.888 22.772 17.472\r\n",
        "34.783 26.928 19.878 27.669 35.803\r\n",
        "15.988 29.989 19.365 24.648 32.272\r\n",
        "26.440 21.865 28.564 13.161 30.194\r\n",
        "20.745 30.548 10.900 27.537 15.861\r\n",
        "22.517 11.635 23.631 16.178 22.870\r\n",
        "13.700 21.431 32.862 22.741 33.861\r\n",
        "16.857 35.766 11.996 34.094 15.071\r\n",
        "21.915 15.057 25.852 17.136 13.633\r\n",
        "12.558 19.152 29.437 26.130 22.894\r\n",
        "29.882 14.181 16.017 33.604 26.489\r\n",
        "30.423 18.368 16.261 18.173 30.523\r\n",
        "30.551 30.672 22.475 29.167 31.922\r\n",
        "12.711 13.985 19.803 18.991 35.647\r\n",
        "16.633 12.286 33.256 35.975 15.569\r\n",
        "23.021 22.223 29.065 24.451 34.771\r\n",
        "12.590 12.577 16.868 30.958 18.641\r\n",
        "15.288 21.433 27.846 22.592 30.777\r\n",
        "32.104 16.395 13.203 34.256 24.805\r\n",
        "34.596 20.709 31.197 28.102 14.308\r\n",
        "21.442 35.841 20.176 19.060 30.230\r\n",
        "30.675 17.696 31.542 21.833 28.739\r\n",
        "14.562 20.128 25.624 29.403 14.581\r\n",
        "29.461 27.536 19.214 13.327 23.523\r\n",
        "15.852 25.871 14.868 19.592 32.146\r\n",
        "16.935 12.272 13.711 26.754 26.960\r\n",
        "29.739 23.788 14.508 29.511 35.517\r\n",
        "16.559 11.160 29.324 29.582 34.025\r\n",
        "15.318 12.909 22.621 14.038 16.597\r\n",
        "31.255 22.099 35.888 18.478 18.795\r\n",
        "31.130 26.862 12.876 29.904 15.754\r\n",
        "15.870 29.934 11.577 29.608 25.669\r\n",
        "33.210 32.123 25.639 30.762 26.150\r\n",
        "32.946 36.127 27.550 21.783 20.446\r\n",
        "18.950 31.246 29.140 20.547 22.359\r\n",
        "30.198 34.081 17.765 16.855 21.679\r\n",
        "20.894 31.043 24.693 19.923 31.736\r\n"
       ]
      }
     ],
     "prompt_number": 19
    },
    {
     "cell_type": "code",
     "collapsed": false,
     "input": [
      "!head -10 numbers.txt"
     ],
     "language": "python",
     "metadata": {},
     "outputs": [
      {
       "output_type": "stream",
       "stream": "stdout",
       "text": [
        "# ['Tue Apr 29 15:45:37 PDT 2014']\r\n",
        "27.208 33.380 23.868 21.558 15.578\r\n",
        "34.441 31.757 20.152 34.143 18.681\r\n",
        "11.651 11.913 34.535 20.780 31.133\r\n",
        "30.725 33.746 28.229 32.579 20.573\r\n",
        "28.526 18.841 24.211 28.445 34.418\r\n",
        "17.278 23.697 32.927 23.366 25.206\r\n",
        "13.129 33.137 28.553 35.406 14.939\r\n",
        "35.877 28.593 33.665 24.848 34.206\r\n",
        "16.802 19.630 11.251 34.646 23.088\r\n"
       ]
      }
     ],
     "prompt_number": 20
    },
    {
     "cell_type": "code",
     "collapsed": false,
     "input": [
      "contents = !head -10 numbers.txt"
     ],
     "language": "python",
     "metadata": {},
     "outputs": [],
     "prompt_number": 21
    },
    {
     "cell_type": "code",
     "collapsed": false,
     "input": [
      "print contents"
     ],
     "language": "python",
     "metadata": {},
     "outputs": [
      {
       "output_type": "stream",
       "stream": "stdout",
       "text": [
        "[\"# ['Tue Apr 29 15:45:37 PDT 2014']\", '27.208 33.380 23.868 21.558 15.578', '34.441 31.757 20.152 34.143 18.681', '11.651 11.913 34.535 20.780 31.133', '30.725 33.746 28.229 32.579 20.573', '28.526 18.841 24.211 28.445 34.418', '17.278 23.697 32.927 23.366 25.206', '13.129 33.137 28.553 35.406 14.939', '35.877 28.593 33.665 24.848 34.206', '16.802 19.630 11.251 34.646 23.088']\n"
       ]
      }
     ],
     "prompt_number": 22
    },
    {
     "cell_type": "code",
     "collapsed": false,
     "input": [],
     "language": "python",
     "metadata": {},
     "outputs": []
    }
   ],
   "metadata": {}
  }
 ]
}