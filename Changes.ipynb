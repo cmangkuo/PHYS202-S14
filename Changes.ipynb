{
 "metadata": {
  "name": "",
  "signature": "sha256:b8f8f245ab49e1605bc692d0149c29f6981d422ded28ab91c508cfc0890c0c85"
 },
 "nbformat": 3,
 "nbformat_minor": 0,
 "worksheets": [
  {
   "cells": [
    {
     "cell_type": "code",
     "collapsed": false,
     "input": [
      "# Finds out the percent of the population happy with where they are\n",
      "def percentHappy():\n",
      "    numHappy = 0\n",
      "    for x in range(size):\n",
      "        for y in range(size):\n",
      "            n = Happiness[x,y]\n",
      "            if n == 1:\n",
      "                numHappy += 1\n",
      "    percentHappy = float(numHappy)*100 / totalAgents\n",
      "    return percentHappy\n",
      "\n",
      "def move(percentHappy=percentHappy()):\n",
      "    a,b,leastSatisfied,color = findMoveAgent()\n",
      "    if color == 'Red':\n",
      "        c,d,MostStatisfiedRed = CheckRedSatisfaction()\n",
      "        grid[c,d].red = 255\n",
      "        grid[c,d].blue = 0\n",
      "    elif color == 'Blue':\n",
      "        c,d,MostSatisfiedBlue = CheckBlueSatisfaction()\n",
      "        grid[c,d].red = 0\n",
      "        grid[c,d].blue = 255   \n",
      "    grid[c,d].green = 0\n",
      "    grid[a,b].red = grid[a,b].blue = grid[a,b].green = 255\n",
      "       \n",
      "        \n",
      "\n",
      "# One turn will allow as many movements as there are empty spaces\n",
      "def turn(percentHappy = percentHappy()):\n",
      "    n = numEmpty\n",
      "    while n != 0:\n",
      "        if percentHappy == 100.:\n",
      "            break\n",
      "        elif percentHappy != 100.:\n",
      "            move()\n",
      "            n -= 1\n",
      "    grid.show()\n",
      "    def percentHappy():\n",
      "        numHappy = 0\n",
      "        for x in range(size):\n",
      "            for y in range(size):\n",
      "                n = Happiness[x,y]\n",
      "                if n == 1:\n",
      "                    numHappy += 1\n",
      "        percentHappy = float(numHappy)*100 / totalAgents\n",
      "        return percentHappy\n",
      "    percentHappy = percentHappy()\n",
      "    print percentHappy\n",
      "\n",
      "\n",
      "    \n",
      "\n",
      "    \n",
      "turn()"
     ],
     "language": "python",
     "metadata": {},
     "outputs": []
    }
   ],
   "metadata": {}
  }
 ]
}