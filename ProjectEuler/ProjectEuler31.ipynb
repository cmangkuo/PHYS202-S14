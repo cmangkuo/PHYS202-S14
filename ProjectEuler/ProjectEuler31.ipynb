{
 "metadata": {
  "name": "",
  "signature": "sha256:128aa5bc12053d080c5bfe92b7a3bef0c39dfdf5fd7c0e117f4cfe9abdb44980"
 },
 "nbformat": 3,
 "nbformat_minor": 0,
 "worksheets": [
  {
   "cells": [
    {
     "cell_type": "code",
     "collapsed": false,
     "input": [
      "    "
     ],
     "language": "python",
     "metadata": {},
     "outputs": []
    }
   ],
   "metadata": {}
  }
 ]
}