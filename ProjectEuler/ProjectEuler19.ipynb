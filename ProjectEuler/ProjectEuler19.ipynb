{
 "metadata": {
  "name": "",
  "signature": "sha256:51abba6fc9048221eaffaf37621fe1b886afdf81093be59b898f90d8af8be7c0"
 },
 "nbformat": 3,
 "nbformat_minor": 0,
 "worksheets": [
  {
   "cells": [
    {
     "cell_type": "code",
     "collapsed": false,
     "input": [
      "print range(1,101)"
     ],
     "language": "python",
     "metadata": {},
     "outputs": [
      {
       "output_type": "stream",
       "stream": "stdout",
       "text": [
        "[1, 2, 3, 4, 5, 6, 7, 8, 9, 10, 11, 12, 13, 14, 15, 16, 17, 18, 19, 20, 21, 22, 23, 24, 25, 26, 27, 28, 29, 30, 31, 32, 33, 34, 35, 36, 37, 38, 39, 40, 41, 42, 43, 44, 45, 46, 47, 48, 49, 50, 51, 52, 53, 54, 55, 56, 57, 58, 59, 60, 61, 62, 63, 64, 65, 66, 67, 68, 69, 70, 71, 72, 73, 74, 75, 76, 77, 78, 79, 80, 81, 82, 83, 84, 85, 86, 87, 88, 89, 90, 91, 92, 93, 94, 95, 96, 97, 98, 99, 100]\n"
       ]
      }
     ],
     "prompt_number": 50
    },
    {
     "cell_type": "code",
     "collapsed": false,
     "input": [
      "# Setting a months array\n",
      "Apr = Jun = Nov = Sep = 30\n",
      "Jan = Mar = May = Jul = Aug = Oct = Dec = 31\n",
      "Feb = 28\n",
      "months = [Jan, Feb, Mar, Apr, May, Jun, Jul, Aug, Sep, Oct, Nov, Dec]\n",
      "\n",
      "# Testing the leap years\n",
      "print months\n",
      "print months[1]\n",
      "months[1] = 29\n",
      "print months\n",
      "months[1] = 28\n",
      "print months"
     ],
     "language": "python",
     "metadata": {},
     "outputs": [
      {
       "output_type": "stream",
       "stream": "stdout",
       "text": [
        "[31, 28, 31, 30, 31, 30, 31, 31, 30, 31, 30, 31]\n",
        "28\n",
        "[31, 29, 31, 30, 31, 30, 31, 31, 30, 31, 30, 31]\n",
        "[31, 28, 31, 30, 31, 30, 31, 31, 30, 31, 30, 31]\n"
       ]
      }
     ],
     "prompt_number": 51
    },
    {
     "cell_type": "code",
     "collapsed": false,
     "input": [
      "# Jan 1, 1901 was a tuesday (Setting range 1 to 7 with sunday as 1, and saturday as 7)\n",
      "initial = 3 # Tuesday\n",
      "sundays = 0\n",
      "for i in range (1,101):\n",
      "    if i%4 == 0:\n",
      "        months[1] = 29\n",
      "    else:\n",
      "        months[1] = 28\n",
      "    for n in months:\n",
      "        initial += (n%7)\n",
      "        initial %= 7\n",
      "        if initial == 1:\n",
      "            sundays += 1\n",
      "print \"There are\" ,sundays ,\"sundays on the first of the month in the 20th century.\""
     ],
     "language": "python",
     "metadata": {},
     "outputs": [
      {
       "output_type": "stream",
       "stream": "stdout",
       "text": [
        "There are 171 sundays on the first of the month in the 20th century.\n"
       ]
      }
     ],
     "prompt_number": 54
    },
    {
     "cell_type": "code",
     "collapsed": false,
     "input": [],
     "language": "python",
     "metadata": {},
     "outputs": [],
     "prompt_number": 52
    },
    {
     "cell_type": "code",
     "collapsed": false,
     "input": [],
     "language": "python",
     "metadata": {},
     "outputs": []
    }
   ],
   "metadata": {}
  }
 ]
}