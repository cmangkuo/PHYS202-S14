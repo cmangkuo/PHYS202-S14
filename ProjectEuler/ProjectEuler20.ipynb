{
 "metadata": {
  "name": "",
  "signature": "sha256:620db4c16cea5188fdfb212d6d18828b5ceb0725e72c92e74fa0f7e119ce855a"
 },
 "nbformat": 3,
 "nbformat_minor": 0,
 "worksheets": [
  {
   "cells": [
    {
     "cell_type": "code",
     "collapsed": false,
     "input": [
      "def factorial_sum(n):\n",
      "    \n",
      "    # Getting the factorial\n",
      "    prod = 1\n",
      "    for m in range (1,n+1):\n",
      "        prod *=m\n",
      "    print n,\"factorial =\",prod\n",
      "    \n",
      "    #Measuring the sum of the digits\n",
      "    num = str(prod)\n",
      "    numsum = 0\n",
      "    for letter in num:\n",
      "        numsum+=int(letter)\n",
      "    print \"The sum of the digits of\",n,\"factorial is\",numsum"
     ],
     "language": "python",
     "metadata": {},
     "outputs": [],
     "prompt_number": 13
    },
    {
     "cell_type": "code",
     "collapsed": false,
     "input": [
      "factorial_sum(10)"
     ],
     "language": "python",
     "metadata": {},
     "outputs": [
      {
       "output_type": "stream",
       "stream": "stdout",
       "text": [
        "10 factorial = 3628800\n",
        "The sum of the digits of 10 factorial is 27\n"
       ]
      }
     ],
     "prompt_number": 15
    },
    {
     "cell_type": "code",
     "collapsed": false,
     "input": [
      "factorial_sum(100)"
     ],
     "language": "python",
     "metadata": {},
     "outputs": [
      {
       "output_type": "stream",
       "stream": "stdout",
       "text": [
        "100 factorial = 93326215443944152681699238856266700490715968264381621468592963895217599993229915608941463976156518286253697920827223758251185210916864000000000000000000000000\n",
        "The sum of the digits of 100 factorial is 648\n"
       ]
      }
     ],
     "prompt_number": 16
    },
    {
     "cell_type": "code",
     "collapsed": false,
     "input": [],
     "language": "python",
     "metadata": {},
     "outputs": []
    }
   ],
   "metadata": {}
  }
 ]
}