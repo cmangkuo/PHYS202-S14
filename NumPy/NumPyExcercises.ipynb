{
 "metadata": {
  "name": "",
  "signature": "sha256:410b02ad8cce492f36951b1dc57e426405498b5d738181b355e901692b0665b2"
 },
 "nbformat": 3,
 "nbformat_minor": 0,
 "worksheets": [
  {
   "cells": [
    {
     "cell_type": "code",
     "collapsed": false,
     "input": [],
     "language": "python",
     "metadata": {},
     "outputs": []
    }
   ],
   "metadata": {}
  }
 ]
}